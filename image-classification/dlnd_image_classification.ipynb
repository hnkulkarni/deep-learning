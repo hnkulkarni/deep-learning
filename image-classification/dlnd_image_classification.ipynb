{
 "cells": [
  {
   "cell_type": "markdown",
   "metadata": {
    "collapsed": true,
    "deletable": true,
    "editable": true
   },
   "source": [
    "# Image Classification\n",
    "In this project, you'll classify images from the [CIFAR-10 dataset](https://www.cs.toronto.edu/~kriz/cifar.html).  The dataset consists of airplanes, dogs, cats, and other objects. You'll preprocess the images, then train a convolutional neural network on all the samples. The images need to be normalized and the labels need to be one-hot encoded.  You'll get to apply what you learned and build a convolutional, max pooling, dropout, and fully connected layers.  At the end, you'll get to see your neural network's predictions on the sample images.\n",
    "## Get the Data\n",
    "Run the following cell to download the [CIFAR-10 dataset for python](https://www.cs.toronto.edu/~kriz/cifar-10-python.tar.gz)."
   ]
  },
  {
   "cell_type": "code",
<<<<<<< HEAD
   "execution_count": 1,
   "metadata": {
    "collapsed": false,
    "deletable": true,
    "editable": true
   },
   "outputs": [
    {
     "name": "stdout",
     "output_type": "stream",
     "text": [
      "All files found!\n"
     ]
    }
   ],
=======
   "execution_count": null,
   "metadata": {},
   "outputs": [],
>>>>>>> d94980095d1187998e2e0544966bb417f031390f
   "source": [
    "\"\"\"\n",
    "DON'T MODIFY ANYTHING IN THIS CELL THAT IS BELOW THIS LINE\n",
    "\"\"\"\n",
    "from urllib.request import urlretrieve\n",
    "from os.path import isfile, isdir\n",
    "from tqdm import tqdm\n",
    "import problem_unittests as tests\n",
    "import tarfile\n",
    "\n",
    "cifar10_dataset_folder_path = 'cifar-10-batches-py'\n",
    "\n",
    "# Use Floyd's cifar-10 dataset if present\n",
    "floyd_cifar10_location = '/cifar/cifar-10-python.tar.gz'\n",
    "if isfile(floyd_cifar10_location):\n",
    "    tar_gz_path = floyd_cifar10_location\n",
    "else:\n",
    "    tar_gz_path = 'cifar-10-python.tar.gz'\n",
    "\n",
    "class DLProgress(tqdm):\n",
    "    last_block = 0\n",
    "\n",
    "    def hook(self, block_num=1, block_size=1, total_size=None):\n",
    "        self.total = total_size\n",
    "        self.update((block_num - self.last_block) * block_size)\n",
    "        self.last_block = block_num\n",
    "\n",
    "if not isfile(tar_gz_path):\n",
    "    with DLProgress(unit='B', unit_scale=True, miniters=1, desc='CIFAR-10 Dataset') as pbar:\n",
    "        urlretrieve(\n",
    "            'https://www.cs.toronto.edu/~kriz/cifar-10-python.tar.gz',\n",
    "            tar_gz_path,\n",
    "            pbar.hook)\n",
    "\n",
    "if not isdir(cifar10_dataset_folder_path):\n",
    "    with tarfile.open(tar_gz_path) as tar:\n",
    "        tar.extractall()\n",
    "        tar.close()\n",
    "\n",
    "\n",
    "tests.test_folder_path(cifar10_dataset_folder_path)"
   ]
  },
  {
   "cell_type": "markdown",
   "metadata": {
    "deletable": true,
    "editable": true
   },
   "source": [
    "## Explore the Data\n",
    "The dataset is broken into batches to prevent your machine from running out of memory.  The CIFAR-10 dataset consists of 5 batches, named `data_batch_1`, `data_batch_2`, etc.. Each batch contains the labels and images that are one of the following:\n",
    "* airplane\n",
    "* automobile\n",
    "* bird\n",
    "* cat\n",
    "* deer\n",
    "* dog\n",
    "* frog\n",
    "* horse\n",
    "* ship\n",
    "* truck\n",
    "\n",
    "Understanding a dataset is part of making predictions on the data.  Play around with the code cell below by changing the `batch_id` and `sample_id`. The `batch_id` is the id for a batch (1-5). The `sample_id` is the id for a image and label pair in the batch.\n",
    "\n",
    "Ask yourself \"What are all possible labels?\", \"What is the range of values for the image data?\", \"Are the labels in order or random?\".  Answers to questions like these will help you preprocess the data and end up with better predictions."
   ]
  },
  {
   "cell_type": "code",
<<<<<<< HEAD
   "execution_count": 2,
   "metadata": {
    "collapsed": false,
    "deletable": true,
    "editable": true
   },
   "outputs": [
    {
     "name": "stdout",
     "output_type": "stream",
     "text": [
      "\n",
      "Stats of batch 1:\n",
      "Samples: 10000\n",
      "Label Counts: {0: 1005, 1: 974, 2: 1032, 3: 1016, 4: 999, 5: 937, 6: 1030, 7: 1001, 8: 1025, 9: 981}\n",
      "First 20 Labels: [6, 9, 9, 4, 1, 1, 2, 7, 8, 3, 4, 7, 7, 2, 9, 9, 9, 3, 2, 6]\n",
      "\n",
      "Example of Image 5:\n",
      "Image - Min Value: 0 Max Value: 252\n",
      "Image - Shape: (32, 32, 3)\n",
      "Label - Label Id: 1 Name: automobile\n"
     ]
    },
    {
     "data": {
      "image/png": "iVBORw0KGgoAAAANSUhEUgAAAfoAAAH0CAYAAADVH+85AAAABHNCSVQICAgIfAhkiAAAAAlwSFlz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\nrkJggg==\n",
      "text/plain": [
       "<matplotlib.figure.Figure at 0x7f80f6021438>"
      ]
     },
     "metadata": {
      "image/png": {
       "height": 250,
       "width": 253
      }
     },
     "output_type": "display_data"
    }
   ],
=======
   "execution_count": null,
   "metadata": {},
   "outputs": [],
>>>>>>> d94980095d1187998e2e0544966bb417f031390f
   "source": [
    "%matplotlib inline\n",
    "%config InlineBackend.figure_format = 'retina'\n",
    "\n",
    "import helper\n",
    "import numpy as np\n",
    "\n",
    "# Explore the dataset\n",
    "batch_id = 1\n",
    "sample_id = 5\n",
    "helper.display_stats(cifar10_dataset_folder_path, batch_id, sample_id)"
   ]
  },
  {
   "cell_type": "markdown",
   "metadata": {
    "deletable": true,
    "editable": true
   },
   "source": [
    "## Implement Preprocess Functions\n",
    "### Normalize\n",
    "In the cell below, implement the `normalize` function to take in image data, `x`, and return it as a normalized Numpy array. The values should be in the range of 0 to 1, inclusive.  The return object should be the same shape as `x`."
   ]
  },
  {
   "cell_type": "code",
<<<<<<< HEAD
   "execution_count": 3,
   "metadata": {
    "collapsed": false,
    "deletable": true,
    "editable": true
   },
   "outputs": [
    {
     "name": "stdout",
     "output_type": "stream",
     "text": [
      "Tests Passed\n"
     ]
    }
   ],
=======
   "execution_count": null,
   "metadata": {},
   "outputs": [],
>>>>>>> d94980095d1187998e2e0544966bb417f031390f
   "source": [
    "def normalize(x):\n",
    "    \"\"\"\n",
    "    Normalize a list of sample image data in the range of 0 to 1\n",
    "    : x: List of image data.  The image shape is (32, 32, 3)\n",
    "    : return: Numpy array of normalize data\n",
    "    \"\"\"\n",
    "    # TODO: Implement Function\n",
    "    a = 0\n",
    "    b = 1\n",
    "    gray_min = 0\n",
    "    gray_max = 255\n",
    "    \n",
    "    normlz_val = a + ((x - gray_min ) * (b - a)/ (gray_max - gray_min))\n",
    "    \n",
    "    return normlz_val\n",
    "\n",
    "\n",
    "\"\"\"\n",
    "DON'T MODIFY ANYTHING IN THIS CELL THAT IS BELOW THIS LINE\n",
    "\"\"\"\n",
    "tests.test_normalize(normalize)"
   ]
  },
  {
   "cell_type": "markdown",
   "metadata": {
    "deletable": true,
    "editable": true
   },
   "source": [
    "### One-hot encode\n",
    "Just like the previous code cell, you'll be implementing a function for preprocessing.  This time, you'll implement the `one_hot_encode` function. The input, `x`, are a list of labels.  Implement the function to return the list of labels as One-Hot encoded Numpy array.  The possible values for labels are 0 to 9. The one-hot encoding function should return the same encoding for each value between each call to `one_hot_encode`.  Make sure to save the map of encodings outside the function.\n",
    "\n",
    "Hint: Don't reinvent the wheel."
   ]
  },
  {
   "cell_type": "code",
<<<<<<< HEAD
   "execution_count": 4,
   "metadata": {
    "collapsed": false,
    "deletable": true,
    "editable": true
   },
   "outputs": [
    {
     "name": "stdout",
     "output_type": "stream",
     "text": [
      "Tests Passed\n"
     ]
    }
   ],
=======
   "execution_count": null,
   "metadata": {},
   "outputs": [],
>>>>>>> d94980095d1187998e2e0544966bb417f031390f
   "source": [
    "from sklearn.preprocessing import LabelBinarizer, OneHotEncoder\n",
    "def one_hot_encode(x):\n",
    "    \"\"\"\n",
    "    One hot encode a list of sample labels. Return a one-hot encoded vector for each label.\n",
    "    : x: List of sample Labels\n",
    "    : return: Numpy array of one-hot encoded labels\n",
    "    \"\"\"\n",
    "    # TODO: Implement Function\n",
    "    #print(x)\n",
    "    encoder = LabelBinarizer()\n",
    "    encoder.fit(x)\n",
    "    encoder.classes_ = [0,1,2,3,4,5,6,7,8,9]\n",
    "  \n",
    "    x = encoder.transform(x)\n",
    "    \n",
    "    #Changing type to float32\n",
    "    x = x.astype(np.float32)\n",
    "    \n",
    "    return x\n",
    "\n",
    "\n",
    "\"\"\"\n",
    "DON'T MODIFY ANYTHING IN THIS CELL THAT IS BELOW THIS LINE\n",
    "\"\"\"\n",
    "tests.test_one_hot_encode(one_hot_encode)"
   ]
  },
  {
   "cell_type": "markdown",
   "metadata": {
    "deletable": true,
    "editable": true
   },
   "source": [
    "### Randomize Data\n",
    "As you saw from exploring the data above, the order of the samples are randomized.  It doesn't hurt to randomize it again, but you don't need to for this dataset."
   ]
  },
  {
   "cell_type": "markdown",
   "metadata": {
    "deletable": true,
    "editable": true
   },
   "source": [
    "## Preprocess all the data and save it\n",
    "Running the code cell below will preprocess all the CIFAR-10 data and save it to file. The code below also uses 10% of the training data for validation."
   ]
  },
  {
   "cell_type": "code",
<<<<<<< HEAD
   "execution_count": 5,
   "metadata": {
    "collapsed": false,
    "deletable": true,
    "editable": true
   },
=======
   "execution_count": null,
   "metadata": {},
>>>>>>> d94980095d1187998e2e0544966bb417f031390f
   "outputs": [],
   "source": [
    "\"\"\"\n",
    "DON'T MODIFY ANYTHING IN THIS CELL\n",
    "\"\"\"\n",
    "# Preprocess Training, Validation, and Testing Data\n",
    "helper.preprocess_and_save_data(cifar10_dataset_folder_path, normalize, one_hot_encode)"
   ]
  },
  {
   "cell_type": "markdown",
   "metadata": {
    "deletable": true,
    "editable": true
   },
   "source": [
    "# Check Point\n",
    "This is your first checkpoint.  If you ever decide to come back to this notebook or have to restart the notebook, you can start from here.  The preprocessed data has been saved to disk."
   ]
  },
  {
   "cell_type": "code",
   "execution_count": 6,
   "metadata": {
    "collapsed": true,
    "deletable": true,
    "editable": true
   },
   "outputs": [],
   "source": [
    "\"\"\"\n",
    "DON'T MODIFY ANYTHING IN THIS CELL\n",
    "\"\"\"\n",
    "import pickle\n",
    "import problem_unittests as tests\n",
    "import helper\n",
    "\n",
    "# Load the Preprocessed Validation data\n",
    "valid_features, valid_labels = pickle.load(open('preprocess_validation.p', mode='rb'))"
   ]
  },
  {
   "cell_type": "markdown",
   "metadata": {
    "deletable": true,
    "editable": true
   },
   "source": [
    "## Build the network\n",
    "For the neural network, you'll build each layer into a function.  Most of the code you've seen has been outside of functions. To test your code more thoroughly, we require that you put each layer in a function.  This allows us to give you better feedback and test for simple mistakes using our unittests before you submit your project.\n",
    "\n",
    ">**Note:** If you're finding it hard to dedicate enough time for this course each week, we've provided a small shortcut to this part of the project. In the next couple of problems, you'll have the option to use classes from the [TensorFlow Layers](https://www.tensorflow.org/api_docs/python/tf/layers) or [TensorFlow Layers (contrib)](https://www.tensorflow.org/api_guides/python/contrib.layers) packages to build each layer, except the layers you build in the \"Convolutional and Max Pooling Layer\" section.  TF Layers is similar to Keras's and TFLearn's abstraction to layers, so it's easy to pickup.\n",
    "\n",
    ">However, if you would like to get the most out of this course, try to solve all the problems _without_ using anything from the TF Layers packages. You **can** still use classes from other packages that happen to have the same name as ones you find in TF Layers! For example, instead of using the TF Layers version of the `conv2d` class, [tf.layers.conv2d](https://www.tensorflow.org/api_docs/python/tf/layers/conv2d), you would want to use the TF Neural Network version of `conv2d`, [tf.nn.conv2d](https://www.tensorflow.org/api_docs/python/tf/nn/conv2d). \n",
    "\n",
    "Let's begin!\n",
    "\n",
    "### Input\n",
    "The neural network needs to read the image data, one-hot encoded labels, and dropout keep probability. Implement the following functions\n",
    "* Implement `neural_net_image_input`\n",
    " * Return a [TF Placeholder](https://www.tensorflow.org/api_docs/python/tf/placeholder)\n",
    " * Set the shape using `image_shape` with batch size set to `None`.\n",
    " * Name the TensorFlow placeholder \"x\" using the TensorFlow `name` parameter in the [TF Placeholder](https://www.tensorflow.org/api_docs/python/tf/placeholder).\n",
    "* Implement `neural_net_label_input`\n",
    " * Return a [TF Placeholder](https://www.tensorflow.org/api_docs/python/tf/placeholder)\n",
    " * Set the shape using `n_classes` with batch size set to `None`.\n",
    " * Name the TensorFlow placeholder \"y\" using the TensorFlow `name` parameter in the [TF Placeholder](https://www.tensorflow.org/api_docs/python/tf/placeholder).\n",
    "* Implement `neural_net_keep_prob_input`\n",
    " * Return a [TF Placeholder](https://www.tensorflow.org/api_docs/python/tf/placeholder) for dropout keep probability.\n",
    " * Name the TensorFlow placeholder \"keep_prob\" using the TensorFlow `name` parameter in the [TF Placeholder](https://www.tensorflow.org/api_docs/python/tf/placeholder).\n",
    "\n",
    "These names will be used at the end of the project to load your saved model.\n",
    "\n",
    "Note: `None` for shapes in TensorFlow allow for a dynamic size."
   ]
  },
  {
   "cell_type": "code",
<<<<<<< HEAD
   "execution_count": 7,
   "metadata": {
    "collapsed": false,
    "deletable": true,
    "editable": true
   },
   "outputs": [
    {
     "name": "stdout",
     "output_type": "stream",
     "text": [
      "(32, 32, 3)\n",
      "Image Input Tests Passed.\n",
      "Label Input Tests Passed.\n",
      "Keep Prob Tests Passed.\n"
     ]
    }
   ],
=======
   "execution_count": null,
   "metadata": {},
   "outputs": [],
>>>>>>> d94980095d1187998e2e0544966bb417f031390f
   "source": [
    "import tensorflow as tf\n",
    "\n",
    "def neural_net_image_input(image_shape):\n",
    "    \"\"\"\n",
    "    Return a Tensor for a batch of image input\n",
    "    : image_shape: Shape of the images\n",
    "    : return: Tensor for image input.\n",
    "    \"\"\"\n",
    "    \n",
    "    print(image_shape)\n",
    "    # TODO: Implement Function\n",
    "    return tf.placeholder(tf.float32, [None, *image_shape], name='x')\n",
    "    \n",
    "\n",
    "def neural_net_label_input(n_classes):\n",
    "    \"\"\"\n",
    "    Return a Tensor for a batch of label input\n",
    "    : n_classes: Number of classes\n",
    "    : return: Tensor for label input.\n",
    "    \"\"\"\n",
    "    # TODO: Implement Function\n",
    "    return tf.placeholder(tf.float32, shape=[None, n_classes], name='y' )\n",
    "\n",
    "\n",
    "def neural_net_keep_prob_input():\n",
    "    \"\"\"\n",
    "    Return a Tensor for keep probability\n",
    "    : return: Tensor for keep probability.\n",
    "    \"\"\"\n",
    "    # TODO: Implement Function\n",
    "    return tf.placeholder(tf.float32, name='keep_prob')\n",
    "\n",
    "\n",
    "\"\"\"\n",
    "DON'T MODIFY ANYTHING IN THIS CELL THAT IS BELOW THIS LINE\n",
    "\"\"\"\n",
    "tf.reset_default_graph()\n",
    "tests.test_nn_image_inputs(neural_net_image_input)\n",
    "tests.test_nn_label_inputs(neural_net_label_input)\n",
    "tests.test_nn_keep_prob_inputs(neural_net_keep_prob_input)"
   ]
  },
  {
   "cell_type": "markdown",
   "metadata": {
    "deletable": true,
    "editable": true
   },
   "source": [
    "### Convolution and Max Pooling Layer\n",
    "Convolution layers have a lot of success with images. For this code cell, you should implement the function `conv2d_maxpool` to apply convolution then max pooling:\n",
    "* Create the weight and bias using `conv_ksize`, `conv_num_outputs` and the shape of `x_tensor`.\n",
    "* Apply a convolution to `x_tensor` using weight and `conv_strides`.\n",
    " * We recommend you use same padding, but you're welcome to use any padding.\n",
    "* Add bias\n",
    "* Add a nonlinear activation to the convolution.\n",
    "* Apply Max Pooling using `pool_ksize` and `pool_strides`.\n",
    " * We recommend you use same padding, but you're welcome to use any padding.\n",
    "\n",
    "**Note:** You **can't** use [TensorFlow Layers](https://www.tensorflow.org/api_docs/python/tf/layers) or [TensorFlow Layers (contrib)](https://www.tensorflow.org/api_guides/python/contrib.layers) for **this** layer, but you can still use TensorFlow's [Neural Network](https://www.tensorflow.org/api_docs/python/tf/nn) package. You may still use the shortcut option for all the **other** layers."
   ]
  },
  {
   "cell_type": "code",
<<<<<<< HEAD
   "execution_count": 8,
   "metadata": {
    "collapsed": false,
    "deletable": true,
    "editable": true
   },
   "outputs": [
    {
     "name": "stdout",
     "output_type": "stream",
     "text": [
      "Tests Passed\n"
     ]
    }
   ],
=======
   "execution_count": null,
   "metadata": {},
   "outputs": [],
>>>>>>> d94980095d1187998e2e0544966bb417f031390f
   "source": [
    "def conv2d_maxpool(x_tensor, conv_num_outputs, conv_ksize, conv_strides, pool_ksize, pool_strides):\n",
    "    \"\"\"\n",
    "    Apply convolution then max pooling to x_tensor\n",
    "    :param x_tensor: TensorFlow Tensor\n",
    "    :param conv_num_outputs: Number of outputs for the convolutional layer\n",
    "    :param conv_ksize: kernal size 2-D Tuple for the convolutional layer\n",
    "    :param conv_strides: Stride 2-D Tuple for convolution\n",
    "    :param pool_ksize: kernal size 2-D Tuple for pool\n",
    "    :param pool_strides: Stride 2-D Tuple for pool\n",
    "    : return: A tensor that represents convolution and max pooling of x_tensor\n",
    "    \"\"\"\n",
    "    # TODO: Implement Function\n",
    "    \n",
    "    weights = tf.Variable(tf.truncated_normal([conv_ksize[0],\n",
    "                                     conv_ksize[1],\n",
    "                                     x_tensor.get_shape().as_list()[-1],\n",
    "                                     conv_num_outputs]))\n",
    "\n",
    "    bias = tf.Variable(tf.zeros([conv_num_outputs]))\n",
    "\n",
    "    layer = tf.nn.conv2d(x_tensor, weights,\n",
    "                 strides=[1, conv_strides[0], conv_strides[1], 1],\n",
    "                 padding='SAME')\n",
    "\n",
    "    layer = tf.nn.bias_add(layer, bias)\n",
    "\n",
    "    layer = tf.nn.relu(layer)\n",
    "\n",
    "    layer = tf.nn.max_pool(layer, ksize=[1, pool_ksize[0], pool_ksize[1], 1],\n",
    "                          strides=[1, pool_strides[0], pool_strides[1], 1],\n",
    "                          padding='SAME')\n",
    "\n",
    "    return layer \n",
    "\n",
    "\n",
    "\"\"\"\n",
    "DON'T MODIFY ANYTHING IN THIS CELL THAT IS BELOW THIS LINE\n",
    "\"\"\"\n",
    "tests.test_con_pool(conv2d_maxpool)"
   ]
  },
  {
   "cell_type": "markdown",
   "metadata": {
    "deletable": true,
    "editable": true
   },
   "source": [
    "### Flatten Layer\n",
    "Implement the `flatten` function to change the dimension of `x_tensor` from a 4-D tensor to a 2-D tensor.  The output should be the shape (*Batch Size*, *Flattened Image Size*). Shortcut option: you can use classes from the [TensorFlow Layers](https://www.tensorflow.org/api_docs/python/tf/layers) or [TensorFlow Layers (contrib)](https://www.tensorflow.org/api_guides/python/contrib.layers) packages for this layer. For more of a challenge, only use other TensorFlow packages."
   ]
  },
  {
   "cell_type": "code",
<<<<<<< HEAD
   "execution_count": 9,
   "metadata": {
    "collapsed": false,
    "deletable": true,
    "editable": true
   },
   "outputs": [
    {
     "name": "stdout",
     "output_type": "stream",
     "text": [
      "Tests Passed\n"
     ]
    }
   ],
=======
   "execution_count": null,
   "metadata": {},
   "outputs": [],
>>>>>>> d94980095d1187998e2e0544966bb417f031390f
   "source": [
    "def flatten(x_tensor):\n",
    "    \"\"\"\n",
    "    Flatten x_tensor to (Batch Size, Flattened Image Size)\n",
    "    : x_tensor: A tensor of size (Batch Size, ...), where ... are the image dimensions.\n",
    "    : return: A tensor of size (Batch Size, Flattened Image Size).\n",
    "    \"\"\"\n",
    "    # TODO: Implement Function\n",
    "    \n",
    "    \n",
    "    flattened_layer = tf.contrib.layers.flatten(x_tensor)\n",
    "    \n",
    "    return flattened_layer\n",
    "\n",
    "\n",
    "\"\"\"\n",
    "DON'T MODIFY ANYTHING IN THIS CELL THAT IS BELOW THIS LINE\n",
    "\"\"\"\n",
    "tests.test_flatten(flatten)"
   ]
  },
  {
   "cell_type": "markdown",
   "metadata": {
    "deletable": true,
    "editable": true
   },
   "source": [
    "### Fully-Connected Layer\n",
    "Implement the `fully_conn` function to apply a fully connected layer to `x_tensor` with the shape (*Batch Size*, *num_outputs*). Shortcut option: you can use classes from the [TensorFlow Layers](https://www.tensorflow.org/api_docs/python/tf/layers) or [TensorFlow Layers (contrib)](https://www.tensorflow.org/api_guides/python/contrib.layers) packages for this layer. For more of a challenge, only use other TensorFlow packages."
   ]
  },
  {
   "cell_type": "code",
<<<<<<< HEAD
   "execution_count": 10,
   "metadata": {
    "collapsed": false,
    "deletable": true,
    "editable": true
   },
   "outputs": [
    {
     "name": "stdout",
     "output_type": "stream",
     "text": [
      "128\n",
      "Tests Passed\n"
     ]
    }
   ],
=======
   "execution_count": null,
   "metadata": {},
   "outputs": [],
>>>>>>> d94980095d1187998e2e0544966bb417f031390f
   "source": [
    "def fully_conn(x_tensor, num_outputs):\n",
    "    \"\"\"\n",
    "    Apply a fully connected layer to x_tensor using weight and bias\n",
    "    : x_tensor: A 2-D tensor where the first dimension is batch size.\n",
    "    : num_outputs: The number of output that the new tensor should be.\n",
    "    : return: A 2-D tensor where the second dimension is num_outputs.\n",
    "    \"\"\"\n",
    "    # TODO: Implement Function\n",
    "    \n",
    "    _, num_features = x_tensor.get_shape().as_list()\n",
    "    \n",
    "    print(num_features)\n",
    "    \n",
    "    weights = tf.Variable(tf.truncated_normal(shape=[num_features, num_outputs], mean=0.0, stddev=0.01))\n",
    "    bias = tf.Variable(tf.zeros(num_outputs))\n",
    "    \n",
    "    full_connected_layer = tf.add(tf.matmul(x_tensor, weights), bias)\n",
    "    full_connected_layer = tf.nn.relu(full_connected_layer)\n",
    "    return full_connected_layer\n",
    "\n",
    "\n",
    "\"\"\"\n",
    "DON'T MODIFY ANYTHING IN THIS CELL THAT IS BELOW THIS LINE\n",
    "\"\"\"\n",
    "tests.test_fully_conn(fully_conn)"
   ]
  },
  {
   "cell_type": "markdown",
   "metadata": {
    "deletable": true,
    "editable": true
   },
   "source": [
    "### Output Layer\n",
    "Implement the `output` function to apply a fully connected layer to `x_tensor` with the shape (*Batch Size*, *num_outputs*). Shortcut option: you can use classes from the [TensorFlow Layers](https://www.tensorflow.org/api_docs/python/tf/layers) or [TensorFlow Layers (contrib)](https://www.tensorflow.org/api_guides/python/contrib.layers) packages for this layer. For more of a challenge, only use other TensorFlow packages.\n",
    "\n",
    "**Note:** Activation, softmax, or cross entropy should **not** be applied to this."
   ]
  },
  {
   "cell_type": "code",
<<<<<<< HEAD
   "execution_count": 11,
   "metadata": {
    "collapsed": false,
    "deletable": true,
    "editable": true
   },
   "outputs": [
    {
     "name": "stdout",
     "output_type": "stream",
     "text": [
      "Tests Passed\n"
     ]
    }
   ],
=======
   "execution_count": null,
   "metadata": {},
   "outputs": [],
>>>>>>> d94980095d1187998e2e0544966bb417f031390f
   "source": [
    "def output(x_tensor, num_outputs):\n",
    "    \"\"\"\n",
    "    Apply a output layer to x_tensor using weight and bias\n",
    "    : x_tensor: A 2-D tensor where the first dimension is batch size.\n",
    "    : num_outputs: The number of output that the new tensor should be.\n",
    "    : return: A 2-D tensor where the second dimension is num_outputs.\n",
    "    \"\"\"\n",
    "    # TODO: Implement Function\n",
    "    _, num_features = x_tensor.get_shape().as_list()\n",
    "    weights = tf.Variable(tf.truncated_normal(shape=[num_features, num_outputs], mean=0.0, stddev=0.01))\n",
    "    bias = tf.Variable(tf.zeros(num_outputs))\n",
    "    \n",
    "    output_layer = tf.add( tf.matmul(x_tensor, weights), bias )\n",
    "    \n",
    "    return output_layer\n",
    "\n",
    "\n",
    "\"\"\"\n",
    "DON'T MODIFY ANYTHING IN THIS CELL THAT IS BELOW THIS LINE\n",
    "\"\"\"\n",
    "tests.test_output(output)"
   ]
  },
  {
   "cell_type": "markdown",
   "metadata": {
    "deletable": true,
    "editable": true
   },
   "source": [
    "### Create Convolutional Model\n",
    "Implement the function `conv_net` to create a convolutional neural network model. The function takes in a batch of images, `x`, and outputs logits.  Use the layers you created above to create this model:\n",
    "\n",
    "* Apply 1, 2, or 3 Convolution and Max Pool layers\n",
    "* Apply a Flatten Layer\n",
    "* Apply 1, 2, or 3 Fully Connected Layers\n",
    "* Apply an Output Layer\n",
    "* Return the output\n",
    "* Apply [TensorFlow's Dropout](https://www.tensorflow.org/api_docs/python/tf/nn/dropout) to one or more layers in the model using `keep_prob`. "
   ]
  },
  {
   "cell_type": "code",
<<<<<<< HEAD
   "execution_count": 12,
   "metadata": {
    "collapsed": false,
    "deletable": true,
    "editable": true
   },
   "outputs": [
    {
     "name": "stdout",
     "output_type": "stream",
     "text": [
      "(32, 32, 3)\n",
      "256\n",
      "256\n",
      "128\n",
      "256\n",
      "256\n",
      "128\n",
      "Neural Network Built!\n"
     ]
    }
   ],
=======
   "execution_count": null,
   "metadata": {},
   "outputs": [],
>>>>>>> d94980095d1187998e2e0544966bb417f031390f
   "source": [
    "def conv_net(x, keep_prob):\n",
    "    \"\"\"\n",
    "    Create a convolutional neural network model\n",
    "    : x: Placeholder tensor that holds image data.\n",
    "    : keep_prob: Placeholder tensor that hold dropout keep probability.\n",
    "    : return: Tensor that represents logits\n",
    "    \"\"\"\n",
    "    # TODO: Apply 1, 2, or 3 Convolution and Max Pool layers\n",
    "    #    Play around with different number of outputs, kernel size and stride\n",
    "    # Function Definition from Above:\n",
    "    #    conv2d_maxpool(x_tensor, conv_num_outputs, conv_ksize, conv_strides, pool_ksize, pool_strides)\n",
    "    num_outputs = 256\n",
    "    conv_ksize = [3, 3]\n",
    "    conv_strides = [1,1]\n",
    "    pool_ksize = [2, 2]\n",
    "    pool_strides = [2, 2]\n",
    "    \n",
    "    layer = conv2d_maxpool(x, num_outputs, conv_ksize, conv_strides, pool_ksize, pool_strides)\n",
    "\n",
    "    \n",
    "    \n",
    "    num_outputs = 128\n",
    "    conv_ksize = [3, 3]\n",
    "    conv_strides = [1,1]\n",
    "    pool_ksize = [2, 2]\n",
    "    pool_strides = [2, 2]\n",
    "    \n",
    "    layer = conv2d_maxpool(layer, num_outputs, conv_ksize, conv_strides, pool_ksize, pool_strides)\n",
    "\n",
    "    \n",
    "    \n",
    "    num_outputs = 64\n",
    "    conv_ksize = [3, 3]\n",
    "    conv_strides = [2,2]\n",
    "    pool_ksize = [2, 2]\n",
    "    pool_strides = [2, 2]\n",
    "    \n",
    "    layer = conv2d_maxpool(layer, num_outputs, conv_ksize, conv_strides, pool_ksize, pool_strides)\n",
    "\n",
    "    \n",
    "\n",
    "    # TODO: Apply a Flatten Layer\n",
    "    # Function Definition from Above:\n",
    "    #   flatten(x_tensor)\n",
    "    \n",
    "    layer = flatten(layer)\n",
    "\n",
    "    # TODO: Apply 1, 2, or 3 Fully Connected Layers\n",
    "    #    Play around with different number of outputs\n",
    "    # Function Definition from Above:\n",
    "    #   fully_conn(x_tensor, num_outputs)\n",
    "        \n",
    "    num_outputs = 256\n",
    "    layer = fully_conn(layer, num_outputs)\n",
    "    layer = tf.nn.dropout(layer, keep_prob=keep_prob)\n",
    "    \n",
    "    num_outputs = 128\n",
    "    layer = fully_conn(layer, num_outputs)\n",
    "    layer = tf.nn.dropout(layer, keep_prob=keep_prob)\n",
    "    \n",
    "    num_outputs = 64\n",
    "    layer = fully_conn(layer, num_outputs)\n",
    "    layer = tf.nn.dropout(layer, keep_prob=keep_prob)\n",
    "    \n",
    "    \n",
    "    \n",
    "    # TODO: Apply an Output Layer\n",
    "    #    Set this to the number of classes\n",
    "    # Function Definition from Above:\n",
    "    #   output(x_tensor, num_outputs)\n",
    "    num_outputs = 10\n",
    "    layer = output(layer, num_outputs)\n",
    "    \n",
    "    # TODO: return output\n",
    "    return layer\n",
    "\n",
    "\n",
    "\"\"\"\n",
    "DON'T MODIFY ANYTHING IN THIS CELL THAT IS BELOW THIS LINE\n",
    "\"\"\"\n",
    "\n",
    "##############################\n",
    "## Build the Neural Network ##\n",
    "##############################\n",
    "\n",
    "# Remove previous weights, bias, inputs, etc..\n",
    "tf.reset_default_graph()\n",
    "\n",
    "# Inputs\n",
    "x = neural_net_image_input((32, 32, 3))\n",
    "y = neural_net_label_input(10)\n",
    "keep_prob = neural_net_keep_prob_input()\n",
    "\n",
    "# Model\n",
    "logits = conv_net(x, keep_prob)\n",
    "\n",
    "# Name logits Tensor, so that is can be loaded from disk after training\n",
    "logits = tf.identity(logits, name='logits')\n",
    "\n",
    "# Loss and Optimizer\n",
    "cost = tf.reduce_mean(tf.nn.softmax_cross_entropy_with_logits(logits=logits, labels=y))\n",
    "optimizer = tf.train.AdamOptimizer().minimize(cost)\n",
    "\n",
    "# Accuracy\n",
    "correct_pred = tf.equal(tf.argmax(logits, 1), tf.argmax(y, 1))\n",
    "accuracy = tf.reduce_mean(tf.cast(correct_pred, tf.float32), name='accuracy')\n",
    "\n",
    "tests.test_conv_net(conv_net)"
   ]
  },
  {
   "cell_type": "markdown",
   "metadata": {
    "deletable": true,
    "editable": true
   },
   "source": [
    "## Train the Neural Network\n",
    "### Single Optimization\n",
    "Implement the function `train_neural_network` to do a single optimization.  The optimization should use `optimizer` to optimize in `session` with a `feed_dict` of the following:\n",
    "* `x` for image input\n",
    "* `y` for labels\n",
    "* `keep_prob` for keep probability for dropout\n",
    "\n",
    "This function will be called for each batch, so `tf.global_variables_initializer()` has already been called.\n",
    "\n",
    "Note: Nothing needs to be returned. This function is only optimizing the neural network."
   ]
  },
  {
   "cell_type": "code",
<<<<<<< HEAD
   "execution_count": 13,
   "metadata": {
    "collapsed": false,
    "deletable": true,
    "editable": true
   },
   "outputs": [
    {
     "name": "stdout",
     "output_type": "stream",
     "text": [
      "Tests Passed\n"
     ]
    }
   ],
=======
   "execution_count": null,
   "metadata": {},
   "outputs": [],
>>>>>>> d94980095d1187998e2e0544966bb417f031390f
   "source": [
    "def train_neural_network(session, optimizer, keep_probability, feature_batch, label_batch):\n",
    "    \"\"\"\n",
    "    Optimize the session on a batch of images and labels\n",
    "    : session: Current TensorFlow session\n",
    "    : optimizer: TensorFlow optimizer function\n",
    "    : keep_probability: keep probability\n",
    "    : feature_batch: Batch of Numpy image data\n",
    "    : label_batch: Batch of Numpy label data\n",
    "    \"\"\"\n",
    "    # TODO: Implement Function\n",
    "    \n",
    "    \n",
    "    \n",
    "    \n",
    "    return session.run( optimizer, feed_dict={x: feature_batch, y: label_batch, keep_prob: keep_probability } )\n",
    "\n",
    "\n",
    "\"\"\"\n",
    "DON'T MODIFY ANYTHING IN THIS CELL THAT IS BELOW THIS LINE\n",
    "\"\"\"\n",
    "tests.test_train_nn(train_neural_network)"
   ]
  },
  {
   "cell_type": "markdown",
   "metadata": {
    "deletable": true,
    "editable": true
   },
   "source": [
    "### Show Stats\n",
    "Implement the function `print_stats` to print loss and validation accuracy.  Use the global variables `valid_features` and `valid_labels` to calculate validation accuracy.  Use a keep probability of `1.0` to calculate the loss and validation accuracy."
   ]
  },
  {
   "cell_type": "code",
<<<<<<< HEAD
   "execution_count": 14,
   "metadata": {
    "collapsed": false,
    "deletable": true,
    "editable": true
   },
=======
   "execution_count": null,
   "metadata": {},
>>>>>>> d94980095d1187998e2e0544966bb417f031390f
   "outputs": [],
   "source": [
    "def print_stats(session, feature_batch, label_batch, cost, accuracy):\n",
    "    \"\"\"\n",
    "    Print information about loss and validation accuracy\n",
    "    : session: Current TensorFlow session\n",
    "    : feature_batch: Batch of Numpy image data\n",
    "    : label_batch: Batch of Numpy label data\n",
    "    : cost: TensorFlow cost function\n",
    "    : accuracy: TensorFlow accuracy function\n",
    "    \"\"\"\n",
    "    # TODO: Implement Function\n",
    "    \n",
    "    loss = session.run( cost, feed_dict={ x: feature_batch, y: label_batch, keep_prob : 1.0  })\n",
    "    validation_accuracy = session.run( accuracy, feed_dict={ x: feature_batch, y: label_batch, keep_prob: 1.0  })\n",
    "    \n",
    "    print(\"Loss : \", loss, \"Accuracy : \", validation_accuracy )\n",
    "    \n",
    "    "
   ]
  },
  {
   "cell_type": "markdown",
   "metadata": {
    "deletable": true,
    "editable": true
   },
   "source": [
    "### Hyperparameters\n",
    "Tune the following parameters:\n",
    "* Set `epochs` to the number of iterations until the network stops learning or start overfitting\n",
    "* Set `batch_size` to the highest number that your machine has memory for.  Most people set them to common sizes of memory:\n",
    " * 64\n",
    " * 128\n",
    " * 256\n",
    " * ...\n",
    "* Set `keep_probability` to the probability of keeping a node using dropout"
   ]
  },
  {
   "cell_type": "code",
   "execution_count": 15,
   "metadata": {
    "collapsed": true,
    "deletable": true,
    "editable": true
   },
   "outputs": [],
   "source": [
    "# TODO: Tune Parameters\n",
    "epochs = 50\n",
    "batch_size = 256\n",
    "keep_probability = 0.5"
   ]
  },
  {
   "cell_type": "markdown",
   "metadata": {
    "deletable": true,
    "editable": true
   },
   "source": [
    "### Train on a Single CIFAR-10 Batch\n",
    "Instead of training the neural network on all the CIFAR-10 batches of data, let's use a single batch. This should save time while you iterate on the model to get a better accuracy.  Once the final validation accuracy is 50% or greater, run the model on all the data in the next section."
   ]
  },
  {
   "cell_type": "code",
<<<<<<< HEAD
   "execution_count": 16,
   "metadata": {
    "collapsed": false,
    "deletable": true,
    "editable": true
   },
   "outputs": [
    {
     "name": "stdout",
     "output_type": "stream",
     "text": [
      "Checking the Training on a Single Batch...\n",
      "Epoch  1, CIFAR-10 Batch 1:  Loss :  2.24285 Accuracy :  0.15\n",
      "Epoch  2, CIFAR-10 Batch 1:  Loss :  2.20184 Accuracy :  0.225\n",
      "Epoch  3, CIFAR-10 Batch 1:  Loss :  2.1184 Accuracy :  0.2\n",
      "Epoch  4, CIFAR-10 Batch 1:  Loss :  2.01374 Accuracy :  0.325\n",
      "Epoch  5, CIFAR-10 Batch 1:  Loss :  1.89405 Accuracy :  0.25\n",
      "Epoch  6, CIFAR-10 Batch 1:  Loss :  1.7674 Accuracy :  0.375\n",
      "Epoch  7, CIFAR-10 Batch 1:  Loss :  1.67116 Accuracy :  0.35\n",
      "Epoch  8, CIFAR-10 Batch 1:  Loss :  1.53624 Accuracy :  0.375\n",
      "Epoch  9, CIFAR-10 Batch 1:  Loss :  1.50702 Accuracy :  0.475\n",
      "Epoch 10, CIFAR-10 Batch 1:  Loss :  1.57688 Accuracy :  0.425\n",
      "Epoch 11, CIFAR-10 Batch 1:  Loss :  1.42547 Accuracy :  0.475\n",
      "Epoch 12, CIFAR-10 Batch 1:  Loss :  1.37014 Accuracy :  0.5\n",
      "Epoch 13, CIFAR-10 Batch 1:  Loss :  1.34057 Accuracy :  0.475\n",
      "Epoch 14, CIFAR-10 Batch 1:  Loss :  1.23098 Accuracy :  0.575\n",
      "Epoch 15, CIFAR-10 Batch 1:  Loss :  1.16963 Accuracy :  0.575\n",
      "Epoch 16, CIFAR-10 Batch 1:  Loss :  1.09172 Accuracy :  0.625\n",
      "Epoch 17, CIFAR-10 Batch 1:  Loss :  1.11653 Accuracy :  0.55\n",
      "Epoch 18, CIFAR-10 Batch 1:  Loss :  1.01206 Accuracy :  0.65\n",
      "Epoch 19, CIFAR-10 Batch 1:  Loss :  1.01853 Accuracy :  0.65\n",
      "Epoch 20, CIFAR-10 Batch 1:  Loss :  1.03735 Accuracy :  0.625\n",
      "Epoch 21, CIFAR-10 Batch 1:  Loss :  1.01825 Accuracy :  0.625\n",
      "Epoch 22, CIFAR-10 Batch 1:  Loss :  0.953138 Accuracy :  0.65\n",
      "Epoch 23, CIFAR-10 Batch 1:  Loss :  0.978395 Accuracy :  0.65\n",
      "Epoch 24, CIFAR-10 Batch 1:  Loss :  1.10141 Accuracy :  0.65\n",
      "Epoch 25, CIFAR-10 Batch 1:  Loss :  0.946887 Accuracy :  0.6\n",
      "Epoch 26, CIFAR-10 Batch 1:  Loss :  0.922822 Accuracy :  0.6\n",
      "Epoch 27, CIFAR-10 Batch 1:  Loss :  0.895611 Accuracy :  0.625\n",
      "Epoch 28, CIFAR-10 Batch 1:  Loss :  0.870832 Accuracy :  0.675\n",
      "Epoch 29, CIFAR-10 Batch 1:  Loss :  0.826062 Accuracy :  0.725\n",
      "Epoch 30, CIFAR-10 Batch 1:  Loss :  0.828428 Accuracy :  0.775\n",
      "Epoch 31, CIFAR-10 Batch 1:  Loss :  0.790043 Accuracy :  0.675\n",
      "Epoch 32, CIFAR-10 Batch 1:  Loss :  0.767386 Accuracy :  0.7\n",
      "Epoch 33, CIFAR-10 Batch 1:  Loss :  0.77901 Accuracy :  0.7\n",
      "Epoch 34, CIFAR-10 Batch 1:  Loss :  0.767198 Accuracy :  0.725\n",
      "Epoch 35, CIFAR-10 Batch 1:  Loss :  0.779336 Accuracy :  0.65\n",
      "Epoch 36, CIFAR-10 Batch 1:  Loss :  0.784285 Accuracy :  0.75\n",
      "Epoch 37, CIFAR-10 Batch 1:  Loss :  0.71705 Accuracy :  0.675\n",
      "Epoch 38, CIFAR-10 Batch 1:  Loss :  0.79326 Accuracy :  0.725\n",
      "Epoch 39, CIFAR-10 Batch 1:  Loss :  0.707897 Accuracy :  0.725\n",
      "Epoch 40, CIFAR-10 Batch 1:  Loss :  0.693434 Accuracy :  0.65\n",
      "Epoch 41, CIFAR-10 Batch 1:  Loss :  0.670695 Accuracy :  0.75\n",
      "Epoch 42, CIFAR-10 Batch 1:  Loss :  0.698038 Accuracy :  0.7\n",
      "Epoch 43, CIFAR-10 Batch 1:  Loss :  0.662309 Accuracy :  0.75\n",
      "Epoch 44, CIFAR-10 Batch 1:  Loss :  0.664146 Accuracy :  0.725\n",
      "Epoch 45, CIFAR-10 Batch 1:  Loss :  0.805894 Accuracy :  0.75\n",
      "Epoch 46, CIFAR-10 Batch 1:  Loss :  0.713687 Accuracy :  0.775\n",
      "Epoch 47, CIFAR-10 Batch 1:  Loss :  0.606436 Accuracy :  0.825\n",
      "Epoch 48, CIFAR-10 Batch 1:  Loss :  0.605157 Accuracy :  0.8\n",
      "Epoch 49, CIFAR-10 Batch 1:  Loss :  0.570752 Accuracy :  0.8\n",
      "Epoch 50, CIFAR-10 Batch 1:  Loss :  0.580582 Accuracy :  0.8\n"
     ]
    }
   ],
=======
   "execution_count": null,
   "metadata": {},
   "outputs": [],
>>>>>>> d94980095d1187998e2e0544966bb417f031390f
   "source": [
    "\"\"\"\n",
    "DON'T MODIFY ANYTHING IN THIS CELL\n",
    "\"\"\"\n",
    "print('Checking the Training on a Single Batch...')\n",
    "with tf.Session() as sess:\n",
    "    # Initializing the variables\n",
    "    sess.run(tf.global_variables_initializer())\n",
    "    \n",
    "    # Training cycle\n",
    "    for epoch in range(epochs):\n",
    "        batch_i = 1\n",
    "        for batch_features, batch_labels in helper.load_preprocess_training_batch(batch_i, batch_size):\n",
    "            train_neural_network(sess, optimizer, keep_probability, batch_features, batch_labels)\n",
    "        print('Epoch {:>2}, CIFAR-10 Batch {}:  '.format(epoch + 1, batch_i), end='')\n",
    "        print_stats(sess, batch_features, batch_labels, cost, accuracy)"
   ]
  },
  {
   "cell_type": "markdown",
   "metadata": {
    "deletable": true,
    "editable": true
   },
   "source": [
    "### Fully Train the Model\n",
    "Now that you got a good accuracy with a single CIFAR-10 batch, try it with all five batches."
   ]
  },
  {
   "cell_type": "code",
<<<<<<< HEAD
   "execution_count": 17,
   "metadata": {
    "collapsed": false,
    "deletable": true,
    "editable": true
   },
   "outputs": [
    {
     "name": "stdout",
     "output_type": "stream",
     "text": [
      "Training...\n",
      "Epoch  1, CIFAR-10 Batch 1:  Loss :  2.20178 Accuracy :  0.15\n",
      "Epoch  1, CIFAR-10 Batch 2:  Loss :  1.98525 Accuracy :  0.25\n",
      "Epoch  1, CIFAR-10 Batch 3:  Loss :  1.72955 Accuracy :  0.25\n",
      "Epoch  1, CIFAR-10 Batch 4:  Loss :  1.77539 Accuracy :  0.325\n",
      "Epoch  1, CIFAR-10 Batch 5:  Loss :  1.91627 Accuracy :  0.375\n",
      "Epoch  2, CIFAR-10 Batch 1:  Loss :  2.06063 Accuracy :  0.25\n",
      "Epoch  2, CIFAR-10 Batch 2:  Loss :  1.83743 Accuracy :  0.4\n",
      "Epoch  2, CIFAR-10 Batch 3:  Loss :  1.64243 Accuracy :  0.325\n",
      "Epoch  2, CIFAR-10 Batch 4:  Loss :  1.63569 Accuracy :  0.375\n",
      "Epoch  2, CIFAR-10 Batch 5:  Loss :  1.69702 Accuracy :  0.35\n",
      "Epoch  3, CIFAR-10 Batch 1:  Loss :  1.78847 Accuracy :  0.45\n",
      "Epoch  3, CIFAR-10 Batch 2:  Loss :  1.66623 Accuracy :  0.425\n",
      "Epoch  3, CIFAR-10 Batch 3:  Loss :  1.48994 Accuracy :  0.4\n",
      "Epoch  3, CIFAR-10 Batch 4:  Loss :  1.46973 Accuracy :  0.4\n",
      "Epoch  3, CIFAR-10 Batch 5:  Loss :  1.62385 Accuracy :  0.425\n",
      "Epoch  4, CIFAR-10 Batch 1:  Loss :  1.57587 Accuracy :  0.375\n",
      "Epoch  4, CIFAR-10 Batch 2:  Loss :  1.4938 Accuracy :  0.45\n",
      "Epoch  4, CIFAR-10 Batch 3:  Loss :  1.38143 Accuracy :  0.45\n",
      "Epoch  4, CIFAR-10 Batch 4:  Loss :  1.40405 Accuracy :  0.525\n",
      "Epoch  4, CIFAR-10 Batch 5:  Loss :  1.49548 Accuracy :  0.425\n",
      "Epoch  5, CIFAR-10 Batch 1:  Loss :  1.41825 Accuracy :  0.55\n",
      "Epoch  5, CIFAR-10 Batch 2:  Loss :  1.41455 Accuracy :  0.6\n",
      "Epoch  5, CIFAR-10 Batch 3:  Loss :  1.33609 Accuracy :  0.6\n",
      "Epoch  5, CIFAR-10 Batch 4:  Loss :  1.30566 Accuracy :  0.55\n",
      "Epoch  5, CIFAR-10 Batch 5:  Loss :  1.52631 Accuracy :  0.475\n",
      "Epoch  6, CIFAR-10 Batch 1:  Loss :  1.30912 Accuracy :  0.475\n",
      "Epoch  6, CIFAR-10 Batch 2:  Loss :  1.3424 Accuracy :  0.5\n",
      "Epoch  6, CIFAR-10 Batch 3:  Loss :  1.29377 Accuracy :  0.5\n",
      "Epoch  6, CIFAR-10 Batch 4:  Loss :  1.23049 Accuracy :  0.6\n",
      "Epoch  6, CIFAR-10 Batch 5:  Loss :  1.4502 Accuracy :  0.525\n",
      "Epoch  7, CIFAR-10 Batch 1:  Loss :  1.30254 Accuracy :  0.475\n",
      "Epoch  7, CIFAR-10 Batch 2:  Loss :  1.36116 Accuracy :  0.5\n",
      "Epoch  7, CIFAR-10 Batch 3:  Loss :  1.23042 Accuracy :  0.525\n",
      "Epoch  7, CIFAR-10 Batch 4:  Loss :  1.23322 Accuracy :  0.65\n",
      "Epoch  7, CIFAR-10 Batch 5:  Loss :  1.3788 Accuracy :  0.575\n",
      "Epoch  8, CIFAR-10 Batch 1:  Loss :  1.30093 Accuracy :  0.55\n",
      "Epoch  8, CIFAR-10 Batch 2:  Loss :  1.30068 Accuracy :  0.5\n",
      "Epoch  8, CIFAR-10 Batch 3:  Loss :  1.15346 Accuracy :  0.65\n",
      "Epoch  8, CIFAR-10 Batch 4:  Loss :  1.18166 Accuracy :  0.7\n",
      "Epoch  8, CIFAR-10 Batch 5:  Loss :  1.32363 Accuracy :  0.525\n",
      "Epoch  9, CIFAR-10 Batch 1:  Loss :  1.24031 Accuracy :  0.55\n",
      "Epoch  9, CIFAR-10 Batch 2:  Loss :  1.26632 Accuracy :  0.55\n",
      "Epoch  9, CIFAR-10 Batch 3:  Loss :  1.1064 Accuracy :  0.7\n",
      "Epoch  9, CIFAR-10 Batch 4:  Loss :  1.09072 Accuracy :  0.7\n",
      "Epoch  9, CIFAR-10 Batch 5:  Loss :  1.23279 Accuracy :  0.6\n",
      "Epoch 10, CIFAR-10 Batch 1:  Loss :  1.22636 Accuracy :  0.65\n",
      "Epoch 10, CIFAR-10 Batch 2:  Loss :  1.14277 Accuracy :  0.625\n",
      "Epoch 10, CIFAR-10 Batch 3:  Loss :  1.1062 Accuracy :  0.75\n",
      "Epoch 10, CIFAR-10 Batch 4:  Loss :  1.07691 Accuracy :  0.6\n",
      "Epoch 10, CIFAR-10 Batch 5:  Loss :  1.28734 Accuracy :  0.7\n",
      "Epoch 11, CIFAR-10 Batch 1:  Loss :  1.16809 Accuracy :  0.625\n",
      "Epoch 11, CIFAR-10 Batch 2:  Loss :  1.18232 Accuracy :  0.55\n",
      "Epoch 11, CIFAR-10 Batch 3:  Loss :  1.04309 Accuracy :  0.725\n",
      "Epoch 11, CIFAR-10 Batch 4:  Loss :  1.08169 Accuracy :  0.675\n",
      "Epoch 11, CIFAR-10 Batch 5:  Loss :  1.22472 Accuracy :  0.5\n",
      "Epoch 12, CIFAR-10 Batch 1:  Loss :  1.2331 Accuracy :  0.575\n",
      "Epoch 12, CIFAR-10 Batch 2:  Loss :  1.10851 Accuracy :  0.6\n",
      "Epoch 12, CIFAR-10 Batch 3:  Loss :  1.01224 Accuracy :  0.7\n",
      "Epoch 12, CIFAR-10 Batch 4:  Loss :  1.02486 Accuracy :  0.7\n",
      "Epoch 12, CIFAR-10 Batch 5:  Loss :  1.14907 Accuracy :  0.675\n",
      "Epoch 13, CIFAR-10 Batch 1:  Loss :  1.11208 Accuracy :  0.725\n",
      "Epoch 13, CIFAR-10 Batch 2:  Loss :  1.0527 Accuracy :  0.65\n",
      "Epoch 13, CIFAR-10 Batch 3:  Loss :  1.08588 Accuracy :  0.525\n",
      "Epoch 13, CIFAR-10 Batch 4:  Loss :  1.02684 Accuracy :  0.7\n",
      "Epoch 13, CIFAR-10 Batch 5:  Loss :  1.12824 Accuracy :  0.65\n",
      "Epoch 14, CIFAR-10 Batch 1:  Loss :  1.12587 Accuracy :  0.625\n",
      "Epoch 14, CIFAR-10 Batch 2:  Loss :  1.06569 Accuracy :  0.7\n",
      "Epoch 14, CIFAR-10 Batch 3:  Loss :  1.00008 Accuracy :  0.7\n",
      "Epoch 14, CIFAR-10 Batch 4:  Loss :  0.970131 Accuracy :  0.7\n",
      "Epoch 14, CIFAR-10 Batch 5:  Loss :  1.22303 Accuracy :  0.675\n",
      "Epoch 15, CIFAR-10 Batch 1:  Loss :  1.03622 Accuracy :  0.675\n",
      "Epoch 15, CIFAR-10 Batch 2:  Loss :  0.993734 Accuracy :  0.675\n",
      "Epoch 15, CIFAR-10 Batch 3:  Loss :  0.988606 Accuracy :  0.7\n",
      "Epoch 15, CIFAR-10 Batch 4:  Loss :  1.064 Accuracy :  0.7\n",
      "Epoch 15, CIFAR-10 Batch 5:  Loss :  1.14588 Accuracy :  0.675\n",
      "Epoch 16, CIFAR-10 Batch 1:  Loss :  1.0423 Accuracy :  0.675\n",
      "Epoch 16, CIFAR-10 Batch 2:  Loss :  1.02237 Accuracy :  0.725\n",
      "Epoch 16, CIFAR-10 Batch 3:  Loss :  1.13791 Accuracy :  0.6\n",
      "Epoch 16, CIFAR-10 Batch 4:  Loss :  0.929482 Accuracy :  0.675\n",
      "Epoch 16, CIFAR-10 Batch 5:  Loss :  1.10936 Accuracy :  0.675\n",
      "Epoch 17, CIFAR-10 Batch 1:  Loss :  1.02041 Accuracy :  0.7\n",
      "Epoch 17, CIFAR-10 Batch 2:  Loss :  0.965987 Accuracy :  0.675\n",
      "Epoch 17, CIFAR-10 Batch 3:  Loss :  1.02503 Accuracy :  0.625\n",
      "Epoch 17, CIFAR-10 Batch 4:  Loss :  1.02073 Accuracy :  0.7\n",
      "Epoch 17, CIFAR-10 Batch 5:  Loss :  1.05526 Accuracy :  0.75\n",
      "Epoch 18, CIFAR-10 Batch 1:  Loss :  0.995387 Accuracy :  0.625\n",
      "Epoch 18, CIFAR-10 Batch 2:  Loss :  1.00387 Accuracy :  0.7\n",
      "Epoch 18, CIFAR-10 Batch 3:  Loss :  0.970784 Accuracy :  0.75\n",
      "Epoch 18, CIFAR-10 Batch 4:  Loss :  0.956998 Accuracy :  0.75\n",
      "Epoch 18, CIFAR-10 Batch 5:  Loss :  1.05366 Accuracy :  0.75\n",
      "Epoch 19, CIFAR-10 Batch 1:  Loss :  1.02412 Accuracy :  0.675\n",
      "Epoch 19, CIFAR-10 Batch 2:  Loss :  0.987983 Accuracy :  0.7\n",
      "Epoch 19, CIFAR-10 Batch 3:  Loss :  1.00813 Accuracy :  0.725\n",
      "Epoch 19, CIFAR-10 Batch 4:  Loss :  1.00938 Accuracy :  0.7\n",
      "Epoch 19, CIFAR-10 Batch 5:  Loss :  1.08443 Accuracy :  0.725\n",
      "Epoch 20, CIFAR-10 Batch 1:  Loss :  1.01314 Accuracy :  0.675\n",
      "Epoch 20, CIFAR-10 Batch 2:  Loss :  0.882621 Accuracy :  0.7\n",
      "Epoch 20, CIFAR-10 Batch 3:  Loss :  1.0629 Accuracy :  0.75\n",
      "Epoch 20, CIFAR-10 Batch 4:  Loss :  0.986125 Accuracy :  0.7\n",
      "Epoch 20, CIFAR-10 Batch 5:  Loss :  1.08188 Accuracy :  0.7\n",
      "Epoch 21, CIFAR-10 Batch 1:  Loss :  0.962975 Accuracy :  0.675\n",
      "Epoch 21, CIFAR-10 Batch 2:  Loss :  0.925765 Accuracy :  0.725\n",
      "Epoch 21, CIFAR-10 Batch 3:  Loss :  0.929046 Accuracy :  0.675\n",
      "Epoch 21, CIFAR-10 Batch 4:  Loss :  0.915403 Accuracy :  0.725\n",
      "Epoch 21, CIFAR-10 Batch 5:  Loss :  1.04294 Accuracy :  0.65\n",
      "Epoch 22, CIFAR-10 Batch 1:  Loss :  0.876104 Accuracy :  0.675\n",
      "Epoch 22, CIFAR-10 Batch 2:  Loss :  0.855648 Accuracy :  0.675\n",
      "Epoch 22, CIFAR-10 Batch 3:  Loss :  0.952995 Accuracy :  0.675\n",
      "Epoch 22, CIFAR-10 Batch 4:  Loss :  0.959409 Accuracy :  0.75\n",
      "Epoch 22, CIFAR-10 Batch 5:  Loss :  0.948431 Accuracy :  0.8\n",
      "Epoch 23, CIFAR-10 Batch 1:  Loss :  0.907327 Accuracy :  0.675\n",
      "Epoch 23, CIFAR-10 Batch 2:  Loss :  0.867999 Accuracy :  0.8\n",
      "Epoch 23, CIFAR-10 Batch 3:  Loss :  1.11004 Accuracy :  0.65\n",
      "Epoch 23, CIFAR-10 Batch 4:  Loss :  1.01915 Accuracy :  0.675\n",
      "Epoch 23, CIFAR-10 Batch 5:  Loss :  1.00752 Accuracy :  0.625\n",
      "Epoch 24, CIFAR-10 Batch 1:  Loss :  0.964782 Accuracy :  0.7\n",
      "Epoch 24, CIFAR-10 Batch 2:  Loss :  0.942816 Accuracy :  0.775\n",
      "Epoch 24, CIFAR-10 Batch 3:  Loss :  0.972704 Accuracy :  0.725\n",
      "Epoch 24, CIFAR-10 Batch 4:  Loss :  0.940969 Accuracy :  0.85\n",
      "Epoch 24, CIFAR-10 Batch 5:  Loss :  1.02646 Accuracy :  0.675\n",
      "Epoch 25, CIFAR-10 Batch 1:  Loss :  0.912627 Accuracy :  0.675\n",
      "Epoch 25, CIFAR-10 Batch 2:  Loss :  0.84285 Accuracy :  0.675\n",
      "Epoch 25, CIFAR-10 Batch 3:  Loss :  0.834099 Accuracy :  0.725\n",
      "Epoch 25, CIFAR-10 Batch 4:  Loss :  0.948873 Accuracy :  0.675\n",
      "Epoch 25, CIFAR-10 Batch 5:  Loss :  0.945594 Accuracy :  0.8\n",
      "Epoch 26, CIFAR-10 Batch 1:  Loss :  0.906914 Accuracy :  0.675\n",
      "Epoch 26, CIFAR-10 Batch 2:  Loss :  0.766022 Accuracy :  0.75\n",
      "Epoch 26, CIFAR-10 Batch 3:  Loss :  0.828431 Accuracy :  0.75\n",
      "Epoch 26, CIFAR-10 Batch 4:  Loss :  0.835504 Accuracy :  0.775\n",
      "Epoch 26, CIFAR-10 Batch 5:  Loss :  0.875193 Accuracy :  0.85\n",
      "Epoch 27, CIFAR-10 Batch 1:  Loss :  0.815556 Accuracy :  0.7\n",
      "Epoch 27, CIFAR-10 Batch 2:  Loss :  0.843836 Accuracy :  0.675\n",
      "Epoch 27, CIFAR-10 Batch 3:  Loss :  0.839209 Accuracy :  0.75\n",
      "Epoch 27, CIFAR-10 Batch 4:  Loss :  0.912673 Accuracy :  0.75\n",
      "Epoch 27, CIFAR-10 Batch 5:  Loss :  1.08681 Accuracy :  0.65\n",
      "Epoch 28, CIFAR-10 Batch 1:  Loss :  1.16193 Accuracy :  0.6\n",
      "Epoch 28, CIFAR-10 Batch 2:  Loss :  0.908538 Accuracy :  0.725\n",
      "Epoch 28, CIFAR-10 Batch 3:  Loss :  0.842588 Accuracy :  0.775\n",
      "Epoch 28, CIFAR-10 Batch 4:  Loss :  0.863751 Accuracy :  0.8\n",
      "Epoch 28, CIFAR-10 Batch 5:  Loss :  0.938743 Accuracy :  0.725\n",
      "Epoch 29, CIFAR-10 Batch 1:  Loss :  0.886374 Accuracy :  0.65\n",
      "Epoch 29, CIFAR-10 Batch 2:  Loss :  0.777809 Accuracy :  0.8\n",
      "Epoch 29, CIFAR-10 Batch 3:  Loss :  0.780861 Accuracy :  0.8\n",
      "Epoch 29, CIFAR-10 Batch 4:  Loss :  0.818751 Accuracy :  0.825\n",
      "Epoch 29, CIFAR-10 Batch 5:  Loss :  0.975443 Accuracy :  0.75\n",
      "Epoch 30, CIFAR-10 Batch 1:  Loss :  0.863208 Accuracy :  0.675\n",
      "Epoch 30, CIFAR-10 Batch 2:  Loss :  0.84527 Accuracy :  0.75\n",
      "Epoch 30, CIFAR-10 Batch 3:  Loss :  0.797428 Accuracy :  0.725\n",
      "Epoch 30, CIFAR-10 Batch 4:  Loss :  0.789194 Accuracy :  0.775\n",
      "Epoch 30, CIFAR-10 Batch 5:  Loss :  0.839816 Accuracy :  0.825\n",
      "Epoch 31, CIFAR-10 Batch 1:  Loss :  0.837071 Accuracy :  0.675\n",
      "Epoch 31, CIFAR-10 Batch 2:  Loss :  0.841985 Accuracy :  0.775\n",
      "Epoch 31, CIFAR-10 Batch 3:  Loss :  0.804511 Accuracy :  0.8\n",
      "Epoch 31, CIFAR-10 Batch 4:  Loss :  0.808313 Accuracy :  0.775\n",
      "Epoch 31, CIFAR-10 Batch 5:  Loss :  0.920584 Accuracy :  0.75\n",
      "Epoch 32, CIFAR-10 Batch 1:  Loss :  0.836806 Accuracy :  0.7\n",
      "Epoch 32, CIFAR-10 Batch 2:  Loss :  0.876068 Accuracy :  0.75\n",
      "Epoch 32, CIFAR-10 Batch 3:  Loss :  0.768859 Accuracy :  0.7\n",
      "Epoch 32, CIFAR-10 Batch 4:  Loss :  0.829484 Accuracy :  0.75\n",
      "Epoch 32, CIFAR-10 Batch 5:  Loss :  0.988465 Accuracy :  0.75\n",
      "Epoch 33, CIFAR-10 Batch 1:  Loss :  0.90774 Accuracy :  0.7\n",
      "Epoch 33, CIFAR-10 Batch 2:  Loss :  0.853248 Accuracy :  0.8\n",
      "Epoch 33, CIFAR-10 Batch 3:  Loss :  0.788922 Accuracy :  0.675\n",
      "Epoch 33, CIFAR-10 Batch 4:  Loss :  0.77218 Accuracy :  0.85\n",
      "Epoch 33, CIFAR-10 Batch 5:  Loss :  1.11485 Accuracy :  0.625\n",
      "Epoch 34, CIFAR-10 Batch 1:  Loss :  0.937045 Accuracy :  0.65\n",
      "Epoch 34, CIFAR-10 Batch 2:  Loss :  0.776025 Accuracy :  0.725\n",
      "Epoch 34, CIFAR-10 Batch 3:  Loss :  0.875181 Accuracy :  0.725\n",
      "Epoch 34, CIFAR-10 Batch 4:  Loss :  0.744338 Accuracy :  0.75\n",
      "Epoch 34, CIFAR-10 Batch 5:  Loss :  0.943033 Accuracy :  0.675\n",
      "Epoch 35, CIFAR-10 Batch 1:  Loss :  0.889552 Accuracy :  0.725\n",
      "Epoch 35, CIFAR-10 Batch 2:  Loss :  0.710187 Accuracy :  0.75\n",
      "Epoch 35, CIFAR-10 Batch 3:  Loss :  0.698567 Accuracy :  0.775\n",
      "Epoch 35, CIFAR-10 Batch 4:  Loss :  0.758254 Accuracy :  0.8\n",
      "Epoch 35, CIFAR-10 Batch 5:  Loss :  0.813991 Accuracy :  0.85\n",
      "Epoch 36, CIFAR-10 Batch 1:  Loss :  0.884483 Accuracy :  0.7\n",
      "Epoch 36, CIFAR-10 Batch 2:  Loss :  0.744828 Accuracy :  0.725\n",
      "Epoch 36, CIFAR-10 Batch 3:  Loss :  0.736673 Accuracy :  0.825\n",
      "Epoch 36, CIFAR-10 Batch 4:  Loss :  0.709516 Accuracy :  0.775\n",
      "Epoch 36, CIFAR-10 Batch 5:  Loss :  0.838897 Accuracy :  0.8\n",
      "Epoch 37, CIFAR-10 Batch 1:  Loss :  0.856914 Accuracy :  0.75\n",
      "Epoch 37, CIFAR-10 Batch 2:  Loss :  0.77617 Accuracy :  0.75\n",
      "Epoch 37, CIFAR-10 Batch 3:  Loss :  0.738757 Accuracy :  0.7\n",
      "Epoch 37, CIFAR-10 Batch 4:  Loss :  0.799316 Accuracy :  0.8\n",
      "Epoch 37, CIFAR-10 Batch 5:  Loss :  0.82602 Accuracy :  0.8\n",
      "Epoch 38, CIFAR-10 Batch 1:  Loss :  0.899088 Accuracy :  0.7\n",
      "Epoch 38, CIFAR-10 Batch 2:  Loss :  0.754883 Accuracy :  0.8\n",
      "Epoch 38, CIFAR-10 Batch 3:  Loss :  0.654767 Accuracy :  0.8\n",
      "Epoch 38, CIFAR-10 Batch 4:  Loss :  0.740736 Accuracy :  0.8\n",
      "Epoch 38, CIFAR-10 Batch 5:  Loss :  0.864507 Accuracy :  0.725\n",
      "Epoch 39, CIFAR-10 Batch 1:  Loss :  0.862791 Accuracy :  0.65\n",
      "Epoch 39, CIFAR-10 Batch 2:  Loss :  0.752272 Accuracy :  0.75\n",
      "Epoch 39, CIFAR-10 Batch 3:  Loss :  0.698566 Accuracy :  0.875\n",
      "Epoch 39, CIFAR-10 Batch 4:  Loss :  0.721624 Accuracy :  0.875\n",
      "Epoch 39, CIFAR-10 Batch 5:  Loss :  0.774718 Accuracy :  0.775\n",
      "Epoch 40, CIFAR-10 Batch 1:  Loss :  0.834409 Accuracy :  0.7\n",
      "Epoch 40, CIFAR-10 Batch 2:  Loss :  0.781213 Accuracy :  0.75\n",
      "Epoch 40, CIFAR-10 Batch 3:  Loss :  0.645486 Accuracy :  0.825\n",
      "Epoch 40, CIFAR-10 Batch 4:  Loss :  0.766786 Accuracy :  0.775\n",
      "Epoch 40, CIFAR-10 Batch 5:  Loss :  0.855027 Accuracy :  0.775\n",
      "Epoch 41, CIFAR-10 Batch 1:  Loss :  0.863955 Accuracy :  0.7\n",
      "Epoch 41, CIFAR-10 Batch 2:  Loss :  0.690564 Accuracy :  0.85\n",
      "Epoch 41, CIFAR-10 Batch 3:  Loss :  0.711915 Accuracy :  0.775\n",
      "Epoch 41, CIFAR-10 Batch 4:  Loss :  0.762507 Accuracy :  0.775\n",
      "Epoch 41, CIFAR-10 Batch 5:  Loss :  0.799651 Accuracy :  0.8\n",
      "Epoch 42, CIFAR-10 Batch 1:  Loss :  0.826577 Accuracy :  0.7\n",
      "Epoch 42, CIFAR-10 Batch 2:  Loss :  0.781418 Accuracy :  0.75\n",
      "Epoch 42, CIFAR-10 Batch 3:  Loss :  0.756475 Accuracy :  0.8\n",
      "Epoch 42, CIFAR-10 Batch 4:  Loss :  0.761761 Accuracy :  0.775\n",
      "Epoch 42, CIFAR-10 Batch 5:  Loss :  0.746591 Accuracy :  0.825\n",
      "Epoch 43, CIFAR-10 Batch 1:  Loss :  0.804896 Accuracy :  0.65\n",
      "Epoch 43, CIFAR-10 Batch 2:  Loss :  0.659151 Accuracy :  0.8\n",
      "Epoch 43, CIFAR-10 Batch 3:  Loss :  0.681257 Accuracy :  0.8\n",
      "Epoch 43, CIFAR-10 Batch 4:  Loss :  0.791391 Accuracy :  0.8\n",
      "Epoch 43, CIFAR-10 Batch 5:  Loss :  0.788898 Accuracy :  0.8\n",
      "Epoch 44, CIFAR-10 Batch 1:  Loss :  0.81416 Accuracy :  0.675\n",
      "Epoch 44, CIFAR-10 Batch 2:  Loss :  0.758223 Accuracy :  0.775\n",
      "Epoch 44, CIFAR-10 Batch 3:  Loss :  0.681614 Accuracy :  0.85\n",
      "Epoch 44, CIFAR-10 Batch 4:  Loss :  0.825881 Accuracy :  0.825\n",
      "Epoch 44, CIFAR-10 Batch 5:  Loss :  0.758106 Accuracy :  0.8\n",
      "Epoch 45, CIFAR-10 Batch 1:  Loss :  0.8269 Accuracy :  0.725\n",
      "Epoch 45, CIFAR-10 Batch 2:  Loss :  0.73774 Accuracy :  0.8\n",
      "Epoch 45, CIFAR-10 Batch 3:  Loss :  0.632103 Accuracy :  0.825\n",
      "Epoch 45, CIFAR-10 Batch 4:  Loss :  0.826727 Accuracy :  0.7\n",
      "Epoch 45, CIFAR-10 Batch 5:  Loss :  0.870836 Accuracy :  0.775\n",
      "Epoch 46, CIFAR-10 Batch 1:  Loss :  0.799364 Accuracy :  0.75\n",
      "Epoch 46, CIFAR-10 Batch 2:  Loss :  0.789815 Accuracy :  0.7\n",
      "Epoch 46, CIFAR-10 Batch 3:  Loss :  0.636202 Accuracy :  0.75\n",
      "Epoch 46, CIFAR-10 Batch 4:  Loss :  0.744378 Accuracy :  0.75\n",
      "Epoch 46, CIFAR-10 Batch 5:  Loss :  0.789491 Accuracy :  0.725\n",
      "Epoch 47, CIFAR-10 Batch 1:  Loss :  0.772931 Accuracy :  0.7\n",
      "Epoch 47, CIFAR-10 Batch 2:  Loss :  0.682735 Accuracy :  0.775\n",
      "Epoch 47, CIFAR-10 Batch 3:  Loss :  0.595338 Accuracy :  0.8\n",
      "Epoch 47, CIFAR-10 Batch 4:  Loss :  0.637928 Accuracy :  0.85\n",
      "Epoch 47, CIFAR-10 Batch 5:  Loss :  0.80391 Accuracy :  0.75\n",
      "Epoch 48, CIFAR-10 Batch 1:  Loss :  0.763496 Accuracy :  0.675\n",
      "Epoch 48, CIFAR-10 Batch 2:  Loss :  0.688566 Accuracy :  0.8\n",
      "Epoch 48, CIFAR-10 Batch 3:  Loss :  0.623283 Accuracy :  0.8\n",
      "Epoch 48, CIFAR-10 Batch 4:  Loss :  0.741867 Accuracy :  0.775\n",
      "Epoch 48, CIFAR-10 Batch 5:  Loss :  0.735013 Accuracy :  0.8\n",
      "Epoch 49, CIFAR-10 Batch 1:  Loss :  0.806016 Accuracy :  0.725\n",
      "Epoch 49, CIFAR-10 Batch 2:  Loss :  0.704756 Accuracy :  0.75\n",
      "Epoch 49, CIFAR-10 Batch 3:  Loss :  0.583272 Accuracy :  0.875\n",
      "Epoch 49, CIFAR-10 Batch 4:  Loss :  0.699226 Accuracy :  0.8\n",
      "Epoch 49, CIFAR-10 Batch 5:  Loss :  0.674786 Accuracy :  0.8\n",
      "Epoch 50, CIFAR-10 Batch 1:  Loss :  0.743978 Accuracy :  0.7\n",
      "Epoch 50, CIFAR-10 Batch 2:  Loss :  0.666179 Accuracy :  0.8\n",
      "Epoch 50, CIFAR-10 Batch 3:  Loss :  0.643638 Accuracy :  0.825\n",
      "Epoch 50, CIFAR-10 Batch 4:  Loss :  0.769722 Accuracy :  0.725\n",
      "Epoch 50, CIFAR-10 Batch 5:  Loss :  0.765385 Accuracy :  0.825\n"
     ]
    }
   ],
=======
   "execution_count": null,
   "metadata": {},
   "outputs": [],
>>>>>>> d94980095d1187998e2e0544966bb417f031390f
   "source": [
    "\"\"\"\n",
    "DON'T MODIFY ANYTHING IN THIS CELL\n",
    "\"\"\"\n",
    "save_model_path = './image_classification'\n",
    "\n",
    "print('Training...')\n",
    "with tf.Session() as sess:\n",
    "    # Initializing the variables\n",
    "    sess.run(tf.global_variables_initializer())\n",
    "    \n",
    "    # Training cycle\n",
    "    for epoch in range(epochs):\n",
    "        # Loop over all batches\n",
    "        n_batches = 5\n",
    "        for batch_i in range(1, n_batches + 1):\n",
    "            for batch_features, batch_labels in helper.load_preprocess_training_batch(batch_i, batch_size):\n",
    "                train_neural_network(sess, optimizer, keep_probability, batch_features, batch_labels)\n",
    "            \n",
    "            print('Epoch {:>2}, CIFAR-10 Batch {}:  '.format(epoch + 1, batch_i), end='')\n",
    "            print_stats(sess, batch_features, batch_labels, cost, accuracy)\n",
    "            \n",
    "    # Save Model\n",
    "    saver = tf.train.Saver()\n",
    "    save_path = saver.save(sess, save_model_path)"
   ]
  },
  {
   "cell_type": "markdown",
   "metadata": {
    "deletable": true,
    "editable": true
   },
   "source": [
    "# Checkpoint\n",
    "The model has been saved to disk.\n",
    "## Test Model\n",
    "Test your model against the test dataset.  This will be your final accuracy. You should have an accuracy greater than 50%. If you don't, keep tweaking the model architecture and parameters."
   ]
  },
  {
   "cell_type": "code",
<<<<<<< HEAD
   "execution_count": 18,
   "metadata": {
    "collapsed": false,
    "deletable": true,
    "editable": true
   },
   "outputs": [
    {
     "name": "stdout",
     "output_type": "stream",
     "text": [
      "INFO:tensorflow:Restoring parameters from ./image_classification\n",
      "Testing Accuracy: 0.59072265625\n",
      "\n"
     ]
    },
    {
     "data": {
      "image/png": "iVBORw0KGgoAAAANSUhEUgAAAscAAAJ/CAYAAACUb342AAAABHNCSVQICAgIfAhkiAAAAAlwSFlz\nAAAWJQAAFiUBSVIk8AAAIABJREFUeJzs3XecZFWZ//HP03lyTjIwQxAYkggCAkowoqigIigmcHXN\niml1jahrWHZXUVjXZdVlDYgR+ZkBZchBkoQBlDDADMPAMKEndnx+fzyn6t6+U91dPV0d5/t+vepV\nXfece++p2E+des455u6IiIiIiAjUjXQDRERERERGCwXHIiIiIiKJgmMRERERkUTBsYiIiIhIouBY\nRERERCRRcCwiIiIikig4FhERERFJFByLiIiIiCQKjkVEREREEgXHIiIiIiKJgmMRERERkUTBsYiI\niIhIouBYRERERCRRcCwiIiIikig4HmFmtsjMXmNm7zazfzazT5jZ+83sdWb2HDObPNJt7I2Z1ZnZ\nSWZ2sZk9YGatZua5y69Guo0io42ZLS68T86uRd3RysyOK9yHM0a6TSIifWkY6QbsjMxsJvBu4B3A\non6qd5vZMuAa4LfAn9x92xA3sV/pPvwcOH6k2yLDz8wuBN7aT7VOYD2wBriNeA3/2N03DG3rRERE\ndpx6joeZmb0CWAb8C/0HxhDP0QFEMP0b4JSha92AfJ8BBMbqPdopNQCzgX2B04H/Alaa2dlmpi/m\nY0jhvXvhSLdHRGQo6R/UMDKzU4Efs/2XklbgLuAJoA2YAewGLKlQd8SZ2XOBE3ObHgE+D9wCbMxt\n3zKc7ZIxYRLwOeAYM3uZu7eNdINERETyFBwPEzPbk+htzQe7dwOfAn7n7p0V9pkMHAu8Dng1MHUY\nmlqN1xRun+Tufx2Rlsho8TEizSavAZgHPA94D/GFr+R4oif5bcPSOhERkSopOB4+XwKac7evAF7l\n7lt728HdNxF5xr81s/cDbyd6l0faobm/lyswFmCNuy+vsP0B4DozOw/4IfElr+QMM/umu98xHA0c\ni9JjaiPdjsFw96WM8fsgIjuXUfeT/XhkZhOAV+U2dQBv7SswLnL3je7+dXe/ouYNHLi5ub8fH7FW\nyJjh7luANwJ/y2024F0j0yIREZHKFBwPj0OACbnb17v7WA4q89PLdYxYK2RMSV8Gv17Y/MKRaIuI\niEhvlFYxPOYXbq8czpOb2VTg+cAuwCxi0Nxq4CZ3f3RHDlnD5tWEme1BpHssBJqA5cCV7v5kP/st\nJHJidyXu16q034pBtGUXYH9gD2B62rwWeBS4YSefyuxPhdt7mlm9u3cN5CBmdgCwH7CAGOS33N0v\nqmK/JuBIYDHxC0g38CRwZy3Sg8zsmcDhwDOAbcAK4GZ3H9b3fIV27Q0cDMwhXpNbiNf63cAyd+8e\nweb1y8x2BZ5L5LBPId5PjwPXuPv6Gp9rD6JDY1egnvisvM7dHxrEMfchHv/5ROdCJ7AJeAz4O3Cf\nu/sgmy4iteLuugzxBXg94LnL74fpvM8Bfg+0F86fv9xJTLNlfRznuD727+2yNO27fEf3LbThwnyd\n3PZjgSuJIKd4nHbgW8DkCsfbD/hdL/t1A78Adqnyca5L7fgv4MF+7lsXcDlwfJXH/r/C/hcM4Pn/\nSmHfX/f1PA/wtXVh4dhnVLnfhAqPydwK9fKvm6W57WcSAV3xGOv7Oe8+wEXEF8PenpsVwIeBph14\nPI4GburluJ3E2IFDU93FhfKz+zhu1XUr7Dsd+CLxpayv1+RTwPeAw/p5jqu6VPH5UdVrJe17KnBH\nH+frSO+n5w7gmEtz+y/PbT+C+PJW6TPBgRuBIwdwnkbgI0TefX+P23riM+fFtXh/6qKLLoO7jHgD\ndoYL8ILCB+FGYPoQns+Ac/r4kK90WQrM6OV4xX9uVR0v7bt8R/cttKHHP+q07QNV3se/kAuQidk2\ntlSx33Jg1yoe77ftwH104D+A+n6OPQm4r7DfaVW06SWFx2YFMKuGr7ELC206o8r9dig4Jgaz/rSP\nx7JicEy8F75ABFHVPi93V/O8587xySpfh+1E3vXiwvaz+zh21XUL+70aWDfA1+Md/TzHVV2q+Pzo\n97VCzMxzxQDPfS5QV8Wxl+b2WZ62vZ++OxHyz+GpVZxjDrHwzUAfv1/V6j2qiy667PhFaRXD41ai\nx7A+3Z4MfN/MTveYkaLW/gf4h8K2dqLn43GiR+k5xAINJccCV5vZMe6+bgjaVFNpzuhvpJtO9C49\nSARDBwN75qo/BzgPONPMjgd+QpZSdF+6tBPzSh+Y228R1S12Uszd3wrcQ/xs3UoEhLsBBxEpHyUf\nJoK2T/R2YHffnO7rTUBL2nyBmd3i7g9W2sfM5gM/IEt/6QJOd/en+7kfw2GXwm0HqmnXucSUhqV9\nbicLoPcAdi/uYGZG9Ly/uVC0lQhcSnn/exGvmdLjtT9wvZkd5u59zg5jZmcRM9HkdRHP12NECsCz\nifSPRiLgLL43ayq16Wtsn/70BPFL0RpgIpGCdCA9Z9EZcWY2BbiKeE7y1gE3p+sFRJpFvu0fJD7T\n3jTA870J+GZu091Eb28b8TlyKNlj2QhcaGa3u/vfezmeAb8knve81cR89muIL1PT0vH3QimOIqPL\nSEfnO8uFWN2u2EvwOLEgwoHU7ufutxbO0U0EFtML9RqIf9IbCvV/XOGYLUQPVumyIlf/xkJZ6TI/\n7bsw3S6mlny0l/3K+xbacGFh/1Kv2G+APSvUP5UIgvKPw5HpMXfgeuDgCvsdRwRr+XO9vJ/HvDTF\n3lfSOSr2BhNfSj4ObC6064gqntd3Fdp0CxV+/icC9WKP22eG4PVcfD7OqHK/fyzs90Av9Zbn6uRT\nIX4ALKxQf3GFbZ8onGttehxbKtTdHbi0UP+P9J1udCDb9zZeVHz9pufkVCK3udSO/D5n93GOxdXW\nTfVfSgTn+X2uAo6qdF+I4PKVxE/6txbKZpO9J/PH+zm9v3crPQ/HDeS1AvxvoX4r8E6gsVBvGvHr\nS7HX/p39HH9pru4mss+JS4C9KtRfAvy1cI6f9HH8Ewt1/04MPK34WiJ+HToJuBj4Wa3fq7roosvA\nLyPegJ3lQvSCbCt8aOYvTxN5iZ8BXgxM2oFzTCZy1/LH/VA/+xxBz2DN6SfvjV7yQfvZZ0D/ICvs\nf2GFx+xH9PEzKrHkdqWA+gqguY/9XlHtP8JUf35fx6tQ/8jCa6HP4+f2K6YVfKNCnU8V6vypr8do\nEK/n4vPR7/NJfMm6t7BfxRxqKqfjfGUA7dufnqkUj1EhcCvsY0Tubf6cJ/ZR/8pC3fOraFMxMK5Z\ncEz0Bq8utqna5x+Y10dZ/pgXDvC1UvV7nxg4nK+7BTi6n+O/r7DPJnpJEUv1l1Z4Ds6n7y9C8+iZ\nprKtt3MQYw9K9TqA3QfwWG33xU0XXXQZ/oumchsmHgsdvJn4UK1kJvByIj/yMmCdmV1jZu9Ms01U\n461Eb0rJH9y9OHVWsV03AZ8tbP5glecbSY8TPUR9jbL/LtEzXlIapf9m72PZYnf/DXB/btNxfTXE\n3Z/o63gV6t8A/Gdu08lmVs1P228H8iPmP2BmJ5VumNnziGW8S54C3tTPYzQszKyF6PXdt1D031Ue\n4g7g0wM45T+R/VTtwOu88iIlZe7uxEp++ZlKKr4XzGx/er4u/kakyfR1/HtSu4bKO+g5B/mVwPur\nff7dffWQtGpgPlC4/Xl3v66vHdz9fOIXpJJJDCx15W6iE8H7OMdqIugtaSbSOirJrwR5h7s/XG1D\n3L23/w8iMowUHA8jd/8Z8fPmtVVUbySmGPs28JCZvSflsvXljYXbn6uyad8kAqmSl5vZzCr3HSkX\neD/52u7eDhT/sV7s7quqOP6fc3/PTXm8tXRp7u8mts+v3I67twKnET/ll/yvme1mZrOAH5PltTvw\nlirvay3MNrPFhcteZnaUmf0TsAw4pbDPj9z91iqPf65XOd2bmU0H3pDb9Ft3v7GafVNwckFu0/Fm\nNrFC1eJ77Zz0euvP9xi6qRzfUbjdZ8A32pjZJODk3KZ1REpYNYpfnAaSd/x1d69mvvbfFW4/q4p9\n5gygHSIySig4Hmbufru7Px84hujZ7HMe3mQW0dN4cZqndTup5zG/rPND7n5zlW3qAH6WPxy994qM\nFpdVWa84aO3yKvd7oHB7wP/kLEwxs2cUA0e2HyxV7FGtyN1vIfKWS2YQQfGFRH53yb+5+x8G2uZB\n+Dfg4cLl78SXk39l+wFz17F9MNeXXw+g7tHEl8uSnw9gX4Brcn83EKlHRUfm/i5N/dev1Iv7s34r\nDpCZzSHSNkr+4mNvWffD6Dkw7ZJqf5FJ93VZbtOBaWBfNap9n9xXuN3bZ0L+V6dFZvbeKo8vIqOE\nRsiOEHe/hvRP2Mz2I3qUn0P8gziYyl9cTiVGOlf6sD2AnjMh3DTAJt1I/KRccijb95SMJsV/VL1p\nLdy+v2Kt/vfrN7XFzOqBFxGzKhxGBLwVv8xUMKPKerj7uWnWjdKS5EcVqtxI5B6PRluJWUY+W2Vv\nHcCj7r52AOc4unD76fSFpFr1hduV9j0k9/fffWALUfxlAHWrVQzgr6lYa3Q7tHB7Rz7D9kt/1xGf\no/09Dq1e/WqlxcV7evtMuBj4UO72+WZ2MjHQ8Pc+BmYDEtnZKTgeBdx9GdHr8R0o/yx8MvEBe1Ch\n+nvM7Lvuflthe7EXo+I0Q30oBo2j/efAaleZ66zRfo0VayVmdiSRP3tgX/X6UG1eecmZxHRmuxW2\nrwfe4O7F9o+ELuLxfppo6zXARQMMdKFnyk81FhZuD6TXuZIeKUYpfzr/fFWcUq8PxV8laqGY9nPv\nEJxjqI3EZ1jVq1W6e0chs63iZ4K732xm36JnZ8OL0qXbzO4ifjm5mipW8RSR4ae0ilHI3de7+4VE\nz8cXKlQpDlqBbJnikmLPZ3+K/ySq7skcCYMYZFbzwWlmdgIx+GlHA2MY4HsxBZhfrlD0kf4Gng2R\nM93dCpcGd5/l7nu7+2nufv4OBMYQsw8MRK3z5ScXbtf6vVYLswq3a7qk8jAZic+woRqs+j7i15st\nhe11RK7ye4ge5lVmdqWZnVLFmBIRGSYKjkcxD58jFq3Ie9FItEe2lwYu/pCeixEsJ5btfRmxbPF0\nYoqmcuBIhUUrBnjeWcS0f0VvMrOd/X3dZy//DhiLQcuYGYg3HqXP7i8TC9R8HLiB7X+NgvgffByR\nh36VmS0YtkaKSK+UVjE2nEfMUlCyi5lNcPetuW3FnqKB/kw/rXBbeXHVeQ89e+0uBt5axcwF1Q4W\n2k5u5bfianMQq/l9msq/OOwsir3T+7l7LdMMav1eq4XifS72wo4F4+4zLE0Bdw5wjplNBg4n5nI+\nnsiNz/8Pfj7wBzM7fCBTQ4pI7e3sPUxjRaVR58WfDIt5mXsN8Bx793M8qezE3N8bgLdXOaXXYKaG\n+1DhvDfTc9aTz5rZ8wdx/LGumMM5u2KtHZSme8v/5L9nb3V7MdD3ZjWKy1wvGYJzDLVx/Rnm7pvc\n/c/u/nl3P45YAvvTxCDVkoOAt41E+0Qko+B4bKiUF1fMx7ubnvPfHj7AcxSnbqt2/tlqjdefefP/\nwK91981V7rdDU+WZ2WHAV3Ob1hGzY7yF7DGuBy5KqRc7o+KcxpWmYhus/IDYZ6ZBtNU6rNaNYfv7\nPBa/HBU/cwb6vOXfU93EwjGjlruvcfcvsf2Uhq8cifaISEbB8diwT+H2puICGOlnuPw/l73MrDg1\nUkVm1kAEWOXDMfBplPpT/Jmw2inORrv8T7lVDSBKaRGnD/REaaXEi+mZU/s2d3/U3f9IzDVcspCY\nOmpn9Gd6fhk7dQjOcUPu7zrgtdXslPLBX9dvxQFy96eIL8glh5vZYAaIFuXfv0P13v0LPfNyX93b\nvO5FZnYQPed5vtvdN9aycUPoJ/R8fBePUDtEJFFwPAzMbJ6ZzRvEIYo/sy3tpd5FhdvFZaF78z56\nLjv7e3d/usp9q1UcSV7rFedGSj5Psvizbm/eTJWLfhT8DzHAp+Q8d/9V7van6Pml5pVmNhaWAq+p\nlOeZf1wOM7NaB6Q/Ktz+pyoDubdROVe8Fi4o3P5aDWdAyL9/h+S9m351ya8cOZPKc7pXUsyx/2FN\nGjUM0rSL+V+cqknLEpEhpOB4eCwhloD+qpnN7bd2jpm9Fnh3YXNx9oqS/6PnP7FXmdl7eqlbOv5h\nxMwKed8cSBur9BA9e4WOH4JzjIS7cn8fambH9lXZzA4nBlgOiJn9Iz17QG8HPpavk/7Jvp6er4Fz\nzCy/YMXO4gv0TEf6Xn/PTZGZLTCzl1cqc/d7gKtym/YGvtbP8fYjBmcNle8Cq3O3XwR8vdoAuZ8v\n8Pk5hA9Lg8uGQvGz54vpM6pXZvZu4KTcps3EYzEizOzdacXCauu/jJ7TD1a7UJGIDBEFx8NnIjGl\nzwozu8TMXtvXB6iZLTGzC4Cf0nPFrtvYvocYgPQz4ocLm88zs38zsx4juc2swczOJJZTzv+j+2n6\nib6mUtpHvlfzODP7jpm90MyeWVheeSz1KheXJv6Fmb2qWMnMJpjZh4A/EaPw11R7AjM7ADg3t2kT\ncFqlEe1pjuO35zY1EcuOD1UwMyq5+x3EYKeSycCfzOybZtbrADozm25mp5rZT4gp+d7Sx2neD+RX\n+Xuvmf2o+Po1s7rUc72UGEg7JHMQu/sWor35LwUfJO73kZX2MbNmM3uFmf2CvlfEvDr392Tgt2b2\n6vQ5VVwafTD34WrgB7lNk4DLzewfUvpXvu1Tzewc4PzCYT62g/Np18rHgUfTa+Hk3paxTp/BbyGW\nf88bM73eIuOVpnIbfo3E6ncnA5jZA8CjRLDUTfzz3A/YtcK+K4DX9bUAhrt/z8yOAd6aNtUBHwXe\nb2Y3AKuIaZ4OY/tR/MvYvpe6ls6j59K+/5AuRVcRc3+OBd8jZo94Zro9C7jUzB4hvshsI36GPoL4\nggQxOv3dxNymfTKzicQvBRNym9/l7r2uHubuPzezbwPvSpueCXwbeFOV92lccPevpGDtH9OmeiKg\nfb+ZPUwsQb6OeE9OJx6nxQM4/l1m9nF69hifDpxmZjcCjxGB5KHEzAQQv558iCHKB3f3y8zso8B/\nkM3PfDxwvZmtAu4kViycQOSlH0Q2R3elWXFKvgN8BGhJt49Jl0oGm8rxPmKhjNLqoNPS+f/VzG4m\nvlzMB47MtafkYnf/r0GevxZaiNfC6YCb2d+Ah8mml1sAPJvtp5/7lbsPdkVHERkkBcfDYy0R/Faa\nUmovqpuy6ArgHVWufnZmOudZZP+omuk74LwWOGkoe1zc/SdmdgQRHIwL7t6Weor/TBYAASxKl6JN\nxICs+6o8xXnEl6WS/3X3Yr5rJR8ivoiUBmW90cz+5O471SA9d3+nmd1JDFbMf8HYneoWYulzrlx3\n/3r6AvNFsvdaPT2/BJZ0El8Gr65QVjOpTSuJgDLfa7mAnq/RgRxzuZmdQQT1E/qpPiju3ppSYH5J\nz/SrWcTCOr35TyqvHjrSjBhUXRxYXfQTsk4NERlBSqsYBu5+J9HT8QKil+kWoKuKXbcR/yBe4e4v\nrnZZ4LQ604eJqY0uo/LKTCX3ED/FHjMcP0Wmdh1B/CP7C9GLNaYHoLj7fcAhxM+hvT3Wm4DvAwe5\n+x+qOa6ZvYGegzHvI3o+q2nTNmLhmPzyteeZ2Y4MBBzT3P0/iUD434GVVezyN+Kn+qPcvd9fUtJ0\nXMcQ801X0k28D4929+9X1ehBcvefEoM3/52eeciVrCYG8/UZmLn7T4jxE58nUkRW0XOO3ppx9/XA\nC4me1zv7qNpFpCod7e7vG8Sy8rV0EvEY3UjPtJtKuon2n+jur9fiHyKjg7mP1+lnR7fU27R3uswl\n6+FpJXp97wGWpUFWgz3XNOKf9y7EwI9NxD/Em6oNuKU6aW7hY4he4wnE47wSuCblhMoIS18QnkX8\nkjOdmEZrPfAg8Z7rL5js69jPJL6ULiC+3K4Ebnb3xwbb7kG0yYj7uz8wh0j12JTadg9wr4/yfwRm\nthvxuM4jPivXAo8T76sRXwmvN2bWAhxA/Do4n3jsO4hBsw8At41wfrSIVKDgWEREREQkUVqFiIiI\niEii4FhEREREJFFwLCIiIiKSKDgWEREREUkUHIuIiIiIJAqORUREREQSBcciIiIiIomCYxERERGR\nRMGxiIiIiEii4FhEREREJFFwLCIiIiKSKDgWEREREUkUHIuIiIiIJAqORUREREQSBcciIiIiIomC\nYxERERGRRMGxiIiIiEii4FhEREREJFFwLCIiIiKSKDgWEREREUkUHIuIiIiIJAqORUREREQSBcci\nIiIiIomC4z6Y2RQz+5qZPWhm7WbmZrZ8pNslIiIiIkOjYaQbMMr9EnhR+rsVWAs8NXLNEREREZGh\nZO4+0m0Ylcxsf+BuoAM4xt1vHOEmiYiIiMgQU1pF7/ZP13cqMBYRERHZOSg47t2EdL1pRFshIiIi\nIsNGwXGBmZ1tZg5cmDYdmwbilS7HleqY2YVmVmdm7zOzm81sfdp+cOGYzzazH5rZY2bWZmZrzOyP\nZvbaftpSb2ZnmdmdZrbVzJ4ys9+Y2dGpvNSmxUPwUIiIiIjsdDQgb3ubgNVEz/FUIud4ba68Pfe3\nEYP2TgK6gI3Fg5nZPwL/RfZFZD0wHXgJ8BIz+yFwhrt3FfZrBC4FXpY2dRLP14nAS83s9Tt+F0VE\nRESkEvUcF7j7v7v7fOCDadP17j4/d7k+V/01wAnAe4Cp7j4DmAc8BGBmR5EFxj8Hdk11pgOfBhx4\nE/DPFZryaSIw7gLOyh1/MfAH4Du1u9ciIiIiAgqOB2sy8AF3/y933wLg7k+6e2sq/yLxGF8HvN7d\nV6Q6m9z9S8BXU72Pm9nU0kHNbArwkXTzs+7+DXffmvZ9hAjKHxni+yYiIiKy01FwPDhPA9+rVGBm\nM4Hj082vFNMmkn8FthFB9stz218CTEpl3yzu5O4dwNd2vNkiIiIiUomC48G5xd07eyl7NpGT7MBV\nlSq4+wbg1nTzkMK+AHe4e2+zZVwzwLaKiIiISD8UHA9OX6vlzUnXG/oIcAFWFOoDzE7Xq/rY7/F+\n2iYiIiIiA6TgeHAqpUoUNQ95K0RERESkJhQcD51Sr/IEM5vTR72FhfoAa9L1gj7266tMRERERHaA\nguOhczuRbwzZwLwezGwacGi6eVthX4CDzWxyL8d//qBbKCIiIiI9KDgeIu6+Frgy3fy4mVV6rD8O\ntBALj/wut/0yYHMqe29xJzNrAD5U0waLiIiIiILjIfYZoJuYieJiM1sIYGaTzeyTwCdSva/m5kbG\n3TcCX083/8XM3m9mE9K+uxELiuw+TPdBREREZKeh4HgIpdX03kMEyK8DHjWztcQS0l8ipnr7Edli\nIHlfJHqQG4i5jlvNbB2x+MfLgbfl6rYN1X0QERER2ZkoOB5i7v7fwGHARcTUbJOBDcDlwOvc/U2V\nFghx93bgRGKlvLuJmTE6gV8Dx5ClbEAE2yIiIiIySObu/deSUcfMXghcATzi7otHuDkiIiIi44J6\njseuj6Xry0e0FSIiIiLjiILjUcrM6s3s52Z2QpryrbR9fzP7OfBSoIPIRxYRERGRGlBaxSiVpmvr\nyG1qJQbnTUy3u4F3u/sFw902ERERkfFKwfEoZWYGvIvoIT4QmAs0Ak8AVwPnuvttvR9BRERERAZK\nwbGIiIiISKKcYxERERGRRMGxiIiIiEii4FhEREREJFFwLCIiIiKSNIx0A0RExiMzexiYCiwf4aaI\niIxVi4FWd999OE86boPjiS9vcIC6jvrytsau5rimEYCmusZy2bzZ8wHoau8G4G/3PlAu27ZxKwAN\nxLG6t2QzfHRtivp1nVFW55ZrRRcATtTvzjewLtXL9d1Pmd4CwJwFUwF49LEny2Ud7XFtXXGelpbs\naBOnxPEnz4rbzZOzY86YHfWnTEn7NWZP+dSpWwD40bnd+UaLSG1MnTBhwswlS5bMHOmGiIiMRffe\ney9bt24d9vOO2+CYFO7lJ6rr6u4EoGNbrK3R1p0FzhOaWgHo7og9Ojqy9Tc8xaF1DRHJNk3MHrat\nbduiTqrk3XW5/bxHG5xcDFoKoruyFjZNjH27Se1sy7W+I+p7V9RpT4E+QGdqa1t77NcwMRe8p7vR\n4E1xPSn7QtA5oQ2R0cbMlgO4++KRbcmgLV+yZMnMW2+9daTbISIyJh166KHcdttty4f7vMo5FhER\nERFJxm/PsYjICLt75QYWf+K3I92MUWn5V08c6SaIiFQ0boPjrlK6QkdXeVt3e2yz7u1TGlo3bACg\nLaVcdHdm+5XyIhpSvu7sGbPLRWu61wCwZX3KienOjumdKRWitC2f2VvK6Mj13U+YVmpySnfINYHU\nZivt0J09dZ3bIp2iK53HtmVtaGyIdA/rjPZtm5blKjdP0A8HIiIiInmKjkRk2Fl4n5ndY2bbzGyl\nmZ1vZtP62OcNZnalma1P+9xrZp82s+Ze6u9rZhea2WNm1m5mq83sIjPbp0LdC83MzWwPM3u/md1p\nZlvNbGkN77aIiIwB47bnuLMzzSKRm4jByiPjYltXrqx1YwzIq/N4SOrqs8F63RY9s51d0ZXb5Z3l\nsoYJaZaK9nSsrIi6tnSezlLPcW6AXRoXZ825Xt40kG7zunSQ/PQWqc11del+2baszKK3uzkmu6C+\nOWt76Rhtm+PYa9uzQXiz5ueHK4oMq3OBDwCrgAuADuAk4AigCWjPVzaz7wFnAiuAXwDrgecCXwRe\naGYvds/emGZ2AvBL4p32a+ABYCHwGuBEMzve3W+r0K5vAM8Hfgv8jp6/34iIyE5g3AbHIjI6mdlR\nRGD8IHC4u69N2z8FXAksAB7J1T+DCIwvAd7o7ltzZWcDnwPeSwS2mNkM4MfAFuAYd1+Wq38AcCPw\nHeCQCs07BHi2uz88gPvT23QU+1Z7DBERGT3GbXBs5U7h3LRmXaXe5Mgmqct1nHaWcoy7StOv5QpT\n8klXqrOtI+u1nTJzCgDdqUd387psPj5P06/VNZemaMu6gutb4vjNuR+R61Mvclt7aktuzmRL7amv\ni17ihoa6Wn8hAAAgAElEQVRcj3NLHH/2ggkATJ2Z/crc3BK9yNs2Rps3btmStc/Vcywj4sx0/aVS\nYAzg7tvM7J+JADnvg8RvMm/LB8bJF4H3AW8kBcfAW4DpwPvygXE6x91m9j/AWWa2X7EcOGcggbGI\niIw/4zY4FpFRq9Rje1WFsmvJpTKY2UTgWcAaIqCtdLw2YEnu9pHp+lmpZ7lo73S9BCgGxzf31fBK\n3P3QSttTj3Kl3mkRERnFFByLyHAr/V6yuljg7p1mtia3aQYxz8scIn2iGmmtSN7RT73JFbY9UeU5\nRERknBq3wXFDWs2uq617u7LGxhgN57k0B0udVaXUC+/MUg4sLfU8dXIs6/ziF7+oXDZrTqwMe9nl\nlwPw940P5faLlAa3OGbLpGyg3JQ50b6ps7OesMbGlFZRmn4u10tWGh84eUrs19yU3Z+JUyKNYvGi\neVFnRktWaDEAb0NDHLOxJXvKJ05SWoWMiA3peh7wUL7AzBqA2cTAu3zd29292l7Y0j7Pcvc7B9g2\nvSlERHZy4zY4FpFR6zYi3eBYCsEx8DyyWcBx901mdg+wv5nNzOco9+FG4LXErBMDDY5r6oBdpnGr\nFrsQERlTxm1wXJ41LTddG556kzvSwhhtud7h0iIbacfGxqxrdu6MOQA89/DnAvDSF7+0XFYanPfY\n448DsOrx7BfhrWk2qrq6uJ63aEK5bOa8ON+EiVnzNq6PdnWnDu36plwvb1PUnzQpeoAnTszKZs2J\nQYGLFy8EYI+9di+XPfDAPQC0bYp2NU3I9mtuUSeZjIgLgbcDnzKzS3OzVbQAX6lQ/2vAd4HvmdkZ\n7r4+X5hmp9g9NzXb/wKfAj5nZn9x95sL9euIWSyW1vA+iYjIODFug2MRGZ3c/TozOw94P3C3mf2c\nbJ7jdcTcx/n63zOzQ4H3AA+a2R+BR4GZwO7AMURA/K5U/2kzO4WY+u1GM/sTcA+RMrErMWBvFtCC\niIhIgYJjERkJHwT+RsxP/E7gaSKY/STw12Jld3+vmf2eCIBfREzVtpYIkv8N+GGh/p/M7CDgo8BL\niRSLduBx4M/EQiIiIiLbGbfBcUdpIF5HtkJ2fVdKq9gSZU1bspQLb0xzEaf5g/ff54By2VtPejMA\nM6ZNB+CSiy8plz2y6jEApsyKAfiHHvGcctljKyOdcsvWJwGYvSB7uBvrNkeb8nMfd8fAutIAwJZp\nWdsnpbmSGxtinuOm5o5ymVmMP1q14l4AZk3PcjWmT4o2P90Qx27rzhYe6+qsOC2WyJDzmGT7/HQp\nWtzLPr8BfjOAcywn5kCupu4ZwBnVHltERMavuv6riIiIiIjsHMZtz3FjoScYwNMUaV0dsa29I+s5\n7fLowZ2Seodfd/Jp5bLXvPxUAB5ZHgtnzZo2r1z2yGMx49STq2LK1pNPO6lcdojvB8Dll/8KgHrL\nVqcrDcdvrsumd9uSepFb0ri90iA8gObuTgAmNaZ2TszKWpqiN7irPXqQ77njpnJZU1MM1qtLc8G1\nNGWr53V1tCEiIiIiGfUci4iIiIgk47bnuGVCxP2eW0jD073d1hW9sJ25fN/S9GkLnhHToc2btUu5\n7LGHYpq2xuZJALzx9LeUy/b+a6xE+8gTkV988IEHlss2bmoF4HpbCsCalevKZfPnxLEmTcymjNvS\nGPVnROc1E5ty+cht0ebpzWlBktyCIk1N8XddylXu7iqvvot1bo2y+jhPXUPWc2x1mspNREREJE89\nxyIiIiIiiYJjEREREZFk3KZVWF2kJNQ3Z+kHDWmQntVH+kFbtmAd7dsixWDCxNh43dXXl8uufupq\nAHZZtCsAzzxgr3LZLgsi/WL+LjMB2GOXxeWyzZtioNwLjjwBgEsv+Vm5bMNTGwGYNWVyedvkyVF/\n7ryU7tCepVU0N8W2aQ3R9mkT8k9dbPO0m1uWLtHQEPe5rjHSKRqas7QKmsbt0y8iIiKyQ9RzLCIi\nIiKSjNuuw+40wq67OzfozOK7QH1aI6OpORus19QRParTZkwFYPmjD5bLlv91OQB1tzQCMOXPWW/v\nM3adC8CceTGKbtrk6eWyPRbtC8CrTngNAFMnTCqX/fEP/w+Ahx9aUd42Z9dYzXbGzLhufWpNuawl\nfY2ZkHq967JOZdrbutJ9Tb3Elhto6LFYSENDWviErOe4oT7rVRcRERER9RyLiIiIiJSN357jNJtZ\nV2fWc9xVFxsbUt4uuanMmurje8KCZ8wG4MnWp8tlW7pjcY1Zk2Pxj1VPZL29y5b9FYCJE6M7uqst\n641+5zsjR3n23OhdPuGEE8tl06bH4hwX/fii8rbWTXHOAw7aDQDLZmTDWmMaOEuJxdu2Zb3D7dtS\nznF3qSc4K2voSMtFeyz40dySPeUNExoRERERkYx6jkVEREREEgXHIiIiIiLJ+E2r6I5Ug67cgLzS\nX95daWW4WIHuvvvvAmDV/U+WSzZ7TLv24sNfCMDE5inlst/9+vcArF4Vg+f+9IerymUHH3wEAMe/\n+FgAtmzrKJcd8KxnA/DG5iy14fZltwEwf0EM3HtyZdaGju4tALSn1e+6ctO8dXWmY3isgufWmd3n\njvi7MZ27uy2Xq9GZrc4nIiIiIuo5FpFRxsw+YGbLzGyrmbmZnTXSbRIRkZ3HuO05riuNi8tNeWaW\nNnZZup2f5i3+XrXmMQC2Nm4rF03bLQbbLd53IQD77vns3DFjarSrL48e4ydXrSqX/frXlwKwfmMM\ntFu3/qly2Z57LQbgiOceXt62y6IYiPf4qocA2Nh6ZbmsY0v08s6aNytuN7eXy9o3R9utPtrS3bk5\na197/N3t8T3Iu7Kp3Oq7sinpREYDM3s98A3gduBcoA24cUQbJSIiO5VxGxyLyJj0itK1uz8+oi2p\ngbtXbmDxJ3470s0YEcu/emL/lURERiGlVYjIaPIMgPEQGIuIyNg0bnuO6xsi1aA+yz6gMX0XqPOY\nD7jbs8FpXWnOY2+I+YBtelbWODUeppUbYn7jldevL5fte8CBACxeGCkXV192ebns9vuWAfDgw38H\nYEvrxnLZQQceBMCz9j2kvG3BnGcA0ESkfRxy0FHlsttuiV+W9zj4MADWr8nmYV71cMQRcxYuAGBi\nQzYg74llMcCwtHre/Hl7lcuaWjQgT0YHMzsb+Fzudjnnyd0t3b4KeD3wL8DLgPnAP7j7hWmfBcCn\ngROJIHsDcA3wJXe/tcI5pwGfB04BZgPLgQuAXwEPAv/n7mfU9I6KiMioN26DYxEZU5am6zOARUTQ\nWjSTyD/eBPySGFGwGsDMdgeuJYLiPwM/BnYFXgecaGavdffflA5kZi2p3iFEfvOPgGnAp4DnD6Th\nZrZd4J3sO5DjiIjI6DBug+P6xuh9bc7Gn1GXpnfzrtRLnBuP112a6K0+eoytISvc0r4JgFvuuQGA\njU9ng/Vat60G4C2vOhOAXRfsUi7b+oMfALC+NXqau6ZMz/Zb3wrAujXrytvmptX5pk2OQXfHHH98\nuWztppgqbmNa+m99W9Ylbi0TAJg6fw4AC2dnU81tXr0SgM5tsd+cuXPKZU8/nU0VJzKS3H0psNTM\njgMWufvZFaodCPwAeJu7dxbKvk0Exp929y+VNprZt4Crgf8zs0XuvikVfYwIjC8GTnePTwMz+xJw\nW63ul4iIjD3KORaRsaId+GgxMDazhcBLgEeBc/Jl7n490Ys8E3hNruitRM/zP5cC41T/MWKWjKq5\n+6GVLsB9AzmOiIiMDuO257i5uZRXnG3zjug57kgLaViufl2a5q0u9SDX1edL43/x2s2R29s4NSu7\n65GYwu3aO2Matte84Mxy2WlvPD3O253mk+vM8phv/ctNALS1b81O0x1PR1tbtKF5yqRy0T7P3g+A\n5Y/FNG/1zRPKZVNmtMTudbEYyKp1WW/0+s2xeMiMljjWmqdXlsueXvcEImPIcnev9HNHaW7Fa9y9\no0L5n4E3pXrfN7OpwJ7AY+6+vEL9a2vRWBERGZvUcywiY0Vv3+ampetVvZSXtpfymqam69W91O9t\nu4iI7AQUHIvIWFFp3XeIWSkgZq+oZEGhXmu6ntdL/d62i4jITmDcplWUpnKra8xSILpTamFHeyrL\n109pFaX0w3xSRX2qWNcUv9g2Tc3KOjti6rcb7r4CgL33yFbPW7Br/I+dOmkGAI2WTZ12003XAfDA\nQw+Ut+26KKZZu2JprIzX2ZytdLfPIbtH+9IAw6fr1pbL1q6Iad3uXHZ/nHdetvJd67ZoX31npIY0\nWParc11DcUyTyJh0e7p+npk1VBisVxrZehuAu7ea2UPAYjNbXCG14nm1atgBu0zjVi2GISIypqjn\nWETGNHdfAVwOLAbOypeZ2RHA6cA64JJc0feJz7+vWHldeTCzXYvHEBGRncu47TmOgeiQ+79X/rs+\nxurR1Zn9SlseNJcWA8n/gFtXl6aFmxi3GydmhY3peltnjBO6+tZflcu2PhXXixfsA8D8WbuVy1Y+\nEYP7jjzq8PK2jtS7e9111wPQ3pBbNOTwJQA0pN7n+vKZ4fnPOw6Ai37zizhvWzbwb8HCOOeGR2Ih\nks5c2ydNyI4hMsa9C7gO+DczewlwC9k8x93Ame6+MVf/HOBkYlGRfczsMiJ3+VRi6reTKX2IiIjI\nTkU9xyIy5rn7Q8BziPmO9wE+Sqyi9wfgaHe/tFB/K5FucR6Rq/yhdPvLwFdStVZERGSnM257jkur\nz7rlx/CknuN0r+ss+27Q3RWdRHWl/OJc0nEp57i5KbqcG+qzY1p97NfUErm9T226o1y28uHIGb7t\nL5ESuWD2nuWyg/aLZacPO+Kw8rabb4p6jzz8MAAtU7L21bfH37MnxkIhE+dPLJftvnAxAEc/92gA\nlt2bLdg1a2bU37Qyeo67PVvApK5ePccyurj7cb1st0rbC3VWAu8ewLnWAx9IlzIze0f6895qjyUi\nIuOHeo5FZKdkZs+osG034DPE5Oa/HvZGiYjIiBu3PcciIv34hZk1ArcC64kBfa8AJhIr5z0+gm0T\nEZERMm6D47p0z/KTOnWnFIvSADvLpVV0pinc6tOAvMaUQgHQ1Bj16lNahnVlZXV1kVbhFukKHZYt\n4LVgt1hz4O9rNwHw+KpHy2Wzpsf0bqufytY1uOKKPwLw0N9jercjn/ecctnUhpg/bu6COdGG2Vnb\nb77uZgDWbogp3VatyC0i1hgPgHfHdVNuZb0tW9oR2Yn9AHgz8FpiMN4m4CbgfHf/5Ug2TERERs64\nDY5FRPri7t8CvjXS7RARkdFl3AbHjQ1x1zobssFzdWn8WXep5zg3xqc0AK+0ZUJzNlitsTRKrzP1\ntLZlMzxZd+xRVxfTp9W3ZNOozZgTbXjlK48FYOPqlnLZzX+5EYCrbri8vG3ZPXcB2bRycxZlC35t\n2LQl2kL0/O612+7lsrua7wHgmsuWArB+45pymc+INsydGPehy7OFSFY9/jQiIiIiktGAPBERERGR\nRMGxiIiIiEgybtMqKC90l1shr6G0Ql58J8hPnFqXyiytmlefS7loskiHSGPvaLYsNaGuOwbn1bfH\ngDyrz9IqGhpjEN3xzzsxjuOzsuY1xLzIrVvXlbc1T4inY9rCKQC0zM3Oc8W1fwLgwF33A2C/vfYp\nly3aYw8A2rfEMRfMmVsuO/LIfQF46tHbAFi/aUO5rL2zDRERERHJqOdYRERERCQZtz3HbW3Rg9vV\nkW0rLbJVl6Z0a8h1HVvqai4N0ps5dXa5bOGcGPy27ukYwDZ31rxy2cyZMbXaiscfAmDW9Mnlssbu\nGFA3Y3L07G7btLlcNqEleqPnzd6lvO0FJ8T0bmt+9zMA7vvb/Vn7tsb16gdXAnDAAfuXy+qb42nc\nZeFuACzaI1vboK4xurvb6mI6uWmzsmnopk2bgYiIiIhk1HMsIiIiIpKM257j7q7UE2y56dpK87WV\nFvzI9xxbPgMZdpm3qPz3MxcdCMCahlYAutqyuotnHwDAYfu9FIB587J83+7OyB3euiV6b3/z+4vL\nZatW/x2AhqZsyrgnn94IwMbN0U287t7Wctn++0SO8cOPRQ/1VTdclbVvjyUArN8Q+3f8PVtsZOKU\nONakSdGTPn9h1r5Nq7Pji4iIiIh6jkVEREREyhQci8ioYWaLzczN7MIq65+R6p9RwzYcl455dq2O\nKSIiY8e4TavoSjOqNdTn0yriurQCHT1SKVKqRX0MWHti9epyyepHrwfgOUuOA2DDlmxg3ZonY6Db\nwQceCUB3bgq4tetiAN/v/vgrAO645zflst33mhnna8lWqVvdGivdWf16AKZPmVguW7RHPFUNi2Kw\n3ay52WC6q66+BoDbb7sDgBcef3y5bNb0SO3oIlbNe+KJLeWyJx96ChERERHJjNvgWER2CpcANwKr\nRrohldy9cgOLP/HbkW7GsFn+1RNHugkiIoM2boPjUg9weRAeYHXRO+ypl7g7V78xrbfR3RZbW7eu\nL5e1pOyTpzZEb/KjK7IBb/c/+lcA1myKKdY2b9paLtu8NXpmH1n1QBxnbtZrO2lu9Ap3N2fH2mXv\nJwCYuWszANMnZYuGTG6KHuaGruhx9q6s9TffeGsca2t0l7flpoxr3zgJgGV/i2NPa/Jy2cwJ2d8i\nY5G7bwA29FtRRESkSso5FpFRycz2NbNfmdlaM9tsZtea2UsKdSrmHJvZ8nSZamZfS3935POIzWye\nmX3XzFab2VYzu8PM3jo8905EREarcdtzjG/3B+7dPbZ01uXKUv5xQ3Ns29q9sVzWMjF6X1dviWnU\nNjU8US5raIze2qfSYiMtU1vKZfXNsTT0lNRH3d2ULcDR1hjHX9+WLeHcMjGO1VQX3dgbc1OtLXsg\n/p7c0h77L15eLnvswRVA9k3n/jvvKpc9/nA8xV11sd/Mudn3oWkzspxmkVFmd+AG4C7gv4EFwGnA\n783sdHf/SRXHaAL+DMwELgNagYcBzGw2cD2wB3BtuiwAvp3qiojITmr8BsciMpYdA/y7u3+stMHM\nzicC5m+b2e/dvb+JuhcAy4Bj3X1zoezLRGB8rrt/qMI5qmZmt/ZStO9AjiMiIqOD0ipEZDTaAHwh\nv8HdbwF+BEwHXl3lcT5SDIzNrBF4I7AROLuXc4iIyE5q3PYcd6dV8OpyU6vVlaZuS9kUXeQH68V1\nfVNss9JccEBHXfxv3VYfg+LqpmYpF10WZU+1RSdWY2f2kNZ3pgFy3bEKXnd3llbRujnyMJ5cmw3S\n27o2rtcs3wbAhhXZ/dm6IaV91MeUbHdPyaaF27w+jtFUF8fvbttWLutujv0mTU3XE7MV+aZMb0Jk\nlLrN3TdW2L4UeCvwbOD/+jnGNuDOCtv3BSYC16QBfb2doyrufmil7alH+ZBqjyMiIqODeo5FZDRa\n3cv2UsL/tCqO8aS7V5qSpbRvf+cQEZGd0LjtOW6ZGNOh7bHb4vK26ZNiQYz2tui17erMvht0dceA\ntcb66O2d0DihXNbdEfUmtMQxm5t2KZd1pgF1LU0xaG9La9Zr274+yhrbY0BeV3vuu8iGOF/95tz/\n7jXx98y6eFomzsh6r2169Pg2NUbZ5GmTy2VL9o4e4I62WJBk4oRsOrkJk+Nva4ie7d0WZ9PDtUzu\nRGSUmtfL9vnpuprp23qbq7C0b3/nEBGRndC4DY5FZEw7xMymVEitOC5d3z6IY98HbAEONrNpFVIr\njtt+lx1zwC7TuFULY4iIjClKqxCR0Wga8Nn8BjN7DjGQbgOxMt4OcfcOYtDdFAoD8nLnEBGRndT4\n7Tm2SGXYuCHX8dQWv7I2WBqI1p4VdXZECkNzSsfo7sgGq23ZGGkYWzpi4Nvs6XPLZWufjINsaU0r\n6nVk3zc2PR1pDk+tjoF8TY2TymUTWqZGnQ1ZCkRLYzp3d6RjtOXmQG5oSE+VRZ0tm7PBhDHuKLue\nPDNbPa9xSqROzJo7Ld3O2tdmWdqGyChzNfB2MzsCuI5snuM64J1VTOPWn08CLwTOSgFxaZ7j04Df\nAa8a5PFFRGSMGr/BsYiMZQ8D7wK+mq6bgduAL7j7Hwd7cHdfY2ZHE/MdvxJ4DnA/8G5gObUJjhff\ne++9HHpoxcksRESkH/feey/A4uE+r1UezC0iIoNhZm1APfDXkW6LSC9KC9XcN6KtEOnds4Aud28e\nzpOq51hEZGjcDb3Pgywy0kqrO+o1KqNVHyuQDikNyBMRERERSRQci4iIiIgkCo5FRERERBIFxyIi\nIiIiiYJjEREREZFEU7mJiIiIiCTqORYRERERSRQci4iIiIgkCo5FRERERBIFxyIiIiIiiYJjERER\nEZFEwbGIiIiISKLgWEREREQkUXAsIiIiIpIoOBYRqYKZLTSz75nZ42bWZmbLzexcM5sxwOPMTPst\nT8d5PB134VC1XXYOtXiNmtlSM/M+Li1DeR9k/DKzU8zsPDO7xsxa0+vphzt4rJp8HvemoRYHEREZ\nz8xsT+B6YC5wKXAfcDjwQeAEMzva3Z+u4jiz0nH2Bv4MXAzsC5wJnGhmR7r7Q0NzL2Q8q9VrNOfz\nvWzvHFRDZWf2aeBZwCZgBfHZN2BD8FrfjoJjEZH+fYv4IP6Au59X2mhmXwM+BHwJeFcVx/kyERh/\nzd0/kjvOB4BvpPOcUMN2y86jVq9RANz97Fo3UHZ6HyKC4geAY4Erd/A4NX2tV2LuPpj9RUTGtdRL\n8QCwHNjT3btzZVOAVYABc919cx/HmQw8CXQDC9x9Y66sDngIWJTOod5jqVqtXqOp/lLgWHe3IWuw\n7PTM7DgiOP6Ru79pAPvV7LXeF+Uci4j07fh0fVn+gxggBbjXAROB5/ZznOcCE4Dr8oFxOk438MfC\n+USqVavXaJmZnWZmnzCzD5vZy8ysuXbNFdlhNX+tV6LgWESkb/uk67/1Uv73dL33MB1HpGgoXlsX\nA18B/gP4HfComZ2yY80TqZlh+RxVcCwi0rdp6XpDL+Wl7dOH6TgiRbV8bV0KvBJYSPzSsS8RJE8H\nfmJmyomXkTQsn6MakCciIiIAuPvXC5vuBz5pZo8D5xGB8h+GvWEiw0g9xyIifSv1REzrpby0ff0w\nHUekaDheW98hpnE7OA18EhkJw/I5quBYRKRv96fr3nLYnpmue8uBq/VxRIqG/LXl7tuA0kDSSTt6\nHJFBGpbPUQXHIiJ9K83F+ZI05VpZ6kE7GtgC3NjPcW4EtgJHF3ve0nFfUjifSLVq9RrtlZntA8wg\nAuQ1O3ockUEa8tc6KDgWEemTuz8IXAYsBt5bKP480Yv2g/ycmma2r5n1WP3J3TcBP0j1zy4c533p\n+H/UHMcyULV6jZrZ7mY2s3h8M5sD/G+6ebG7a5U8GVJm1pheo3vmt+/Ia32Hzq9FQERE+lZhudJ7\ngSOIOTf/BhyVX67UzByguJBCheWjbwaWACcRC4QclT78RQakFq9RMzsD+DZwLbEozVpgN+DlRC7n\nLcCL3V158TJgZnYycHK6OR94KfE6uyZtW+PuH011FwMPA4+4++LCcQb0Wt+htio4FhHpn5ntCnyB\nWN55FrES0yXA5919XaFuxeA4lc0EPkf8k1gAPA38Hvisu68Yyvsg49tgX6NmdiDwEeBQ4BnAVCKN\n4h7gp8B/u3v70N8TGY/M7Gzis6835UC4r+A4lVf9Wt+htio4FhEREREJyjkWEREREUkUHIuIiIiI\nJAqOxyEzW2pmngZXDHTfM9K+S2t5XBEREZGxYFwvH21mZxHra1/o7stHuDkiIiIiMsqN6+AYOAtY\nBCwFlo9oS8aODcQKNI+OdENEREREhtt4D45lgNz9EmI6FBEREZGdjnKORURERESSYQuOzWy2mb3H\nzC41s/vMbKOZbTazZWb2NTN7RoV9jksDwJb3cdztBpCZ2dlpgvNFadOVqY73MdhsTzP7bzN7yMy2\nmdk6M7vazN5uZvW9nLs8QM3MpprZOWb2oJltTcf5gpm15Oq/0Mz+aGZr0n2/2sye38/jNuB2Ffaf\nYWZfz+2/wswuMLMF1T6e1TKzOjN7s5ldbmZPmVm7mT1uZj8xsyMGejwRERGR4TacaRWfIFbeAegE\nWonlKJeky5vM7EXufmcNzrUJWA3MIb4ArAPyq/qszVc2s1cAPwNKgewGYn3u56fLaWZ2ch9rdc8g\nloHdB9gM1AO7A58BDgZeZWbvAc4HPLVvYjr2FWb2Ane/rnjQGrRrFvAXYE9gK/G47wK8AzjZzI51\n93t72XdAzGwK8EvgRWmTEysrLQBOBU4xsw+6+/m1OJ+IiIjIUBjOtIpHgU8CBwET3H0W0Aw8B/gj\nEcheZGbbLbc6UO7+7+4+H3gsbXqNu8/PXV5TqpvW6L6YCECvAvZ19+nAFOCdQBsR8H2jj1OWlkN8\nvrtPBiYTAWgn8Eoz+wxwLvBVYJa7TwMWAzcATcDXiwesUbs+k+q/Epic2nYcsSTjHOBnZtbYx/4D\n8f3UntuI9dInpvs5E/g00AV8w8yOrtH5RERERGpu2IJjd/+mu3/F3e9y9860rcvdbwVOApYB+wPH\nDFebkk8SvbEPAi939/tT29rc/QLgA6ne28xsr16OMQl4hbtfm/Ztd/fvEAEjxPrfP3T3T7r7+lTn\nEeANRA/rYWa22xC0ayrwWnf/jbt3p/2vAl5G9KTvD5zWz+PTLzN7EXAyMcvFC9z9Mnffls63zt2/\nBHyWeL3982DPJyIiIjJURsWAPHdvAy5PN4etZzH1Ur823fy6u2+pUO07wErAgFN6OdTP3P2BCtuv\nyP39lWJhCpBL+x0wBO26phSwF857P/DzdLO3fQfiren6f9x9Qy91fpSuj68mV1pERERkJAxrcGxm\n+5rZ+WZ2p5m1mll3aZAc8MFUbbuBeUNoDyLvGeDKShVSj+vSdPOQXo5zVy/bn0zX28iC4KLV6XrG\nELRraS/bIVI1+tp3II5K1582sycqXYjcZ4hc61k1OKeIiIhIzQ3bgDwzez2RZlDKce0mBpi1pduT\niWwMvc0AACAASURBVDSCScPVJiLvtmRlH/VWVKift6qX7V3perW7ez918rm/tWpXX/uWynrbdyBK\nM19Mr7L+xBqcU0RERKTmhqXn2MzmAP9DBIA/IQbhtbj7jNIgObJBaYMekLeDWvqvMiJGa7vySq+j\nV7u7VXFZPpKNFREREenNcKVVvIzoGV4GnO7ut7p7R6HOvAr7dabrvgLEaX2U9eep3N/FAXF5CyvU\nH0q1aldfKSqlslrcp1JqSF9tFRERERn1his4LgVxd5ZmTchLA9BeUGG/9el6rpk19XLsw/o4b+lc\nvfVGP5Q7x/GVKphZHTH9GcQ0ZcOhVu06to9zlMpqcZ9uSNcvq8GxREREREbMcAXHpRkMDuhlHuN3\nEAtVFP2NyEk2Yq7eHtIUZq8tbs9pTdcVc2FTHvAv080PmlmlXNi3EwtnOLEgx5CrYbuONbOjihvN\n7Jlks1TU4j5dmK5famYn9FXRzGb0VS4iIiIykoYrOL6CCOIOAL5pZtMB0pLLHwP+E3i6uJO7twOX\npptfN7PnpSWK68zsJcT0b1v7OO896foN+WWcC75MrGr3DOC3ZrZPaluzmb0D+Gaq9113f7DK+1sL\ntWhXK/BLM3t56UtJWq7698QCLPcAPx1sQ939D0Qwb8AlZvaxlGdOOudMMzvZzP4f8LXBnk9ERERk\nqAxLcJzm1T033XwfsM7M1hHLOp8D/An4di+7/zMROO8KXEMsSbyZWFVvPXB2H6f+brp+HbDBzB4z\ns+VmdnGubQ8Si3FsI9IU7ktt2whcQASRfwLOqv4eD16N2vVFYqnq3wKbzWwjcDXRS/8UcGqF3O8d\n9RbgV0R++DnAajNbZ2atxPN3CRV6/0VERERGk+FcIe/DwD8CtxOpEvXp77OAE8kG3xX3ewg4Avgx\nEdDVE1OYfYlYMKS10n5p3z8Drybm9N1KpCEsAuYX6v0aOJCYUWM5MdXYFuDa1OaXuvvmAd/pQapB\nu54GDie+mKwmlqp+PB3vYHdfVsO2bnb3VwOvIHqRH0/tbSTmeP4pcCbw/lqdU0RERKTWrPfpd0VE\nREREdi6jYvloEREREZHRQMGxiIiIiEii4FhEREREJFFwLCIiIiKSKDgWEREREUkUHIuIiIiIJAqO\nRUREREQSBcciIiIiIomCYxERERGRpGGkGyAiMh6Z2cPAVGLpdxERGbjFQKu77z6cJx3PwfGIr4vd\n2roOgI2tGwFY+9Sactm9v/olACvuuq+8bcZ+iwCYs3FtlO26pFw2ce5CABYunA9Aftnv+vp6AKZP\nnw5AV1dXuWzy5MkA7LrrrnGciRMrNdUGcr9EpCpTJ0yYMHPJkiUzR7ohIiJj0b333svWrVuH/bzj\nOTgGegaRZoOLAfPHKm9L1+3t7QD85aqry2W33nAdACufeAKA5StXlss2rHwMgEmNTeVtLds2A7B1\n1cMAPLj52nJZZ108VZMmTwJ6BrmzZ8/u0b5169aVy6ZMmQLA/vvvB8App5xSLjvkkEMBqKtTdo3I\nEFi+ZMmSmbfeeutIt0NEZEw69NBDue2225YP93kVFYnITsfMFpuZm9mFI90WEREZXRQci8iQUAAq\nIiJj0bhPqxhsKkWPY6Xrru7u8rZSvu+tN9wEwC3XXlMu27h+PcD/Z+/O4+Sq6vz/vz69d6eTdLqz\nJyQdwhaJIqDsQgAFFZ1BZhy3UcDZHGbGZfSnOMOMuON8HXUGFR0UmUHcccMVRcOmCCQgS8IWEkg6\nWye9JL13dZ/fH59T994U1UuSTgLV7+fjwaO677n33FOdovvUpz7nc3jq6U0ANC87OmnrX+K55T+5\n+ebkWM2uLgC6e/sACLk0d3hqzB3O27JlS/L1pk3e/7Rp0wDo6+tL2lp3tAKwZu1DAGzdlqZ2/NsV\nVwKwdOkRRZ+viOyfh1s6ab78p4d6GCJ7ZcNVFxzqIYgcUooci4iIiIhEJR85ntAFeUX62brZI7hr\n/vggAEe8II0Ot8TobnWLP5700pOStu4eX3z3q1/8Mjl20YUXAjAcq03ce+99Sdsb3vgGAF74whcC\n8OCDDyZt3/ve9wCoqvLFfdmVnTt3eoWMadN8Yd7GjRuTttWrVwOKHMvEM7MrgQ/Fby82s4szzZfi\n5c1+C3wY+Fk891RgBrAkhLDBzAJwWwhhRZH+rwcuzp9b0HYS8F7gDGAm0AY8BHwlhPCdMcZdBnwW\neCfwA+AtIYSDv1RaREQOmZKfHIvIIbESaADeBfwR+GGm7YHYBj4h/iBwJ3AdPpkd2NebmtnfANcA\nQ8CPgSeA2cBLgMuAESfHZlYD3AhcBHwBeGcIYXik8zPXjVSO4pi9GryIiDwnaHI8gqJl2+LfyaHh\nXHLs8UfXAJDr7wegra0zaXt6k0eMpzd5mdPZc2YnbWvXrgX2jEIfe+yxQFqK7fY70vzlxYu9BnK+\nlnFPd3fSNmPGDADmzfX+29tak7ZdHV4zeeHC+QAMDAwmbc88k0aRRSZSCGGlmW3AJ8cPhBCuzLab\n2Yr45XnAO0IIX97fe5rZC4AvAruAl4UQHiloXzjKtY34ZPo04PIQwqf2dzwiIvL8pMmxiBxKD0zE\nxDj6e/x32kcLJ8YAIYRNxS4ys8XAL4ClwFtDCDfuzU1DCCeO0O8q4IS96UtERA49TY5F5FC6ZwL7\nOiU+/nwvrjka+D0wBXhVCOHWCRyPiIg8D2lyPA75FIuyMi/btnVzmo7w5BpPq9jV7qkMO7alaQvt\nOz09YvmJHjxqmNGQtO3atQuA6dOnJ8fyqRP5Mm09PT1J20033QRALucpHfkd+QBqamoBmDmryfvu\n2Ja01VZXA7DsKF8ouG79+qStu7tr1OctchBsncC+8v+DtYx61p6OAhrxPOjVEzgWERF5nlIpNxE5\nlJ6d3L9n20hv4BuKHOuIjwv24v43A/8CvBi41cya9uJaEREpQYocjyC7UC4fpb37d3cB8MjqdHF6\n21aP0na17wSgJ1tGrdMjv7++9dcA3H7H7UlbZ6cv3BvObChy7bXXAummHkND6SYgv/jFL4B005H5\n8+cnbYcffrjfu8fvvbsrjQgPx0WEO3bu3ON6gDA82rxEZL/lX8Dlo541snbgsMKDZlaOT2YL3Y1X\npXgV8Oh4bxJC+KSZ9eIl3Faa2ctDCNvGum48li+YziptqCAi8ryiyLGIHCjtePR30T5efw+wyMzO\nKzh+BbC4yPnXADng32Llij2MVq0ihPA5fEHfscBtZjZ/pHNFRKS0KXIsIgdECKHLzP4AvMzMbgQe\nJ60/PB6fBs4HfmRm38Y38zgNWILXUV5RcL81ZnYZ8CXgfjP7EV7nuAl4KV7i7exRxvslM+sDvgrc\nbmbnhBCeGedYRUSkRGhyPIJswkFfv6cr/OIn/je9b1daY3hK3HmuIi6sy2YqWFesfRxTGnJDaX3k\n2bO9JnF1XDAHsCYu7uuPNZPzi+8ABgd9oV9jo9dMnjZtWnqfmALS0rIZgNa29qRtCE+r2Lx5OwA1\ntTWZAe7fjoEi4/BWPF3hlcCbAAM24TvkjSqEcKuZXQj8O/BGoBv4FfAGfGe9Ytdca2YPA+/DJ88X\nAjuAB4GvjOOe15tZP/B/pBPkp8a6TkRESocmxyJywIQQngReO0LzmO/OQgg/pnik+ZL4X7Frfg/8\n2Rj9bhjp/iGEbwLfHGtsIiJSmjQ5HkE2clxT49HWo486EoCbv5/+re6PkdnKWo8AV1ZUJm0zZ80C\noKymCoDtO9Kd63rjwr2KivSfIB9FzkeJd+/enbTlI8Zz5871+1RWPauvjRu9xNyGp9NybfPneepk\nfiFed3daHm7Hjh3FnrqIiIjIpKUFeSIiIiIi0eSMHMewcH5zj8whysr8k9aBnr6k7aH7fBOvuiEv\n6XbeKcclbW27vWxaR7dHeweH009q27s9N7l1u+f7tmYitflSbtlybWVlZXuMK1tOLp9j3N7u+cSz\nZs1M2lpb/djTMWLc25VGh8viE6uu9H/qsswHyZ2Z3GQRERERUeRYRERERCShybGIiIiISFTyaRVW\npFzZUBh6dlv8sqtrFwA//+HNSdMzax8C4JjF8wCYvfTwpK293dMjugY8f6EnpJuB3f/oYwDMm+OL\n6Bqb0p1pH3v8cQB27dqVHKus9MV8+V3zsqXcumOKRj71YjA3mLRt3uo76lWU+5OYPXNG0ta1y1Mn\n2nb4osKFC9N9EJoa0vNERERERJFjEREREZFEyUeOQ6Yom+XDw+aR2e2x9BlAy1PrAFj/pEd021pa\nkrZFTQ0ADPR6tLZzZ1pibWgoRnljabW2vnSDkIpqjwRPq/QNQrp60oVy+fJw+UgwQH19vV8Xy7tN\nmTIlacuXeZseNxtZv35d0pYbzO1xvmV2IsnFsnD5RX65XLoAsDa7IYiIiIiIKHIsIiIiIpJX8pHj\noUxubnurb8Kx+vd/AGDTYw8lbVPKPbI6HEurTSkbTtq6uzxvdyj+uNrbOpO23T2+AUcfHtldt3N7\nel2MFJebvwcZyIwlHwnORofzG33kH+vq6pK2/EYfHR0dAPR0pxHq4QGPHPf1e6m58sx7ntraWgBy\n5s+vq683adu+Pd2UREREREQUORYRERERSWhyLCIiIiISlWxaRX9/PwB3/PY3ybFf3ezl2TrbPTXh\nqEXzk7ahuHhuR9yBLl/SDaCiyhfb9Q/5gr7d3Wlqwu5+30lv204/v7Uz3XUuX5KtMl5fHR8BmmJZ\ntxkz0nJq+TSKfEm37kzqxIYNGwDYGBcR9nR3peOL295Nn+YLB2dMm560DQx4qkXTdL/PwgVpKbee\nnn5EREREJKXIsYg8J5lZMLOVe3H+injNlQXHV5pZGOEyERGRPZRs5Hjz5s0ADIV0YV3vkC9ca2nx\nTTPKy9JNQELcEOTIpUcAUFbfkLQ98ugaAJ5u2QZAd3+6sC6/0G33bo8cDw2mG3fkS7Ply7Y1NKR9\nzp4928fUm0ahn3zySSCN9u7enZaMa2tr83HF0m9TMwv56uu8/7q4+G5KbbqQL/8Mq8v9nzpb5q1a\npdxKSpwA3hZCWHGoxyIiIvJ8VbKTYxGZdO4BlgE7DvVA8h5u6aT58p8e6mHIc9SGqy441EMQkSI0\nORaRkhBC6AEePdTjEBGR57eSnRyvXbsWgMaGxuTYEUctA+APd3udY6tOF8jl0xtCRTkAUxvSRW2t\nMb2hvMbPH+pPF7LtiLWC84vosqkQ+UWBuZynWgwOpukYW7du3aMNnl37uCqzgG/+Al882LHTF/zV\nWpoSUl/p6RFT40K8hmnT0uvm+XWVVXG3vhnp81p0xFHIwWNmlwCvBY4H5gGDwEPANSGErxecuwEg\nhNBcpJ8rgQ8BZ4cQVsZ+vxabzyrIr/1wCOHKzLV/AfwjcBxQBTwJfAP4TAhhjxWa+TEAy4GPAn8O\nzAQeA64MIfzQzCqADwCXAIcBLcBnQwifLzLuMuBvgb/CI7wGrAGuA74cQiYHas/r5gOfAs4HpsZr\n/jOE8I2C81YAvy18zqMxs/OBdwEnxb43Ad8HPh5C6BhPHyIiUlpKdnIs8hx0DfAIcDuwBWgCXg3c\nYGZHhxD+bR/7fQD4MD5hfhq4PtO2Mv+FmX0C+CCedvANoAt4FfAJ4HwzOy+EMFDQdyXwK6AR+BE+\noX4TcJOZnQdcBpwM/BzoB14PXG1mrSGEbxf0dQPwZmAj8BUgAK8DvgicAbylyHObAfwO6MDfADQA\nfwHcaGYLQgj/b8yfzgjM7EPAlUAb8BNgO/Ai4H3Aq83s1BDCrpF7EBGRUlSyk+OHHvLd78oyMbRN\nz3gZtFnJYriepO3pp58G0ohzfhEdwPQYia2u84hudmFdCH6DlpYWIF1MB8+OAOcjw5AurMtGkxcv\nXgyk5d3y50C6wHDndk+nnDV3XtpXDBTmd8ObNjWNHOf1xZJzMxrTSPr8+fOedZ4cUMtDCOuyB8ys\nCp9YXm5mXwohtOxtpyGEB4AH4mRvQ7GoqZmdik+MNwInhRC2xuMfBH4AvAafFH6i4NL5wGpgRT6y\nbGY34BP87wLr4vPqiG2fwVMbLgeSybGZvQmfGN8PnBlC6IrHrwBuA95sZj8tjAbjk9XvAm/MR5bN\n7CpgFfBxM7sphPDU3v3EwMzOxifGvwdenY0SZyLxHwbeM46+Vo3QdMzejktERA49lXITOUgKJ8bx\n2ADwBfyN6rkH8PZvj48fy0+M4/1zwHuBYeCvR7j23dmUixDCHcB6PKr7gezEMk5U7wKWm1l5kftf\nnp8Yx/O78bQMRrj/ULzHcOaa9cB/41Htt474jEf3zvj4N4XpEyGE6/FofLFItoiIlLiSjRzv2OER\n1rt///vkWH5TjeoKf9phKM33TTb2iLm8uaE0/bGywvN1y83fS1RXprnA0+qnArC+3yPGQ8PpdflN\nQI48fCkAb3rzm9OxxKj1rbfemhwrL/O5xDPPPAPA9u3bk7at23w+U1vp0efaurSUW2VlRRynt2U3\n9xgY9HFNnerj3LYl7XO43Ncuvea1f4IceGa2CJ8IngssAmoLTllwAG9/Qnz8TWFDCOFxM9sELDGz\n6SGEzkxzR7FJPbAZWIJHcAu14L9b5sav8/cfJpPmkXEbPgk+vkjbM3EyXGglnkZS7JrxOBXP+X69\nmb2+SHsVMMvMmkIIO0frKIRwYrHjMaJ8QrE2ERF57irZybHIc4mZHY6XGpsB3AHcAnTik8Jm4GKg\neqTrJ0B+JeaWEdq34BP2hjiuvM7ip5MDKJhI79GGR3az928rktNMCCFnZjuA2UX62jbC/fPR7+kj\ntI+lCf/996ExzqsHRp0ci4hIadHkWOTg+Gd8QnZp/Ng+EfNxLy44fxiPXhbTMMLx0eQnsXPxPOFC\n8wrOm2idQKOZVYYQBrMNseLFTKDY4rc5I/Q3N9Pvvo6nLITQOOaZIiIyqZTs5PiZuPhu1erVybGK\nmE5x2AL/9LqyPH36AzlPgbCYVmE2lLR15ne/6/S/w1W7k5RJuns8PWLqNE9bGBpKrysv9zSJ4174\nQgBOPvmkpG37Tg9G5Uu6AaxcuRKAxx5/HIDhTF+Dcee9+hrf/W4wU/UqnzLRE8fSnSk119TYBEBr\nu5eAWxt34QN4xZxigTo5QI6IjzcVaTuryLF24EXFJpPAS0a4xzBQPkLb/fhH/CsomByb2RHAQmD9\nASxfdj+eTnImcGtB25n4uFcXXgQsMrPmEMKGguMrMv3ui7uBC8zs2BDCI/vYx5iWL5jOKm30ICLy\nvKIFeSIHx4b4uCJ7MNbZLbYQ7R78zeulBedfApw+wj124rWGi7kuPl5hZrMy/ZUDn8Z/F3x1pMFP\ngPz9P2lmyf7m8eur4rfF7l8OfCrWSM5fswRfUJcDvl7kmvH4bHy8NtZR3oOZTTGzU/axbxEReR4r\n2chxyyaPHDdlSpe1xehpXa3/be6LG38ADA97ZLY8RpOHh9OobX6DkJ4+j8haV1oCrnOXR5Wrajxd\ntLwy/ZHWVOcXz/n9Nm9O0z23xAV2+RJtANu2eXrltBgJDpnFfXWxj65Ov9+aR9cmbUuO9KDkrjiW\nfAk5gIo4rqEyj4g3H7k0aTviyCORg+aL+ET3u2b2PXxB23LglcB3gDcUnH91PP8aMzsXL8H2Ynwh\n2U/w0muFbgXeaGY341HYQeD2EMLtIYTfmdl/AO8HHo5j6MbrHC8H7gT2uWbwWEII3zCzP8VrFD9i\nZj/E6xxfiC/s+3YI4cYilz6I11FeZWa3kNY5bgDeP8JiwfGM51Yzuxz4JPCEmf0Mr8BRDyzGo/l3\n4v8+IiIyiZTs5FjkuSSE8GCsrfsx4AL8/70/AhfhG1y8oeD8NWb2crzu8GvxKOkd+OT4IopPjt+F\nTzjPxTcXKcNr9d4e+/yAmd2P75D3NnzB3DrgCnzHuWctlptgb8IrU7wd+Lt4bC3wn/gGKcW04xP4\n/8DfLEzDd8j7dJGayHslhPApM7sLj0KfAfwpnovcAvwPvlGKiIhMMpbfxKLUnP7iFweA+mnp2qUt\n7W0AzJ0zE4CjM5HT+1d5uuO2LR7d7epJo8P5sm6DOY8mV9elFbh2tnmf+bJt2Z9nfX09ACvO9JTS\nM05PPw3PR6b/8Id7kmP58nO5Ad+wo7oqs9g/lozd3urnbN6aRqEbZ/rzqYrbYTc1NSVtRyz1qPKK\nFSsAWLZsWdI2b56vwWpubk73ohaRCWFmq0444YQTVq0aaY8QEREZzYknnsjq1atXj1Qy80BRzrGI\niIiISKTJsYiIiIhIVLI5x3VxMVzHzrR+f3VtDQDtHb4wr60tbXvFK3zn3q64qG39hmeSttY2r27V\nFXfY69idlmPNp1XkS8Bls1TyC/nuXXUfAP19fUlbbtCrc3V3dSfH8qXf+nv9vKl1NUnblKmeHtIT\n2/LnAuzevdvPxxfyTY279gGcfPLJAJx55pkANDc3P+t+IiIiIuIUORYRERERiUo2cjx9vi82e+Lu\ne9ODFR4pnT/PN93a9MympGnLJi+plt8opKo2XXQ3e7ZvljF9wBfzt69NN+WqiecNxEgwg9kF/x5G\n3tnqEep7703Hkl+s15gpNVdT45HiaY0eJX7hi16UtM1bsBCAX936GwCmbk/LteULvs2a5eVrX/ay\nlyVtZ5xxBgCLFy/e4/mJiIiIyLMpciwiIiIiEmlyLCIiIiISlexn7Kee4akFf/zjQ8mxsrhormG6\npzIM9vcnbe1tvkivo8sX2/Xn0yQAYg3j8piSMDCUS5pq4yK/qvjYN5C2MeQpFlXx+lzmul1xcd/s\neXOTY8edcDwAG1ueBuDIo45K2v7sjb5HxGDcya9t2/akrW7adABeeqrvdnvWWWclbccccwwAlZWZ\nmskiIiIiUpQixyIiIiIiUclGjl/3utcBcM/vf58cu+vOuwCYM9+jtfPjIjeAjZs2ArC1xRfm7e5M\nF9315xfiJSXg2pK2uhovGffS+b4YrrYsjQ5v7fXo87YeP7arP41GN8Zd7JYsWZK5j0ey66o8Cn10\njPoCNMVFgaeeeioA9971h6Rt6VF+3jkvfzkAy5cvT9qqY0k7ERERERmbIsciIiIiIlHJRo4PP/xw\nAN73/venB8s+DcCDD3oeci43lDQddczRALz0pScBMH/OrKStK2768fUbbwRg87YtSVt1lb+/mFvv\n+cwLhnuTtvpBjxjnKqsAGBxMf9wzp3u5tmlT65NjTz7xOAAvXOaR4OXHvThpKzfPGa4s90jw7p70\nPvMP8wj4iSecAMCMGTOSthB3JclvUiIiIiIiI1PkWEREREQk0uRYRERERCQq2bSKvONjqgHARz/2\nMQBu+cUvALjz9juSttt/81sAGmJKwhlnnJa0nXLySwE4e4WXSHvi0bVJW8xa4O6tfQCUD6bvN3Ix\nFaI75wv6wnCa2rC73Rf8bd74THKsfNjTPKrLfSe/1i3bkrbZc+cD0NLiKR27Yyk4gCkxNWPatGnP\nev5Kp5C9ZWYrgbNCCAf0xWNmzcB64H9DCJccyHuJiIiMlyLHIiIiIiJRyUeOy8rS+f8RRxwBwMK3\n/xUAp5x8StL2y5//HIA7brsdgOuu/WrS9oPv3wRAddxIo3w47b+paSYA23a0AlBbV5e0LZzj0d7N\n2z0CHIbSC+vrPdrb25VGgCtiFLq2Ii7g600X3e2Om5S0tvrmHxe85oJnPa/scxXZD28D6sY8S8b0\ncEsnzZf/dJ+u3XDVBWOfJCIiE67kJ8cisndCCM+MfZaIiEhpKvnJcTbnNv91Xf0UAI4/Mc1HXryk\nGYAzzzkbgHv+kG6ysXrVagCeWvckANVT0qBa76Bv3NE36HnFlUPpNs3tu32zkN27OwAYzkSOq6s9\nr3iY2uTYgtlzACiL21TnBtPtrb//ne8AsHXrVgAu+ovXJ235snUVFSX/zyn7yMwuAV4LHA/MAwaB\nh4BrQghfLzh3JQU5x2a2Avgt8GHgZ8CHgFOBGcCSEMIGM9sQTz8O+DjwOqAJeAr4EnB1yNcWHH2s\nRwFvB14OLAamAVuBXwIfCSFsKjg/O7YfxnufDlQB9wIfDCH8rsh9KoC/xSPlL8B/Hz4GfBX4Yghh\nuPAaEREpffocXmRyuAafaN4OfA74Vvz+BjP76F70cypwB1ADXAf8LzCQaa8Cfg2cH+9xLdAA/Bfw\n+XHe4yLgHcBG4JvA1cAa4K+Be81swQjXvQT4XRzbV4CfAGcAt5rZ0dkTzawytn8hju8bwP/gvxOv\njs9LREQmIYUaRSaH5SGEddkDZlYF/By43My+FEJoGUc/5wHvCCF8eYT2eXikeHkIoT/e50N4BPcy\nM/t2COH2Me5xA/DZ/PWZ8Z4Xx3sF8PdFrrsAuDSEcH3mmr/Do9bvAi7LnPuv+AT+88C7QwhD8fxy\nfJL8djP7XgjhR2OMFTNbNULTMSMcFxGR57CSnxwXK2WW/2S3LJZMA5g5y3fEO7WxEYAXHveipO38\nTT5nePJJ38Fu/brHk7Z1654CoKXFP+ndvDndPa+11Rfp5czvV1dTlbTV1tT4+MrS8dXUeopFf1yI\n97vb0jnE409tAOCoF/m4Fi9enLQ1NPhue8PD+hRYiiucGMdjA2b2BeAc4Fzg/8bR1QOjTIzzPpid\n2IYQ2mJ0+mvApXj0erSxFp2khxBuMbNH8EltMXdlJ8bRdfgE+KT8ATMrA/4JT9V4T35iHO8xZGbv\njeN8CzDm5FhEREpLyU+ORQTMbBHwAXwSvAgyye5upFSFQveM0Z7DUxsKrYyPx491A/N3tG8BLsHz\nl2cA5ZlTBopcBnBf4YEQwqCZbYt95B0FNAJPAFeMUAu8F1g21ljjPU4sdjxGlE8o1iYiIs9dJT85\nzq7/yf8RHC2aXB6jydkNNY45ZioAS49YCkBP9xlJ267OXQC0d/iiu3ypNYCWFg+Abdvqpdz6e9LS\nbPVTfFHg40+kUeiNj3sUevHchQBs3pxuAtI0ezYARy/zv9dT4vXZsWvDDynGzA7HJ7Uz8HzhiLSw\njwAAIABJREFUW4BOYAhoBi4GqsfZ3dYx2ndkI7FFrps+jnt8Bng3sAVfhNeCT1bBJ8yLi19GxwjH\nc+w5uW6Kj0fiCwtHUj+OsYqISIkp+cmxiPDP+ITw0sK0AzN7Ez45Hq+xqk3MNLPyIhPkufGxc7SL\nzWw28E7gYeC0EMLuIuPdX/kx/CCEcNEE9CciIiVEk2OR0ndEfLypSNtZE3yvCuA0PEKdtSI+3j/G\n9YfjFSNuKTIxXhjb99ejeJT5FDOrDCEMTkCfRS1fMJ1V2sxDROR5peQnx+NNNSg8z0i/L4sfyFbE\nlIva6pqkranRF/I1x9SG7KK4XC4HQE9PDwB9fX1JWz781t7enhz7/je+BcBAl3+CXDMtTZ04bOkS\nAJYd+wJvq0nHIDKGDfFxBXBz/qCZnY+XR5tonzSzczPVKhrxChPgi/JGsyE+npGNQJtZPV4Wbr9/\nZ4UQcmZ2NfBvwH+b2T+HEHqz55jZPGBGCGHN/t5PRESeX0p+ciwifBGvvvBdM/sesBlYDrwS+A7w\nhgm81xY8f/lhM/sxUAn8OV7i7YtjlXELIWw1s28BbwQeMLNb8DzlVwB9wAPAiydgnB/FF/u9A3it\nmf0Gz22ejecin46Xe9ufyXHz2rVrOfHEouv1RERkDGvXrgVfG3NQlfLk+KCuTstHnssz5eHyX1dX\nj7zWaf68ecnXx37sIwdodDKZhRAeNLOzgY/htYArgD/im210MLGT4wF8Z7tP4BPcmXjd46vwzTXG\n46/iNW8A/gFoBX4M/DvFU0P2WqxicSHwl/giv9fgC/BagfV4VPnG/bxNfW9v79Dq1av/uJ/9iBwo\n+Vrcjx7SUYiM7DgOweJoG8duriIiY8pvHx1CaD60I3luyG8OMlKpN5FDTa9Rea47VK9RbR8tIiIi\nIhJpciwiIiIiEmlyLCIiIiISlfKCPBE5iJRrLCIipUCRYxERERGRSNUqREREREQiRY5FRERERCJN\njkVEREREIk2ORUREREQiTY5FRERERCJNjkVEREREIk2ORUREREQiTY5FRERERCJNjkVEREREIk2O\nRUTGwcwWmtl1ZrbZzPrNbIOZfc7MZuxlP43xug2xn82x34UHauwyOUzEa9TMVppZGOW/mgP5HKR0\nmdmfm9nVZnaHme2Kr6ev72NfE/L7eCQVE9GJiEgpM7OlwO+A2cCPgEeBk4B3Aa80s9NDCDvH0U9T\n7Oco4DfAt4BjgEuBC8zs1BDCUwfmWUgpm6jXaMaHRzie26+BymR2BXAc0AVswn/37bUD8Fp/Fk2O\nRUTG9kX8F/E7QwhX5w+a2WeA9wAfB94xjn4+gU+MPxNCeG+mn3cC/xXv88oJHLdMHhP1GgUghHDl\nRA9QJr334JPiJ4GzgN/uYz8T+lovxkII+3O9iEhJi1GKJ4ENwNIQwnCmbSqwBTBgdgihe5R+6oHt\nwDAwL4SwO9NWBjwFLI73UPRYxm2iXqPx/JXAWSEEO2ADlknPzFbgk+MbQwh/uRfXTdhrfTTKORYR\nGd3Z8fGW7C9igDjBvQuoA04Zo59TgFrgruzEOPYzDPyy4H4i4zVRr9GEmb3BzC43s382s1eZWfXE\nDVdkn034a70YTY5FREZ3dHx8fIT2J+LjUQepH5FCB+K19S3gk8B/Aj8DnjGzP9+34YlMmIPye1ST\nYxGR0U2Pj50jtOePNxykfkQKTeRr60fAa4GF+Ccdx+CT5Abg22amnHg5lA7K71EtyBMREREAQgif\nLTj0GPAvZrYZuBqfKP/ioA9M5CBS5FhEZHT5SMT0EdrzxzsOUj8ihQ7Ga+sreBm3F8eFTyKHwkH5\nParJsYjI6B6LjyPlsB0ZH0fKgZvofkQKHfDXVgihD8gvJJ2yr/2I7KeD8ntUk2MRkdHla3GeF0uu\nJWIE7XSgB7h7jH7uBnqB0wsjb7Hf8wruJzJeE/UaHZGZHQ3MwCfIO/a1H5H9dMBf66DJsYjIqEII\n64BbgGbgHwqaP4xH0W7I1tQ0s2PMbI/dn0IIXcAN8fwrC/r5x9j/L1XjWPbWRL1GzWyJmTUW9m9m\ns4CvxW+/FULQLnlyQJlZZXyNLs0e35fX+j7dX5uAiIiMrsh2pWuBk/Gam48Dp2W3KzWzAFC4kUKR\n7aPvAZYBf4pvEHJa/OUvslcm4jVqZpcAXwLuxDelaQMWAa/GcznvA14RQlBevOw1M7sQuDB+Oxc4\nH3+d3RGP7QghvC+e2wysB54OITQX9LNXr/V9GqsmxyIiYzOzw4CP4Ns7N+E7Mf0A+HAIob3g3KKT\n49jWCHwI/yMxD9gJ/Bz49xDCpgP5HKS07e9r1MxeCLwXOBGYD0zD0ygeAb4DfDmEMHDgn4mUIjO7\nEv/dN5JkIjza5Di2j/u1vk9j1eRYRERERMQp51hEREREJNLkWEREREQk0uRYRERERCTS5Ph5yMya\nzSzkF1SIiIiIyMSoONQDOJRi2Zpm4IchhAcO7WhERERE5FCb1JNj4BLgLGADoMmxiIiIyCSntAoR\nERERkUiTYxERERGRaFJOjs3skriY7ax46Gv5BW7xvw3Z88xsZfz+LWZ2m5ntjMcvjMevj99fOco9\nV8ZzLhmhvdLM/tbMbjWzVjPrN7OnzeyWeHzKXjy/48xsW7zf181ssqfPiIiIiIzLZJ009QLbgEag\nEtgVj+W1Fl5gZv8N/BMwDHTGxwlhZguAnwAvjoeGgQ587/FFwCvw/cJXjqOv04CfAg3ANcA/BG2D\nKCIiIjIukzJyHEL4dghhLvC7eOhdIYS5mf9eWnDJicA/4nuCN4UQGoEZmev3mZlVAzfjE+MdwMXA\ntBBCE1AX7/059py8j9TXecCv8Inxp0IIl2liLCIiIjJ+kzVyvLfqgU+GED6SPxBC2IVHnPfXXwHH\nA/3AuSGEBzP3GAJWx/9GZWYXAd8EqoAPhhCumoCxiYiIiEwqmhyPzxDwmQPU99vi49eyE+O9YWaX\nAtfinwRcFkK4ZqIGJyIiIjKZTMq0in3wZAhhx0R3amaVeNoEwM/2sY93A18FAvA2TYxFRERE9p0i\nx+PzrAV6E6SR9N/gmX3s47Px8SMhhK/v/5BEREREJi9Fjsdn6FAPYBTfio/vM7OTDulIRERERJ7n\nNDmeGLn4WDPKOdOLHGvLXLt4H+/9VuD7wDTgl2Z2/D72IyIiIjLpTfbJcb5Wse1nPx3xcWGxxriB\nx7LC4yGEQWBV/PbV+3LjEEIOeCNeDq4B+JWZvXBf+hIRERGZ7Cb75Dhfiq1hP/t5KD6eZ2bFosfv\nAapHuPb/4uMlZvaifbl5nGS/HvgF0AT82syeNRkXERERkdFN9snxI/HxIjMrlvYwXjfjm3TMAv7P\nzGYDmNl0M/tX4Ep8V71ivgo8gE+ebzWzt5pZXby+3MxeYmbXmtnJow0ghNAPvA64FZgd+zpyP56T\niIiIyKQz2SfHNwADwBnADjNrMbMNZnbn3nQSQmgDLo/fvh7YZmbteE7xx4CP4BPgYtf2A38CPAzM\nxCPJu8xsB9AD3Av8NVA7jnH0xb5uA+YBvzGzJXvzXEREREQms0k9OQ4hPAq8Ak9H6ATm4gvjiuYO\nj9HXfwNvAO7GJ7VlwF3A67I7641w7UbgJcA7gTuB3fiufFuAX+KT43vGOY4e4DXx3guB35rZor19\nPiIiIiKTkYUQDvUYRERERESeEyZ15FhEREREJEuTYxERERGRSJNjEREREZFIk2MRERERkUiTYxER\nERGRSJNjEREREZFIk2MRERERkUiTYxERERGRSJNjEREREZGo4lAPQESkFJnZemAasOEQD0VE5Pmq\nGdgVQlhyMG9aspPjl5x8VgDo6NidHJveMAOAyspyAKoq0qc/b8EcABpnTAdgztzZSdv8BXMBmDtn\nFgAzZ05L2mY2ep/Ta6u870yf+S+tzPwRSwcYt+0e7+7dwTzIP4yP3Ww40+ZfW+yrvGiffu+ysnQM\n+XtPmdFsxa4Qkf0yrba2tnHZsmWNh3ogIiLPR2vXrqW3t/eg37dkJ8ciIiMxs2ZgPfC/IYRLDtBt\nNixbtqxx1apVB6h7EZHSduKJJ7J69eoNB/u+JTs53r59MwD9A2kYtayiEoDyMATAYH9f0rZl8yYA\nevr8HcrUaVOTtsZZTf44w6PEM6ankeM5czzCvGihR5cPW7ggaVsw369ravLr6mprkraqSv/RV5an\nQduKshgdHk6jwgmLkd/4aJamiyeR6fhUyzKR41AQmi4rU5q5HBwHaQIqIiIyoUp2ciwicqg93NJJ\n8+U/PdTDEBE5KDZcdcGhHsKEUBhRRERERCQq2chxebkvkJtSX5kc6+vvBiAM9sbH/qQtF1MZBof8\nMZ/2ALBjyw4AWp721IuQy6X3qfAFctMbfM1N48x0IV/DjCkALFq0EIDm5oVJ22GH+ddzmtIUjVmN\nDQDU1VYDUFtTnbRVVPr7mMAgkGRZeFuoiG3xOcS0ESBZAmjBv8qmWZhpHZ4cGGZ2JfCh+O3FZnZx\npvlSvILDb4EPAz+L554KzACWhBA2mFkAbgshrCjS//XAxflzC9pOAt4LnAHMBNqAh4CvhBC+M8a4\ny4DPAu8EfgC8JYRw8FeDiIjIIVOyk2MROaRWAg3Au4A/Aj/MtD0Q28AnxB8E7gSuwyezA/t6UzP7\nG+AaYAj4MfAEMBt4CXAZMOLk2MxqgBuBi4AvAO8MIRRZACAiIqWsZCfHU6d6SbbB3GByrLu9A4Bc\nfw8AFZmyZrkYDS4vi5Hm4bStr88jzEMxIhuG0r/d+dJq7Tt3+j160/ute8qve+Thx3xMDQ1J29S4\nqK9xWn1ybOH8eQActtgX9c2bPydpO3qpl/hbtNDLyVVWpBHgoeE95xIhGxCOkeKy4JHnsj2axllH\nTmQvhRBWmtkGfHL8QAjhymy7ma2IX54HvCOE8OX9vaeZvQD4IrALeFkI4ZGC9oVFL/S2RnwyfRpw\neQjhU3tx35HKURwz3j5EROS5o2QnxyLyvPDAREyMo7/Hf6d9tHBiDBBC2FTsIjNbDPwCWAq8NYRw\n4wSNR0REnodKdnLc1d3mj7t2JceGhjw6HIY8AjwUshti5D899WN9MboMMDgco8rlHiUe7Etzlatr\nPLe5vNIjzntuAuJ95WL0uqsr7XNg0Mews7UjObbuqS3ex30Pxb7T0m9Ll3jQ65yzTwHghOOOStrm\nzvIodFks72aZqHe+5FsYjlHvTJ6xqaybHHr3TGBfp8THn+/FNUcDvwemAK8KIdy6tzcNIZxY7HiM\nKJ+wt/2JiMihpdmRiBxKWyewr3zeUsteXHMUMA94Clg9gWMREZHnKU2OReRQGi3xPTDyp1sNRY7l\nP4ZZUKRtJDcD/wK8GLjVzJr24loRESlBJZtW0dvXBUBuIN0Fz+Lf4RBTJ4aH07/L+a/yC/MGMuXa\nrDw+xsV6IaRtuZy/vygv87SMnsyue/nN7/KpDWWZH3eZVcUvMovh4wK54ZynQPTs2p00PfzQowBs\navHUi4cefkHS9rJT/ZPbFxzjqRYzptamY7dcfO7xOZNJq0DkgMrXFCzfx+vbgcMKD5pZOT6ZLXQ3\nXpXiVcCj471JCOGTZtaLl3BbaWYvDyFs27ch72n5gumsKpGi+CIik4UixyJyoLTj7zsX7eP19wCL\nzOy8guNXAIuLnH8NkAP+LVau2MNo1SpCCJ/DF/QdC9xmZvP3ccwiIvI8V7KR4+qqOgBCVRqZ7Y8L\n6YbjewIrTyPH5XEDDYsL1yxT5q0sbgiS6/e9AGwo7XM4RntzZX5O9VC6iG4oLvKrqJkS+06vG0w2\nIMnEb/PNVSG2pJt55GIpttad7QDceVeaHvnkuvUAnPDiFwFw+snpGqDDl/imJFPrPJqcX7QHUKb3\nRnIAhRC6zOwPwMvM7EbgcdL6w+PxaeB84Edm9m18M4/TgCV4HeUVBfdbY2aXAV8C7jezH+F1jpuA\nl+Il3s4eZbxfMrM+4KvA7WZ2TgjhmXGOVURESoRmRyJyIL0V+CnwSnwXvI8yzgoOsXLEhcAjwBvx\nHfE2ACcBT49wzbX4zng/wSfP/x/wJ0ArvrHHWPe8HvhLPDJ9u5kdPp6xiohI6SjZyHF5uT+1mto0\nklsVo6ZDMQ95KLPNck3cnrmmxiO5i45elrS94OTTAPjjffcBsHV9+nd5585OAMKwp1X2DaabgORj\nwuWxtFp5Zkvq6ko/v6IqHXNdpX9TEcvB9eXSzT129Xm/ZfGc6ur0fc3TT63zcbVsBmD1gw8mbWee\neRIAr7/QP5muy0SOlXQsB1oI4UngtSM0j/kKDCH8mOKR5kvif8Wu+T3wZ2P0u2Gk+4cQvgl8c6yx\niYhIaVLkWEREREQk0uRYRERERCQq2bSK4bj4bVZDWg61vGcHAFOrfXHa7s7epK2n11MYauIueC88\nOk01PP81rwTgnHPOBODRh9ckbT/84c8AaH3SUxuOn5aWcps/2xfDNcxZGMfSmLTNbqwGoL46XaQ3\nvdxTJsriDn6Dc+qTts5qH9e6rV7eraUzvW7lSl+k197WCsDGzeuTtrY232PhFeedDsCUaZnysKNV\nmBURERGZhBQ5FhERERGJSjZynOv2TUD6q9Kn2LurB4Dheo/Q9mXeG/Sbr80Z6PTI7+o/3J20lXlV\nOGbOmgXA1h1pdLh3wDfZOLXBo73/1FyZtNXN9HuXzfaob42lm3rQ+RQAobM9OVRe5tHk4QGPCud6\npidtx7+qGYBTjvSycI/tSDf62Lbev/71nRv8uqH+pK1tq0eTu7s8Ml4+PX3O2U1QRERERESRYxER\nERGRRMlGjnti5Li3L80rrhj2cmjDw/60uwcym2zEzT/q4l7RO3vSqOqmVv/6gYe9lNv9q9INOPrj\nph9nzfL3GdW7OpO24SE/NhjvM5DZ1KO818c3sKM1OWY1HqKuwCPIu3akO9jWHO5jr1oYo96b0n+6\nfGpyfZ2PpXVHV9I2GEvLDeXi1tmZaPFwZlMSEREREVHkWEREREQkocmxiIiIiEhUsmkV+fSB/sF0\n8VxNmR8bKPdUg8FMWkFuyNsGY9bBkKVb1/UMTwOgs9ffS/T1pQveBmI6xmC/p0L09qRtVPviuel1\nfl0Z6f16u3NxoOnp5fn3KmV+3vCO7qSt7QEvQzdvhudQ3Ht/mjqxedciAGbP81JxmzdvTtqGh2Jf\nRVIoQtCCPBEREZEsRY5FRERERKLSjRzHqGg2Ojoc3wvk4iYbtTU1SVtdnW+OURUjrHW1dUnbYC4u\n5At+fX6hHaTR3iGLfQ9korG7fTHg9o4Y5S1Po7fVsawcPbnkmMUSbJW1Pq7BgTTq3faoL9ybedwM\nAHbE0mwArR3eV0UcS3mwpG0oeP8dO71kXNuUNCLen/M+Zs5ZioiIiIgociwiIiIikijdyHF8tMyx\n4fjdQCxvdupLT0najjj6KAC2bt4IQF8ufd/QE8+fNmMmAKef+bKkrT8fwJ3qP8p7B3YmbX07OwC4\n/0HPF+7oTyPBr40DPCKTE11W5feprPZjfRVp6bfKNo8Odz7tjw1V6fjmTfWNRzYOeFtvf0/S1t7h\nY7jnrt/783sy3VgkN+xR5WXLT0NEREREFDkWkecoMwtmtnIvzl8Rr7my4PhKM9PqUxERGRdNjkVK\nxN5OJkVEROTZSjatwiz/mEmsiLGj/rjArjuz4G3WvPneFlMo1j7+VNK2K6Yf1E+vBeBVZ6VpCOuf\n9l3sBoZ8Z73fbK1O2gZqvexa5SxfBBd6diVtW9euBWBpLg1o5TM0evp9YV5PJq2iaaq/j9lxvy/M\ne8lxjUnbsga/51PtxwJw+OzapG1nly8C7On2e2/ZkS4KHA5p/yIl4B5gGbDjUA8k7+GWTpov/+k+\nXbvhqgsmeDQiIjIeJTs5FpHJJYTQAzx6qMchIiLPbyU7OQ4FjwDEtMOKSl/A1rIl3SyjZXMLAF09\nvphte2safOrBI7N9fV5ibe19acR55y4v09YdM1S2bNmStPV2e1+L580CoHFmuhhucyzX1rU7jSZX\nxdJqQ/GfpXs4HX1Vn3893OIbg1QuSv/p5i30sb7ocC9HV37agqRt7SZ//OVav661Py0BV/DTkQPM\nzC4BXgscD8wDBoGHgGtCCF8vOHcDQAihuUg/VwIfAs4OIayM/X4tNp9VkF/74RDClZlr/wL4R+A4\noAp4EvgG8JkQQmYHm3QMwHLgo8CfAzOBx4ArQwg/NLMK4APAJcBhQAvw2RDC54uMuwz4W+Cv8Aiv\nAWuA64AvhxCevVONXzcf+BRwPjA1XvOfIYRvFJy3Avht4XMejZmdD7wLOCn2vQn4PvDxEELHePoQ\nEZHSUrKTY5HnoGuAR4DbgS1AE/Bq4AYzOzqE8G/72O8DwIfxCfPTwPWZtpX5L8zsE8AH8bSDbwBd\nwKuATwDnm9l5IYTsuyeASuBXQCPwI3xC/SbgJjM7D7gMOBn4OdAPvB642sxaQwjfLujrBuDNwEbg\nK/i7s9cBXwTOAN5S5LnNAH4HdOBvABqAvwBuNLMFIYT/N+ZPZwRm9iHgSqAN+AmwHXgR8D7g1WZ2\naghh18g9JP2sGqHpmH0dm4iIHDolOzkOZTHXOJQnxxoafBvoirK4mUfMLwZYv+4JALp7PMJaUZle\nN6fBN96oKPcfV1t3GjnuynmwraPT/4a2btuYjiH+eDdu9HM2bd2atM3u9g1CTsqk/c6JkeIQt7nO\nVaRj6OiNkeMhv27q5nQzj7LFPp4hW+0HytONRcq75gDQ2+1bTA9lgoNWpsjxQbY8hLAue8DMqvCJ\n5eVm9qUQQsvedhpCeAB4IE72NhSLmprZqfjEeCNwUghhazz+QeAHwGvwSeEnCi6dD6wGVuQjy2Z2\nAz7B/y6wLj6vjtj2GTy14XIgmRyb2ZvwifH9wJkhhK54/ArgNuDNZvbTwmgwPln9LvDGfGTZzK4C\nVgEfN7ObQghPsZfM7Gx8Yvx74NXZKHEmEv9h4D1727eIiDy/qVqFyEFSODGOxwaAL+BvVM89gLd/\ne3z8WH5iHO+fA94LDAN/PcK1786mXIQQ7gDW41HdD2QnlnGiehew3MzKM33k7395fmIcz+/G0zIY\n4f5D8R7DmWvWA/+NR7XfOuIzHt074+PfFKZPhBCux6PxxSLZzxJCOLHYfyj/WUTkealkI8cizzVm\ntgifCJ4LLAJqC05Z8KyLJs4J8fE3hQ0hhMfNbBOwxMymhxA6M80dxSb1wGZgCR7BLdSC/26ZG7/O\n33+YTJpHxm34JPj4Im3PxMlwoZV4Gkmxa8bjVDzn+/Vm9voi7VXALDNrCiHsLNIuIiIlqmQnxyF4\nykBtbTr/OPdcD8xtWL8BgKefSVMg1sdjR8Wd8v7kwnOStrkLPCUh5BewDfcmbf0Dnppx3x13ALDu\nySeSNqvw1I7uXk97GE43roNBT33YWVGZHJpNbo/7DJWngbfa+qkA7O72tI++x9NUyFy1n9d0uu/g\n1zA3LV83NZaKm1rrgbdcRfphwRDZwJ4cSGZ2OF5qbAZwB3AL0IlPCpuBi4Hqka6fAPnVoFtGaN+C\nT9gb4rjyOouf7i/Wgon0Hm14ZDd7/7YiOc2EEHJmtgOYXaSvbSPcPx/9nj5C+1ia8N9/HxrjvHpA\nk2MRkUmkZCfHIs8x/4xPyC6NH9snYj7uxQXnD+PRy2Ia9uH++UnsXDxPuNC8gvMmWifQaGaVIYTB\nbEOseDETKLb4bc4I/c3N9Luv4ykLITSOeaaIiEwqJTs5Hh7OpyimUdT5832jj5ZNTwOwe3eaajgc\n/ywvPPdsAHp7didtj665388Z8oDY7q4kZZKuXR4V3vjUkwAMDaXVqKqq/N6DOV91l8ulbW1xfJvL\n0kjuUXERYUWVB9ymTJuatNXExYS9s3xe1D+QhqG713s0uS3eb+aKNJi2cMoUAF71Mi8nt2ZzOvaN\niocdTEfEx5uKtJ1V5Fg78KJik0ngJSPcYxhG/Djgfjy1YQUFk2MzOwJYCKw/gOXL7sfTSc4Ebi1o\nOxMf9+oi1y0ys+YQwoaC4ysy/e6Lu4ELzOzYEMIj+9jHmJYvmM4qbeYhIvK8ogV5IgfHhvi4Insw\n1tktthDtHvzN66UF518CnD7CPXbitYaLuS4+XmFmszL9lQOfxn8XfHWkwU+A/P0/aWZ1mfvXAVfF\nb4vdvxz4VKyRnL9mCb6gLgd8vcg14/HZ+HhtrKO8BzObYman7GPfIiLyPFaykWOR55gv4hPd75rZ\n9/AFbcuBVwLfAd5QcP7V8fxrzOxcvATbi/GFZD/BS68VuhV4o5ndjEdhB4HbQwi3hxB+Z2b/Abwf\neDiOoRuvc7wcuBPY55rBYwkhfMPM/hSvUfyImf0Qr3N8Ib6w79shhBuLXPogXkd5lZndQlrnuAF4\n/wiLBccznlvN7HLgk8ATZvYzvAJHPbAYj+bfif/7iIjIJFKyk+N8oKmnqzs59tgGL4d6zpkvAmDG\nlLTIcFmlB7N2dbQBsOaptHRqW6uvCcr1ejWr/r70U+6uuAtebZ2nhx5++BFJW3evrz0aSHalS9Mq\nBuJueC25ND2iN65jqqz0vnZVp+uZdrR6DkSuxsdZVpv2VZbz8zq2x5rL96epE0OHeVrFwzu9qlSu\nYUnSdupJpyEHRwjhwVhb92PABfj/e38ELsI3uHhDwflrzOzleN3h1+JR0jvwyfFFFJ8cvwufcJ6L\nby5ShtfqvT32+QEzux/fIe9t+IK5dcAV+I5zz1osN8HehFemeDvwd/HYWuA/8Q1SimnHJ/D/gb9Z\nmIbvkPfpIjWR90oI4VNmdhcehT4D+FM8F7kF+B98oxQREZlkSnZyLPJcE0L4HXDOCM1WeCCEcCee\nj1voQXwDi8Lzt+MbbYw2hm8B3xprrPHc5lHaVozSdgm+nXTh8WE8gv7Fcd4/+zP5y3Gcv5LiP8cV\no1xzJx4hFhERAUp4cpwv5VZRmUZfH13jn8BOq/KKWZVV6YK3XIw0b9vhK/PmHdactC09DJ/pAAAg\nAElEQVRt9mjrurUefa2uTftsb28HYMoU7+vw5sOTtief8PKs3T0eHS7P/LTL4u53u555MjnWGsu7\nVQ56VPiJjrRkXPeAL/wb6PO25oYkbZRjX+j3nLfYI9ph6+akbfMunyvct86j5FaVVvI6/nQt1BcR\nERHJ0oI8EREREZGoZCPHFXFzjTlz0oXoO7b5ph93/9Gjr22bn0naptR7bu6Rx/iGW7m4cQdAV/yy\nsdH3KBhOd9KlvMl/hPnc5m07WpO2uvp6ANo7vDpWV1tHpi3mOJel+z7cPdXH0FDjx1otjVDbdD+/\nfkYcw8wpSdvQEi9Rm5vvEer+rWmedUufj3X20mMAePThB5K2R9b45mYvP6dY+qqIiIjI5KPIsYiI\niIhIpMmxiIiIiEhUsmkV9dN9J7mpmV3mtm/znfH6+r3U2XC6rwD9A75gbfZM311ud0+aVtER8yq6\nd/uueVu3tSRt+aXxuQFfPFdTl6Y7NMyIi+bKffFd/dT6pG3bVi8PV1Gbnv/ENE+POHvFywA4dmlz\n0jaY8zEMxkV7m55en7T9epOPa+ZOT6d45VCaqrFlpy8Y3DpUC0DrznS33UcfW4OIiIiIpBQ5FhER\nERGJSjZyPL1hBgD9A2kEuLLKo6e9u7rj92mEtavbjz348EMA1NSmUd76aV7yrLvXzzn+xOOTtgfu\nvx+Azt1eAi6/EBBgYND3VHj5eS8HoK8rXZD305t/BsCu3nQTkLZ23+hj46aN8fo0ytsRNycZGPBy\nbWWWlnOtiRuDVFb682uvnpm5zqPcbbt3+Ll16XPu7UlLxYmIiIiIIsciIiIiIomSjRxXV3uEtH1n\nWlqtqsqjur2xTFtNTW3SVlNTA8CmGLWdPWdB0jYU/Md0/PEeMX75eemmZf19Hk2+Y7vnEA8N5ZK2\nykqP7jbN8ij29v50W+eyMn9fMtiXll3riznQm5/xrasHetN85HyucXub5xdPb5ietDXN9JzmZ3Z7\nfvH/duxM2tZv8efTMexbUh99zOKkrb4+7V9EREREFDkWEREREUlociwiIiIiEpVsWkVZmac09PWl\ni86646K5kBxJv7J4fi6mL5TF8msA/YPeR2NTTGUYTlMnmpq8ZFxlhb/PGBhMd8/r6fE0is2bNvhl\ncTEdQGVM8cgMAYa9nFx73EmvvT1NCemLC/d64/PJLiasqPSUieF47+n1abrIvNm+Q+D8WKJu9txp\nSVtdbbp4UEREREQUORaRAma20szC2Gfu932azSyY2fUH+l4iIiLjVbKR485OjxIznM7/DY+UllcM\ne1NII7nDg/HYkJ8fwnDSNhS8JFtHpy90e3rDhqStLG4DUlXtP8rBWL4NoKfLI8c742K96uqqpG0w\n51HeMJzOQfJl57a1bvFxlqfl2iqrfFxTpvrCwezmJk0zmgBonOoL7GY0pJHjmbM8sl01xa8bitFp\ngOHh9PmLiIiISAlPjkVkn70NqDvUgxARETkUSnZyHEIuPqaR2cqYm5sbiqXcatO83Xwpt927PKe3\nIpNzHIY9itzW6htpzG5syNzH23I5v99QLo3M5kvGbd68eY9zAXr7vSTbvAVpSbZZszwCXFlVEceU\nRppra3181dUe/a6qTvOF6+s8UtxY7/nE5eXZbbE9ej3YndvjeRaORyQvhPDMoR5DqXi4pZPmy3+6\nx7ENV11wiEYjIiLjoZxjkUnAzC4xs5vM7Ckz6zWzXWZ2l5n9ZZFzn5VzbGYrYn7wlWZ2kpn91Mza\n4rHmeM6G+N90M/u8mbWYWZ+ZrTGzd5pltnUcfaxHmdlVZnafmbWaWb+ZPW1m/2NmC4ucnx3bi+PY\nOsysx8xuM7PTRrhPhZldZmZ3x59Hj5ndb2b/aGb63SgiMknpD4DI5HANsBi4Hfgc8K34/Q1m9tG9\n6OdU4A6gBrgO+F9gINNeBfwaOD/e41qgAfgv4PPjvMdFwDuAjcA3gauBNcBfA/ea2YIRrnsJ8Ls4\ntq8APwHOAG41s6OzJ5pZZWz/QhzfN4D/wX8nXh2fl4iITEIlm1Zx1tknALDmoceSYxuf9k+LBwf9\nPUFdXbpwLb9jXf6xtzvdua6i0lMstm3ZCsDMphlJW0tLC5Cmb+TPBRjo87SKdet8x7vq6vTH3bzE\nS6w1N89Ljs2MaRVTknGlwbueXk/3GBoain2l6RGVZX7PulpPE62qSFMuqqo8WDcUY3YVFZl/civZ\nf355tuUhhHXZA2ZWBfwcuNzMvhRCaBlHP+cB7wghfHmE9nnAU/F+/fE+HwLuBS4zs2+HEG4f4x43\nAJ/NX58Z73lxvFcAf1/kuguAS0MI12eu+TvgS8C7gMsy5/4rPoH/PPDuEMJQPL8cnyS/3cy+F0L4\n0RhjxcxWjdB0zFjXiojIc48ixyKTQOHEOB4bwCOnFcC54+zqgVEmxnkfzE5sQwhtQD46fek4xtpS\nODGOx28BHsEntcXclZ0YR9cBOeCk/IGYMvFPwFbgPfmJcbzHEPBe/J3pW8Yaq4iIlJ6SDR0uXeKp\niY2N6aYX21ubAejr8ojuQH9aymwwbv7R2url2oZy6UYfvT3+d3rLlk4AckPpdZ2dvmFH85LD/H4z\n0hJruX7/mxviW5D5C2cmbU1xQ5HqqvT9SUVcSJdfiJddMDc46PcM8f3M7Fmzk7YZU/05DueG43Xp\nz6Fzqy/86xv2yHNNdboI0dIgt5Q4M1sEfACfBC8CagtOGSlVodA9Y7Tn8NSGQivj4/Fj3SDmJr8F\nuAQ4DpgBZF+tA0UuA7iv8EAIYdDMtsU+8o4CGoEngCtGSIXuBZaNNdZ4jxOLHY8R5RPG04eIiDx3\nlOzkWEScmR2OT2pn4PnCtwCdwBDQDFwMVI90fYGtY7Tv+P/bu/c4O6v63uOf7+yZTCYJuRMTCBDu\nYFFoscjFU2KtgFpPqdWirVZoe06pevDWU/FUC6hVek6rrZyira1yili0tRavhRaN3KQoGCwQLkIS\nIBdyvydz/Z0/1nr2frKz55LJnkyy5/t+vfLaM896nvWsnTxsfvOb31qrnIltcN2MBm31Pgm8B1gD\n3A6sIgWrkALm4wa5bssgx/vYO7iek19PBq4ZYhzTRjBWMzNrMS0bHM+YkTK4U6dPrR6bNSdlWKMv\npVaLzC5Ab19KRm3fkbLDe/IybADPP5c28Vi5Mi3J1lapXXfmWS8G4JiFKZM7c0atFlh5g49eUkZ3\ncqnGuagdppSFntTRvldbb2/tPlO70rVHTk3vq7u7Nr5ntmxO96vWFddqjnvykna9e1L2u700CV9t\nY74Jmh0a3kcKCK+oLzuQ9BZScDxSwz00cyVVGgTI8/Pr1qEuljQPuAp4BDg/IrY3GO+BKsbwtYh4\nQxP6MzOzFuKaY7PWd1J+/WqDtgubfK92oNHSaYvz64+Huf4E0ufSHQ0C44W5/UA9Tsoyn5tXrTAz\nM6tq2cyxmVWtyK+LgW8UByVdTFoerdk+IelVpdUqZpNWmAD4wjDXrsivryhnoCVNIy0Ld8CfWRHR\nJ+kG4MPApyW9LyJ2l8+RtACYFRGPHci9zjh6Bg960w8zs8NKywbHs/LEuB27d1WP9fSluoOOPCmt\nbVqtDLG/P5UfzJmbdr8rT4Y79tg0ue9lP5/m1nR11cojZs9K53dW0vltbbXfJm/ctAmAbbvyGErz\nfgbyrnt9PbW5RdrnN9a1C7ryrnldHSnZX6GW8Orr6c33Tt93Tq79s07NX+/MfRc77QG0d/gXBxPE\njaRVIv5R0j8Bq4EzgEuArwCXNfFea0j1y49I+jrQAbyRtMTbjcMt4xYRayXdCrwZWCrpDlKd8quB\nPcBS4KwmjPOjpMl+VwKvl/RdUm3zPFIt8gWk5d4OKDg2M7PDT8sGx2aWRMRPJL0S+BhpLeB24GHS\nZhtbaG5w3AP8EvBxUoA7l7Tu8fWkzTVG4nfyNZcB7wTWA18H/pjGpSH7La9icSnwVtIkv18mTcBb\nDywnZZVvOcDbLFq2bBlnn91wMQszMxvGsmXLIE0cP6gU4UlZZnbgJK0AiIhF4zuSQ4OkbtIqGQ+P\n91jMBlFsVPP4uI7CbHBnAv0RMdIVlZrCmWMzs7HxCAy+DrLZeCt2d/QzaoeqIXYgHVMuOjUzMzMz\nyxwcm5mZmZllLqsws6ZwrbGZmbUCZ47NzMzMzDIHx2ZmZmZmmZdyMzMzMzPLnDk2MzMzM8scHJuZ\nmZmZZQ6OzczMzMwyB8dmZmZmZpmDYzMzMzOzzMGxmZmZmVnm4NjMzMzMLHNwbGZmZmaWOTg2MxsB\nSQslfV7SakndklZI+gtJs/azn9n5uhW5n9W534VjNXabGJrxjEpaIimG+DN5LN+DtS5Jb5R0g6S7\nJW3Lz9MXR9lXUz6PB9PejE7MzFqZpBOB+4B5wG3A48A5wLuBSyRdEBEbR9DPnNzPKcB3gVuB04Ar\ngNdJOi8inhmbd2GtrFnPaMl1gxzvO6CB2kT2IeBMYAfwPOmzb7+NwbO+DwfHZmbDu5H0QXxVRNxQ\nHJT0SeC9wJ8AV46gn4+TAuNPRsT7S/1cBfxlvs8lTRy3TRzNekYBiIhrmz1Am/DeSwqKfwpcCHxv\nlP009VlvRBFxINebmbW0nKX4KbACODEiBkptRwBrAAHzImLnEP1MA9YBA8CCiNheamsDngGOy/dw\n9thGrFnPaD5/CXBhRGjMBmwTnqTFpOD4loh4635c17RnfSiuOTYzG9or8+sd5Q9igBzg3gtMAc4d\npp9zgS7g3nJgnPsZAG6vu5/ZSDXrGa2SdJmkqyW9T9JrJHU2b7hmo9b0Z70RB8dmZkM7Nb8+OUj7\nU/n1lIPUj1m9sXi2bgU+Afw58G3gWUlvHN3wzJrmoHyOOjg2MxvajPy6dZD24vjMg9SPWb1mPlu3\nAa8HFpJ+03EaKUieCXxZkmvibTwdlM9RT8gzMzMzACLiU3WHngD+l6TVwA2kQPlfD/rAzA4iZ47N\nzIZWZCJmDNJeHN9ykPoxq3cwnq2/JS3jdlae+GQ2Hg7K56iDYzOzoT2RXwerYTs5vw5WA9fsfszq\njfmzFRF7gGIi6dTR9mN2gA7K56iDYzOzoRVrcV6Ul1yryhm0C4BdwP3D9HM/sBu4oD7zlvu9qO5+\nZiPVrGd0UJJOBWaRAuQNo+3H7ACN+bMODo7NzIYUEU8DdwCLgHfWNV9HyqLdXF5TU9Jpkvba/Ski\ndgA35/OvrevnXbn/273Gse2vZj2jko6XNLu+f0lHAl/I394aEd4lz8aUpI78jJ5YPj6aZ31U9/cm\nIGZmQ2uwXeky4OWkNTefBM4vb1cqKQDqN1JosH30A8DpwK+QNgg5P3/4m+2XZjyjki4HPgvcQ9qU\nZhNwLPBaUi3nj4BXR4Tr4m2/SboUuDR/Ox+4mPSc3Z2PbYiIP8jnLgKWAysjYlFdP/v1rI9qrA6O\nzcyGJ+kY4COk7Z3nkHZi+hpwXURsrju3YXCc22YD15D+J7EA2Ah8B/jjiHh+LN+DtbYDfUYlvQR4\nP3A2cBQwnVRG8SjwFeCvI6Jn7N+JtSJJ15I++wZTDYSHCo5z+4if9VGN1cGxmZmZmVnimmMzMzMz\ns8zBsZmZmZlZ5uD4MCRpkaQoasbMzMzMrDkm9PbReWbuIuBfImLp+I7GzMzMzMbbhA6OgcuBC4EV\ngINjMzMzswnOZRVmZmZmZpmDYzMzMzOzbEIGx5Iuz5PZLsyHvlBMcMt/VpTPk7Qkf/+bkr4vaWM+\nfmk+flP+/toh7rkkn3P5IO0dkv67pDslrZfULWmlpDvy8an78f7OlPRCvt8XJU308hkzMzOzEZmo\nQdNu4AVgNtABbMvHCuvrL5D0aeB/AAPA1vzaFJKOBr4JnJUPDQBbSNsrHgu8mrQl4pIR9HU+8C1g\nJvAZ4J3hnV7MzMzMRmRCZo4j4ssRMZ+0NzfAuyNifunPz9ddcjbwLtK2h3MiYjYwq3T9qEnqBL5B\nCow3AG8HpkfEHGBKvvdfsHfwPlhfFwH/RgqM/zQi3uHA2MzMzGzkJmrmeH9NAz4RER8pDkTENlLG\n+UD9DvCzQDfwqoj4Seke/cBD+c+QJL0B+AdgEvDBiLi+CWMzMzMzm1AcHI9MP/DJMer7t/LrF8qB\n8f6QdAXwOdJvAt4REZ9p1uDMzMzMJpIJWVYxCj+NiA3N7lRSB6lsAuDbo+zjPcDfAQH8lgNjMzMz\ns9Fz5nhk9pmg1ySzqf0bPDvKPj6VXz8SEV888CGZmZmZTVzOHI9M/3gPYAi35tc/kHTOuI7EzMzM\n7DDn4Lg5+vLr5CHOmdHg2KbStceN8t5vA/4ZmA7cLulnR9mPmZmZ2YQ30YPjYq1iHWA/W/LrwkaN\neQOP0+uPR0Qv8GD+9rWjuXFE9AFvJi0HNxP4N0kvGU1fZmZmZhPdRA+Oi6XYZh5gP/+ZXy+S1Ch7\n/F6gc5Br/z6/Xi7ppaO5eQ6y3wT8KzAH+HdJ+wTjZmZmZja0iR4cP5pf3yCpUdnDSH2DtEnHkcDf\nS5oHIGmGpD8CriXtqtfI3wFLScHznZLeJmlKvr4i6WWSPifp5UMNICK6gV8F7gTm5b5OPoD3ZGZm\nZjbhTPTg+GagB3gFsEHSKkkrJN2zP51ExCbg6vztm4AXJG0m1RR/DPgIKQBudG038F+BR4C5pEzy\nNkkbgF3AD4HfBbpGMI49ua/vAwuA70o6fn/ei5mZmdlENqGD44h4HHg1qRxhKzCfNDGuYe3wMH19\nGrgMuJ8U1LYB9wK/Wt5Zb5BrnwNeBlwF3ANsJ+3Ktwa4nRQcPzDCcewCfjnfeyHwPUnH7u/7MTMz\nM5uIFBHjPQYzMzMzs0PChM4cm5mZmZmVOTg2MzMzM8scHJuZmZmZZQ6OzczMzMwyB8dmZmZmZpmD\nYzMzMzOzzMGxmZmZmVnm4NjMzMzMLHNwbGZmZmaWOTg2MzMzM8vax3sAZmatSNJyYDqwYpyHYmZ2\nuFoEbIuI4w/mTVs2OP69678eAFHOjVfSN5Lya6Xa1NaW/yqiOKet1Na212sjbbnPaNBW7at0v0Aj\neBeNFNfV7jQwMJDvo7pzIAb680m9+ap9r/urdy8e7WDMbHDTu7q6Zp9++umzx3sgZmaHo2XLlrF7\n9+6Dft+WDY7bO3Ig2laK+3JwqyLYLQXAGlFwXMlt+8aS0TAsLoaQ+2or/3UXAXODCxp0FRF73yei\n1Fb0pX26zPEvMVCcXwqO+wcGHbNZK5O0CFgO/L+IuHyMbrPi9NNPn/3ggw+OUfdmZq3t7LPP5qGH\nHlpxsO/rmmMzGxOSFkkKSTeN91jMzMxGqmUzx2Zm4+2RVVtZdPW3xnsYZuNuxfWvG+8hmI1YywbH\nHR1FKUOtzleVjvSayyQqlXLifO/6Bqn2V9OWv67VHJfOzV9GZdCmarnD3gXQRd1z+YJctxz7lk6M\nRHFdUUsM0JZ/OTBQDLDU1t6/f/2bmZmZtTqXVZhZ00m6llTTC/D2XF5R/Llc0uL89bWSzpH0LUmb\n8rFFuY+QtGSQ/m8qn1vXdo6kL0taJalb0hpJd0j69RGMu03SX+a+/1lS1+j+BszM7HDVupnjSfmt\nlTLAqkwCShPsKrWsbf0ku7ZyxnmfzHFJvmygsm9btc9iotxwmeMshsgYN2zT3m17TbQrxldcVs4q\nO3NsY2cJMBN4N/Aw8C+ltqW5DeA84IPAPcDngblAz2hvKum/AZ8B+oGvA08B84CXAe8AvjLEtZOB\nW4A3AH8FXBURw85alTTYjLvT9mvwZmZ2SGjZ4NjMxk9ELJG0ghQcL42Ia8vtkhbnLy8CroyIvz7Q\ne0p6MXAjsA34LxHxaF37wiGunU0Kps8Hro6IPz3Q8ZiZ2eGpZYPj9vb01lRePq09ZYMbrVvcVre8\nW3mZtyLzW5xTzvZGUSfcoB65PnNMlLPE2uc+xfkDxbJto6w5ri3bVlv6rT+/qpRVljPHNv6WNiMw\nzn6f9Jn20frAGCAinm90kaTjgH8FTgTeFhG37M9NI+LsQfp9EPi5/enLzMzGX8sGx2Z2WHigiX2d\nm1+/sx/XnAr8AJgKvCYi7mzieMzM7DDkCXlmNp7WNrGvoo551X5ccwqwAHgGeKiJYzEzs8NUy2aO\nOyelZdvKc+DUkcoWKpW9yyQAKsqT9fIWzypNyCvm5Ej7XlctTKjuvtegrKJ6Uq3PRttAF/0OsHd5\nxf4ql1UM5LH357404LIKO6QM9RAGg39GzWxwbEt+PRp4fIT3/wbwBPBx4E5Jr46IjSO81szMWlDL\nBsdmNu7682tlyLMGtxk4pv6gpApwVoPz7yetSvEaRh4cExGfkLQb+BSwRNIvRcQLoxvy3s44egYP\nevMDM7PDSssGx1M60v+P98ocT0rfdOZJepVSdnigkr7uz5njtkppKbf8//ba/LrShLzitWhr23eC\nXe3kfSfklStbKvna0N4ZZChNthtJNrl0Tn/OFBcZZAZK4+sbdpUqswOxmfSfyLGjvP4B4BJJF0XE\nHaXjHwKOa3D+Z4ArgQ9Luj0iHis3Slo42KS8iPgLSXtIq118X9IvRsTqUY7bzMwOYy0bHJvZ+IqI\nHZL+A/gvkm4BnqS2/vBI/BlwMXCbpC8Dm0hLrR1PWkd5cd39HpP0DuCzwI8l3UZa53gO8POkJd5e\nOcR4P5sD5L8D7soB8rMjHKuZmbUIT8gzs7H0NuBbwCXANcBHGeHyZnnliEuBR4E3A28HVgDnACsH\nueZzwCuAb5KC5/8J/FdgPWljj+HueRPwVlJm+i5JJ4xkrGZm1jpaNnM8uTOXSZQnvOVSi668m11H\nqayiLx/rKybWtQ9eHrHX99p7veL2tnLJRbp3Xy5laItK/WV7z0aqK9uQSmUf+cSB6oS60sS/3Bb5\niwGVyyryOsx5DFGakEe7fzaysRURPwVeP0jzvttD7nv912mcab48/2l0zQ+AXxum3xWD3T8i/gH4\nh+HGZmZmrcnRkZmZmZlZ1rKZ4ylpJbfSznUQlZRRLebaqVJra88Hq5P0KuWZfHkZtLbBE11tOUNL\nz+7aZZW0PFzn5GkAdJR+FlGxc12py6KLtnyfgVKWt5iIJxUZ4NqFxfJzxdJvA6V8dHVZt+jL3+/b\np5mZmZklzhybmZmZmWUtmzmeNyVlSNvyZiAAvQMpe1psttHeUaoPzgnjvpxZbStljivtqbG3pweA\n7vwK0N+dMsWdPVsBWP70U9W2mQsWATD/pJekPveqY841zqV/gv4ovk5j6Cz/6/Sle7b1dwPQNa2r\n2rR20+Z0vfISdV1HVNsGcla5Uqzk1l/LHPf192FmZmZmNc4cm5mZmZllDo7NzMzMzLKWLatY91za\nCKujc1L12JSpUwGodE4GoHNSbfLcphdWAdDeNR2AHXtqpRMb1qW+1r+wDoDuvt5qW+eU1NcZJx0P\nwM7tm6ptM2bPBWAqewDoqpT+uqvLr9WO9eUqhzkz0zhfeH55te1H990LwKypUwD4hcUXVttWPpd2\nyt2dd/Kbe9yJtfc8K42hLVdT9PX2V9uQfzYyMzMzK3N0ZGZmZmaWtWzm+OEfLAGgUlrKraMjTc7r\nyJnjOdNqWeXH/vNHqe3IBenAnPnVth17Uob5mSfSZLsXHbew2nbCwpMB2NyXUsFPr15fbZt9VMom\nqy9NoqtM7qy2VTcniVomt6M9TRDcsW0tAGvXPF17Q5WUVt6wbSMAX/vmbdWm7rweXNcRswCYMWNm\ntW3WnNnpNpGy1wPttftVKi37z29mZmY2Ks4cm5mZmZllLZs6XL1yKVBbtq38dbF187YZs6tt61/Y\nkNpybe7kjtp1nV2pBviYRSmrfPqZL662zTvqaADWPPls6nPLxmpb77bU5+M/vCv10zml2japMy3F\n1jV5cvXYtCPSEmybNqXM8QM/vK/a9oMHHkjj3JD67O2p1T2fcfqZAJzzisUARM5UA/R1p4wxxRJ1\npTrj3l4v5WZmZmZW5syxmZmZmVnm4NjMzMzMLGvZsopK3mWuvAtc5N3i1J9ed00/sto27fg0AW9G\nR5o0N3/OvGrbpF07AZg1PZVXnDz9RdW2mUctAuChzTsA6D/lpGrbhrw83MbnfgpA99Z11baOjjSG\nto7aDn6TJqcJgpO60r2ffW5DtW31ijWpj6LsY0pth7yeXB5xRC7R2LFubbXtsRfS11OmpbauqdOr\nbdGWJwiecQxmhxpJAXw/IhaP8PzFwPeA6yLi2tLxJcCFEaHGV5qZmdU4c2zWIiRFDgTNzMxslFo2\nc3xM3oBjd29tM489vWmi2pQpqa23bVq1be32LQDMy4ncOctrS7JtW58yvrNeeioAm59dVbtu7QsA\ntPWmCXJzJ9X63JazvDu60/JpU7qOqA0wUuO2XbWNSNSTztu+LvW/u7v2s8vZ55yXLiMlv1auXlPr\nanK65333p41CTll4VLWtrS9ltDduWgFAZ1dtUmClPWWff+3i8zBrAQ8ApwMbhjvRzMxsMC0bHJvZ\nxBIRu4DHx3scZY+s2sqiq7813sM4LKy4/nXjPQQzM8BlFWYHjaTLJX1V0jOSdkvaJuleSW9tcO4K\nSSsG6efaXEKxuNRv3lWGC3Nb8efaumt/XdJdkrbmMfynpA9K6qy7TXUMkqZJ+pSk5/I1SyVdms9p\nl/RHkp6StEfS05LeNci42yRdKemHknZI2pm//n1p8L3MJR0l6WZJ6/L9H5T0Gw3OW9zoPQ9F0sWS\nvi1pg6TuPP7/I2nm8FebmVkratnMsdrThLfJHaWJaztTKUNHnrg2qZjdBqx5Ia1TfPSL0iS9J+5a\nVm3rnJ8m4F1w7tsAiMmVatsLTz4GwJaNaeJbX1dtwlt/b4pXNm9JpROds2olFx2d6a9+2uTa/4O3\n7UwlELtyiUZvaf7Q7l27ABjIpSG7ttbKPkLp2Lq8k1/P9s3VtplHpJhncmelOLna1h5e5/gg+wzw\nKHAXsAaYA7wWuFnSqRHx4VH2uxS4DrgGWAncVGpbUnwh6ePAB0llB18CdgCvAdC8iwAAABaSSURB\nVD4OXCzpoojoYW8dwL8Bs4HbgEnAW4CvSroIeAfwcuA7QDfwJuAGSesj4st1fd0M/AbwHPC3QAC/\nCtwIvAL4zQbvbRZwH7AF+AIwE/h14BZJR0fE/xn2b2cQkq4BrgU2Ad8E1gEvBf4AeK2k8yJi22j7\nNzOzw1PLBsdmh6AzIuLp8gFJk0iB5dWSPhsRqxpfOriIWAoszcHeivJKDaX7nEcKjJ8DzomItfn4\nB4GvAb9MCgo/XnfpUcBDwOKI6M7X3EwK8P8ReDq/ry257ZOk0oargWpwLOktpMD4x8AvRMSOfPxD\nwPeB35D0rYj4Ut39X5rv8+aIVKgv6XrgQeBPJH01Ip7Zv78xkPRKUmD8A+C1xfhz2+WkQPw64L0j\n6OvBQZpO299xmZnZ+GvZ4PiIOWny2xHTapPgNq1K///b058yxtMqtSRZ356tAGzrScu1zS5lnLt2\npOTRo7d/B4AF511QbfuPpQ+nc+amSX7zZ86otu1Yl7K7q9ekSXvLl9f+Hz51apoY19Nb2+lu67Y0\nhj2707gmT66NoTNnu7v7UlvXlNrOehueXwFAe1vKDq9WLSPe350y0+eefnx6z1NKS7lFy/7zH5Lq\nA+N8rEfSXwG/CLwK+Psxuv1v59ePFYFxvn+fpPeTMti/y77BMcB7isA4X3O3pOXA8cAHyoFlRDwj\n6V7gFZIqEdFfd/+ri8A4n79T0geAf8/3rw+O+/M9BkrXLJf0aVKm/G2kIHZ/XZVf/1t5/Ln/myS9\nm5TJHjY4NjOz1uLoyOwgkXQs8AFSEHws0FV3ytFjePufy6/frW+IiCclPQ8cL2lGRGwtNW9pFNQD\nq0nBcaOs6SrSZ8v8/HVx/wFKZR4l3ycFwT/boO3ZiFje4PgSUnDc6JqROA/oBd4k6U0N2icBR0qa\nExEbG7RXRcTZjY7njPLPNWozM7NDV8sGx8+vTTXEM2bPrh2MlFnduSnV705/Ua3ed1Z72oBj3coV\nAJxw7AnVtpmTU3Z3w6N3A/DQmpXVti/dmWKNs15yBgBnvrRWorhmTVpubdfu7QBs2VJLUG3cvAmA\nPXv2VI/15c08iFSrfMJxx1bbBnJ98LoNqf/ubTurbR05+3zMUak2+rQTazHWUQvS5iaTci30tt5a\nVnl3d+3eNrYknUBaamwWcDdwB7CVFBQuAt4O7DMpromKX2msGaR9DSlgn5nHVdja+HT6AOoC6b3a\nSPXK5ftvalDTXGSvNwDz6tuAFwa5f5H9njFI+3DmkD7/rhnmvGnAkMGxmZm1lpYNjs0OMe8jBWRX\nRMRN5YZcj/v2uvMHSNnLRkazkkIRxM4n1QnXW1B3XrNtBWZL6oiI3nKDpHZgLtBo8tuLGhyD9D6K\nfkc7nraImD3smWZmNqF4KTezg6PYV/yrDdoubHBsM/AiSR0N2l42yD0GgMogbT/Or4vrGySdBCwE\nltfX3zbRj0mfN7/QoO0XSON+qEHbsZIWNTi+uNTvaNwPzJL0M6O83szMWlTLZo637U5JqGefqf1W\ndubU9FvbaZPT5LmVPbuqbZMmpb+KHS+kRNST02u/fd4c6bfdL6xN5RE/XHpvtW32jDSBb/WqVGqx\nbeumatv27en8WbNmAdDVNb/atnlzikG25XMAYiCVU3R2plLURcfXSjtWPv0oAHOnpJ9njj96YbXt\npONT3DVlerpPpbO2C96uPek33Bu2pBKKvv7+altUAjtoVuTXxcA3ioOSLiZNRKv3AKle9Qrgb0rn\nXw5c0OB8SL/+P2aQts8DvwN8SNLXI2J97q8C/BkpcP27Eb2T0fk8qdb6E5IW5w07kDQFuD6f0+j+\nFeBPJb2ltFrF8aQJdX3AF0c5nk8BrwM+J+mNEbG63ChpKvCSiLh/lP0DcMbRM3jQm1uYmR1WWjY4\nNjvE3EgKdP9R0j+RJrSdAVwCfAW4rO78G/L5n5H0KtISbGeRJpJ9k7T0Wr07gTdL+gYpC9sL3BUR\nd0XEfZL+N/CHwCN5DDtJ6xyfAdwDjHrN4OFExJck/QppjeJHJf0LaZ3jS0kT+74cEbc0uPQnpHWU\nH5R0B7V1jmcCfzjIZMGRjOdOSVcDnwCekvRtYDmpxvg4Ujb/HtK/j5mZTSAtGxy353LNedNq5ZmL\njk/Lji445nQA7rv/P6pts2anDPCFF+Z9CDpqv82eN3cOAHfdnTLGuu8H1baTT05LpG3enDbeqFRq\nv9VOpZTQmTO5W7bWyiO780S8ro5aZcukSvp6xoy0/Jz6ahPmzn7pSwGYMz31Nam0zFvPQLrn9j1p\nta09O2r3KXLD7XkDsvaO2vj6B2pZZBtbEfGTvLbux0gZy3bgYeANpA0uLqs7/zFJv0RaWu31pCzp\n3aTg+A00Do7fTfonfxVpabY20jJnd+U+PyDpx8C7gN8iTZh7GvgQ8OeNJss12VtIK1P8NvB7+dgy\n4M9JG6Q0spkUwP9v0g8L04HHgD9rsCbyfomIP83Lzl1F2oTkV0i1yKtI2foD6t/MzA5PLRscmx1q\nIuI+0nrGjaj+QETcQ+Ma3Z+QNrCoP38daaONocZwK3DrcGPN5y4aom3xEG2XA5c3OD5AyqDfOML7\nl/9O9tliu8H5S2j897h4iGvuIWWIzczMgBYOjo+cnep72ztrm2V05iztww//EIBHH3u02lZkWDtn\npMnrC+bX6oMrk1IWecOWVE/cOamWfV24MNX+rlufVpbavKW2xFqxcceWNem6KC2dNn9Wyg6fcNyp\ntb4WpIn5R85JNdGV8tbXeQW27T0p27tnc3VPBgb60tftOWvd0V77Z1Xb3nMuy9liZ47NzMzM9ubV\nKszMzMzMMgfHZmZmZmZZy5ZVTJ+VyiO279xRPbZ+Qyp9WLn8OQCeXVtb5q23PxVWPPXUEwC0V2o/\nNwzk0sc93al8Yc7cI6ttTz6dJsuvX78undtX299gciWVTpx2XCqXOOWYBdW2BfPTLnad02obfPXm\n++zeneZFbdleW2pu9550LNoq+4xvcmdaaq6YDDhQKpfo609LuRXlFQMDtR3y+osd+czMzMwMcObY\nzMzMzKyqZTPHO3amzTXaaolSOvLPAi85KS2/trW79vb37EibckxTWtJt89baxLre3pSJ7e5NE/MG\nopZx3bV5Y+7zRABOOmFRte1FR6bs9czp09M9emubbuzclSbnrV9b2zSkpzdnnfOya+Vl4YpJdpWc\nMZbKk/JTv0XGuNhMBCAifd2bN/+I0iYgFflnIzMzM7MyR0dmZmZmZpmDYzMzMzOzrGXLKuZ1pTWC\nK6U9ASq52qC9I73tI7tqb3/+wpMAePGxaTe8XXtq9Rjdu9JEvO07UylEX+lniplz0vkLFr5on7Z1\nm9NkwGfWpRKPnl2lUo08uW/SpEnVY+3V0on02ta2788utUl3pYl1/XuvV1y+bqA/ndebz6+UyjHa\n2yuYmZmZWY0zx2ZmZmZmWctmjis5Y1opxf8VUqa0byC97dKqa+TV0xhQ2tWul9oOdOv3pAl4PZH6\nOmLGzGpb36R0/tPPp6Xcdu3eXW3rzWMgL9FWaatlbbuKzHZp0l2R8S2Otbd3VNuKTHF/Xpqtr2/w\nZdj6Sku0DUTx95CUd89ra3Pm2MzMzKzMmWMzMzMzs6xlM8cDysuuqfYWe/pT5lZKGdMpnbVM7srn\nnwegY1I6v7e3p9q2NaeVp05Ny7z17qjVDvdt2QpAV64dLmdm2/NSaWorL7uWFFnicn1wkTEujkXU\n6or7cpq7qC8uL+VWfF1kk4vl2wDacltH7rs8vnLW2szMzMycOTYzMzMzq3JwbGZ7kbREUgx/5gHf\nZ5GkkHTTWN/LzMxspFq2rKKYr9Y2ubRU2rQpAPTnMoeFxy2stqmSyipe2LQBgClH1CbdFeUUhfLS\naZ2dnanvtn13rmurO1Zuqy+hKOvt7d3nWDEhr1FfxXjKy7sNdp/ydUNN6jMzMzObiFo2ODazUfst\nYMp4D6IVPLJqK4uu/tZ4D6NpVlz/uvEegpnZmGvZ4LhrznwAduzZUz22dXuaSLdx+y4AunfXlmub\n3JWywx05+VopTVyT9p4819FRW2KtOrEuZ2TLmeDi62Jzj/JEuSKDW8721pZr23fSXdFXcU65r/LX\njb6HWga5r6+W9V67du0+55lFxLPjPQYzM7Px4ppjswlA0uWSvirpGUm7JW2TdK+ktzY4d5+aY0mL\nc33wtZLOkfQtSZvysUX5nBX5zwxJ/1fSKkl7JD0m6SqVf9obeqynSLpe0o8krZfULWmlpL+RtLDB\n+eWxnZXHtkXSLknfl3T+IPdpl/QOSffnv49dkn4s6V0qfiI2M7MJp2Uzx4+vfA6AnaVl13p6UqZ4\nYGDfzKqKrHCxhbNqy5xVKnvX65b/r9mejxWZ5qGWZmu05XP91s/l88uxRHFto7rieo2WaCve86pV\nq2pjb2/Zf37b12eAR4G7gDXAHOC1wM2STo2ID4+wn/OADwL3AJ8H5gI9pfZJwL8DM4Fb8/e/Bvwl\ncCrwzhHc4w3AlcD3gPty/z8D/C7wekkvi4hVDa57GfCHwA+AvwWOzfe+U9JZEfFEcaKkDuAbwMXA\nE8CXgD3AK4EbgJcDbxvBWM3MrMU4OjKbGM6IiKfLByRNAr4DXC3ps4MEnPUuAq6MiL8epH0B8Ey+\nX3e+zzXAD4F3SPpyRNw1zD1uBj5VXF8a70V5vB8Cfr/Bda8DroiIm0rX/B7wWeDdwDtK5/4RKTD+\nv8B7IqI/n18B/gb4bUn/FBG3DTNWJD04SNNpw11rZmaHHv/q0GwCqA+M87Ee4K9IPyS/aoRdLR0i\nMC58sBzYRsQm4KP52ytGMNZV9YFxPn4HKft98SCX3lsOjLPPA33AOcWBXDLxP4C1wHuLwDjfox94\nPxDAbw43VjMzaz0tmznevGkTsHcZQv2EuvLEteJYUZJQro4syhuKtnLZgupKIMplFUX/xdJs5fs1\nWn6tvsyh3FZcW9ynUTlGo2Xeive1cWP6+9i1a1e17bTTnNiaKCQdC3yAFAQfC3TVnXL0CLt6YJj2\nPlIpRL0l+fVnh7tBrk3+TeBy4ExgFlCuFeppcBnAj+oPRESvpBdyH4VTgNnAU8CHBimF3g2cPtxY\n8z3ObnQ8Z5R/biR9mJnZoaNlg2MzSySdQApqZwF3A3cAW4F+YBHwdqBzhN0Nt8TJhnImtsF1M0Zw\nj08C7yHVRt8OrCIFq5AC5uMGuW7LIMf72Du4npNfTwauGWIc00YwVjMzazEtGxzXsrT7ZlHb2vad\nsFbLHhUZ2loGWBQT8VTXY+3roZZYKzLH5Uxwo01A6rPJjTJaxbFGy8I1msjXk++94vm0OtfxixZV\n2yZ1jTQessPc+0gB4RX1ZQeS3kIKjkdquJ3z5kqqNAiQ5+fXrUNdLGkecBXwCHB+RGxvMN4DVYzh\naxHxhib0Z2ZmLaRlg2Mzqzopv361QduFTb5XO3A+KUNdtji//niY608gzYW4o0FgvDC3H6jHSVnm\ncyV1RMS+W1I2yRlHz+BBb5xhZnZY8YQ8s9a3Ir8uLh+UdDFpebRm+4Sk6q8lJM0mrTAB8IVhrl2R\nX1+RV44o+pgGfI4m/EAfEX2k5doWAJ+WVF9/jaQFkl58oPcyM7PDT8tmjitFiUFbo/h/78ltAG1t\nuTQhr2ncXintkFc9p618OQD9/QN7nVQud6jf8W6v8TVYi3ione6Kr4sxlK+vn8hXLtVYtXr1Xu9r\nzpFzq209fWOWMLNDy42kVSL+UdI/AauBM4BLgK8AlzXxXmtI9cuPSPo60AG8kRSI3jjcMm4RsVbS\nrcCbgaWS7iDVKb+atA7xUuCsJozzo6TJfleS1k7+Lqm2eR6pFvkC0nJvjzXhXmZmdhhp2eDYzJKI\n+ImkVwIfI60F3A48TNpsYwvNDY57gF8CPk4KcOeS1j2+npStHYnfyddcRto0ZD3wdeCPaVwast/y\nKhaXAm8lTfL7ZdIEvPXAcuDDwC0HeJtFy5Yt4+yzGy5mYWZmw1i2bBmkieMHleqzlWZmoyFpBUBE\nLBrfkRwaJHWTVsl4eLzHYjaIYj3Px8d1FGaDOxPoj4iDuoKAM8dmZmPjERh8HWSz8Vbs7uhn1A5V\nQ+xAOqY8Ic/MzMzMLHNwbGZmZmaWuazCzJrCtcZmZtYKnDk2MzMzM8scHJuZmZmZZV7KzczMzMws\nc+bYzMzMzCxzcGxmZmZmljk4NjMzMzPLHBybmZmZmWUOjs3MzMzMMgfHZmZmZmaZg2MzMzMzs8zB\nsZnZCEhaKOnzklZL6pa0QtJfSJq1n/3MztetyP2szv0uHKux28TQjGdU0hJJMcSfyWP5Hqx1SXqj\npBsk3S1pW36evjjKvpryeTyY9mZ0YmbWyiSdCNwHzANuAx4HzgHeDVwi6YKI2DiCfubkfk4Bvgvc\nCpwGXAG8TtJ5EfHM2LwLa2XNekZLrhvkeN8BDdQmsg8BZwI7gOdJn337bQye9X04ODYzG96NpA/i\nqyLihuKgpE8C7wX+BLhyBP18nBQYfzIi3l/q5yrgL/N9LmniuG3iaNYzCkBEXNvsAdqE915SUPxT\n4ELge6Psp6nPeiPePtrMbAg5S/FTYAVwYkQMlNqOANYAAuZFxM4h+pkGrAMGgAURsb3U1gY8AxyX\n7+HssY1Ys57RfP4S4MKI0JgN2CY8SYtJwfEtEfHW/biuac/6UFxzbGY2tFfm1zvKH8QAOcC9F5gC\nnDtMP+cCXcC95cA49zMA3F53P7ORatYzWiXpMklXS3qfpNdI6mzecM1GrenPeiMOjs3MhnZqfn1y\nkPan8uspB6kfs3pj8WzdCnwC+HPg28Czkt44uuGZNc1B+Rx1cGxmNrQZ+XXrIO3F8ZkHqR+zes18\ntm4DXg8sJP2m4zRSkDwT+LIk18TbeDoon6OekGdmZmYARMSn6g49AfwvSauBG0iB8r8e9IGZHUTO\nHJuZDa3IRMwYpL04vuUg9WNW72A8W39LWsbtrDzxyWw8HJTPUQfHZmZDeyK/DlbDdnJ+HawGrtn9\nmNUb82crIvYAxUTSqaPtx+wAHZTPUQfHZmZDK9bivCgvuVaVM2gXALuA+4fp535gN3BBfeYt93tR\n3f3MRqpZz+igJJ0KzCIFyBtG24/ZARrzZx0cHJuZDSkingbuABYB76xrvo6URbu5vKampNMk7bX7\nU0TsAG7O519b18+7cv+3e41j21/NekYlHS9pdn3/ko4EvpC/vTUivEuejSlJHfkZPbF8fDTP+qju\n701AzMyG1mC70mXAy0lrbj4JnF/erlRSANRvpNBg++gHgNOBXyFtEHJ+/vA32y/NeEYlXQ58FriH\ntCnNJuBY4LWkWs4fAa+OCNfF236TdClwaf52PnAx6Tm7Ox/bEBF/kM9dBCwHVkbEorp+9utZH9VY\nHRybmQ1P0jHAR0jbO88h7cT0NeC6iNhcd27D4Di3zQauIf1PYgGwEfgO8McR8fxYvgdrbQf6jEp6\nCfB+4GzgKGA6qYziUeArwF9HRM/YvxNrRZKuJX32DaYaCA8VHOf2ET/roxqrg2MzMzMzs8Q1x2Zm\nZmZmmYNjMzMzM7PMwbGZmZmZWebg2MzMzMwsc3BsZmZmZpY5ODYzMzMzyxwcm5mZmZllDo7NzMzM\nzDIHx2ZmZmZmmYNjMzMzM7PMwbGZmZmZWebg2MzMzMwsc3BsZmZmZpY5ODYzMzMzyxwcm5mZmZll\nDo7NzMzMzDIHx2ZmZmZm2f8H4kcGQ9T2DzsAAAAASUVORK5CYII=\n",
      "text/plain": [
       "<matplotlib.figure.Figure at 0x7f80efcaee10>"
      ]
     },
     "metadata": {
      "image/png": {
       "height": 319,
       "width": 355
      }
     },
     "output_type": "display_data"
    }
   ],
=======
   "execution_count": null,
   "metadata": {},
   "outputs": [],
>>>>>>> d94980095d1187998e2e0544966bb417f031390f
   "source": [
    "\"\"\"\n",
    "DON'T MODIFY ANYTHING IN THIS CELL\n",
    "\"\"\"\n",
    "%matplotlib inline\n",
    "%config InlineBackend.figure_format = 'retina'\n",
    "\n",
    "import tensorflow as tf\n",
    "import pickle\n",
    "import helper\n",
    "import random\n",
    "\n",
    "# Set batch size if not already set\n",
    "try:\n",
    "    if batch_size:\n",
    "        pass\n",
    "except NameError:\n",
    "    batch_size = 64\n",
    "\n",
    "save_model_path = './image_classification'\n",
    "n_samples = 4\n",
    "top_n_predictions = 3\n",
    "\n",
    "def test_model():\n",
    "    \"\"\"\n",
    "    Test the saved model against the test dataset\n",
    "    \"\"\"\n",
    "\n",
    "    test_features, test_labels = pickle.load(open('preprocess_test.p', mode='rb'))\n",
    "    loaded_graph = tf.Graph()\n",
    "\n",
    "    with tf.Session(graph=loaded_graph) as sess:\n",
    "        # Load model\n",
    "        loader = tf.train.import_meta_graph(save_model_path + '.meta')\n",
    "        loader.restore(sess, save_model_path)\n",
    "\n",
    "        # Get Tensors from loaded model\n",
    "        loaded_x = loaded_graph.get_tensor_by_name('x:0')\n",
    "        loaded_y = loaded_graph.get_tensor_by_name('y:0')\n",
    "        loaded_keep_prob = loaded_graph.get_tensor_by_name('keep_prob:0')\n",
    "        loaded_logits = loaded_graph.get_tensor_by_name('logits:0')\n",
    "        loaded_acc = loaded_graph.get_tensor_by_name('accuracy:0')\n",
    "        \n",
    "        # Get accuracy in batches for memory limitations\n",
    "        test_batch_acc_total = 0\n",
    "        test_batch_count = 0\n",
    "        \n",
    "        for test_feature_batch, test_label_batch in helper.batch_features_labels(test_features, test_labels, batch_size):\n",
    "            test_batch_acc_total += sess.run(\n",
    "                loaded_acc,\n",
    "                feed_dict={loaded_x: test_feature_batch, loaded_y: test_label_batch, loaded_keep_prob: 1.0})\n",
    "            test_batch_count += 1\n",
    "\n",
    "        print('Testing Accuracy: {}\\n'.format(test_batch_acc_total/test_batch_count))\n",
    "\n",
    "        # Print Random Samples\n",
    "        random_test_features, random_test_labels = tuple(zip(*random.sample(list(zip(test_features, test_labels)), n_samples)))\n",
    "        random_test_predictions = sess.run(\n",
    "            tf.nn.top_k(tf.nn.softmax(loaded_logits), top_n_predictions),\n",
    "            feed_dict={loaded_x: random_test_features, loaded_y: random_test_labels, loaded_keep_prob: 1.0})\n",
    "        helper.display_image_predictions(random_test_features, random_test_labels, random_test_predictions)\n",
    "\n",
    "\n",
    "test_model()"
   ]
  },
  {
   "cell_type": "markdown",
   "metadata": {
    "deletable": true,
    "editable": true
   },
   "source": [
    "## Why 50-80% Accuracy?\n",
    "You might be wondering why you can't get an accuracy any higher. First things first, 50% isn't bad for a simple CNN.  Pure guessing would get you 10% accuracy. However, you might notice people are getting scores [well above 80%](http://rodrigob.github.io/are_we_there_yet/build/classification_datasets_results.html#43494641522d3130).  That's because we haven't taught you all there is to know about neural networks. We still need to cover a few more techniques.\n",
    "## Submitting This Project\n",
    "When submitting this project, make sure to run all the cells before saving the notebook.  Save the notebook file as \"dlnd_image_classification.ipynb\" and save it as a HTML file under \"File\" -> \"Download as\".  Include the \"helper.py\" and \"problem_unittests.py\" files in your submission."
   ]
  }
 ],
 "metadata": {
  "kernelspec": {
   "display_name": "Python 3",
   "language": "python",
   "name": "python3"
  },
  "language_info": {
   "codemirror_mode": {
    "name": "ipython",
    "version": 3
   },
   "file_extension": ".py",
   "mimetype": "text/x-python",
   "name": "python",
   "nbconvert_exporter": "python",
   "pygments_lexer": "ipython3",
<<<<<<< HEAD
   "version": "3.5.2+"
=======
   "version": "3.6.0"
>>>>>>> d94980095d1187998e2e0544966bb417f031390f
  }
 },
 "nbformat": 4,
 "nbformat_minor": 1
}
