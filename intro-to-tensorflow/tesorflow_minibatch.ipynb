{
 "cells": [
  {
   "cell_type": "code",
   "execution_count": 1,
   "metadata": {
    "collapsed": true
   },
   "outputs": [],
   "source": [
    "from tensorflow.examples.tutorials.mnist import input_data"
   ]
  },
  {
   "cell_type": "code",
   "execution_count": 2,
   "metadata": {
    "collapsed": true
   },
   "outputs": [],
   "source": [
    "import tensorflow as tf\n",
    "import numpy as np"
   ]
  },
  {
   "cell_type": "code",
   "execution_count": 3,
   "metadata": {
    "collapsed": true
   },
   "outputs": [],
   "source": [
    "learning_rate = 0.001\n",
    "n_input = 784"
   ]
  },
  {
   "cell_type": "code",
   "execution_count": 4,
   "metadata": {
    "collapsed": true
   },
   "outputs": [],
   "source": [
    "n_classes = 10"
   ]
  },
  {
   "cell_type": "code",
   "execution_count": 5,
   "metadata": {
    "collapsed": false
   },
   "outputs": [
    {
     "name": "stdout",
     "output_type": "stream",
     "text": [
      "Extracting /home/hnkulkarni/deep-learning/datasets/ud730/mnist/train-images-idx3-ubyte.gz\n",
      "Extracting /home/hnkulkarni/deep-learning/datasets/ud730/mnist/train-labels-idx1-ubyte.gz\n",
      "Extracting /home/hnkulkarni/deep-learning/datasets/ud730/mnist/t10k-images-idx3-ubyte.gz\n",
      "Extracting /home/hnkulkarni/deep-learning/datasets/ud730/mnist/t10k-labels-idx1-ubyte.gz\n"
     ]
    }
   ],
   "source": [
    "mnist = input_data.read_data_sets('/home/hnkulkarni/deep-learning/datasets/ud730/mnist', one_hot=True)"
   ]
  },
  {
   "cell_type": "code",
   "execution_count": 6,
   "metadata": {
    "collapsed": false
   },
   "outputs": [],
   "source": [
    "train_features = mnist.train.images\n",
    "test_features = mnist.test.images"
   ]
  },
  {
   "cell_type": "code",
   "execution_count": 7,
   "metadata": {
    "collapsed": false
   },
   "outputs": [],
   "source": [
    "train_labels = mnist.train.labels.astype(np.float32)\n",
    "test_labels = mnist.test.labels.astype(np.float32)"
   ]
  },
  {
   "cell_type": "code",
   "execution_count": 8,
   "metadata": {
    "collapsed": true
   },
   "outputs": [],
   "source": [
    "weights = tf.Variable(tf.random_normal([n_input, n_classes]))\n",
    "bias = tf.Variable(tf.random_normal([n_classes]))"
   ]
  },
  {
   "cell_type": "code",
   "execution_count": 9,
   "metadata": {
    "collapsed": true
   },
   "outputs": [],
   "source": [
    "features = tf.placeholder(tf.float32, [None, n_input])\n",
    "labels = tf.placeholder(tf.float32, [None, n_classes])"
   ]
  },
  {
   "cell_type": "code",
   "execution_count": 10,
   "metadata": {
    "collapsed": true
   },
   "outputs": [],
   "source": [
    "import math\n",
    "def batches(batch_size, features, labels):\n",
    "    \"\"\"\n",
    "    Create batches of features and labels\n",
    "    :param batch_size: The batch size\n",
    "    :param features: List of features\n",
    "    :param labels: List of labels\n",
    "    :return: Batches of (Features, Labels)\n",
    "    \"\"\"\n",
    "    assert len(features) == len(labels)\n",
    "    outout_batches = []\n",
    "    \n",
    "    sample_size = len(features)\n",
    "    for start_i in range(0, sample_size, batch_size):\n",
    "        end_i = start_i + batch_size\n",
    "        batch = [features[start_i:end_i], labels[start_i:end_i]]\n",
    "        outout_batches.append(batch)\n",
    "        \n",
    "    return outout_batches\n"
   ]
  },
  {
   "cell_type": "code",
   "execution_count": 11,
   "metadata": {
    "collapsed": true
   },
   "outputs": [],
   "source": [
    "def print_epoch_stats(epoch_i, sess, last_features, last_labels):\n",
    "    \"\"\"\n",
    "    Print cost and validation accuracy of an epoch\n",
    "    \"\"\"\n",
    "    current_cost = sess.run(\n",
    "        cost,\n",
    "        feed_dict={features: last_features, labels: last_labels})\n",
    "    valid_accuracy = sess.run(\n",
    "        accuracy,\n",
    "        feed_dict={features: valid_features, labels: valid_labels})\n",
    "    print('Epoch: {:<4} - Cost: {:<8.3} Valid Accuracy: {:<5.3}'.format(\n",
    "        epoch_i,\n",
    "        current_cost,\n",
    "        valid_accuracy))"
   ]
  },
  {
   "cell_type": "code",
   "execution_count": 24,
   "metadata": {
    "collapsed": false
   },
   "outputs": [
    {
     "ename": "TypeError",
     "evalue": "Cannot interpret feed_dict key as Tensor: Can not convert a float into a Tensor.",
     "output_type": "error",
     "traceback": [
      "\u001b[0;31m---------------------------------------------------------------------------\u001b[0m",
      "\u001b[0;31mTypeError\u001b[0m                                 Traceback (most recent call last)",
      "\u001b[0;32m/usr/local/lib/python3.5/dist-packages/tensorflow/python/client/session.py\u001b[0m in \u001b[0;36m_run\u001b[0;34m(self, handle, fetches, feed_dict, options, run_metadata)\u001b[0m\n\u001b[1;32m   1067\u001b[0m             subfeed_t = self.graph.as_graph_element(subfeed, allow_tensor=True,\n\u001b[0;32m-> 1068\u001b[0;31m                                                     allow_operation=False)\n\u001b[0m\u001b[1;32m   1069\u001b[0m           \u001b[0;32mexcept\u001b[0m \u001b[0mException\u001b[0m \u001b[0;32mas\u001b[0m \u001b[0me\u001b[0m\u001b[0;34m:\u001b[0m\u001b[0;34m\u001b[0m\u001b[0m\n",
      "\u001b[0;32m/usr/local/lib/python3.5/dist-packages/tensorflow/python/framework/ops.py\u001b[0m in \u001b[0;36mas_graph_element\u001b[0;34m(self, obj, allow_tensor, allow_operation)\u001b[0m\n\u001b[1;32m   2611\u001b[0m     \u001b[0;32mwith\u001b[0m \u001b[0mself\u001b[0m\u001b[0;34m.\u001b[0m\u001b[0m_lock\u001b[0m\u001b[0;34m:\u001b[0m\u001b[0;34m\u001b[0m\u001b[0m\n\u001b[0;32m-> 2612\u001b[0;31m       \u001b[0;32mreturn\u001b[0m \u001b[0mself\u001b[0m\u001b[0;34m.\u001b[0m\u001b[0m_as_graph_element_locked\u001b[0m\u001b[0;34m(\u001b[0m\u001b[0mobj\u001b[0m\u001b[0;34m,\u001b[0m \u001b[0mallow_tensor\u001b[0m\u001b[0;34m,\u001b[0m \u001b[0mallow_operation\u001b[0m\u001b[0;34m)\u001b[0m\u001b[0;34m\u001b[0m\u001b[0m\n\u001b[0m\u001b[1;32m   2613\u001b[0m \u001b[0;34m\u001b[0m\u001b[0m\n",
      "\u001b[0;32m/usr/local/lib/python3.5/dist-packages/tensorflow/python/framework/ops.py\u001b[0m in \u001b[0;36m_as_graph_element_locked\u001b[0;34m(self, obj, allow_tensor, allow_operation)\u001b[0m\n\u001b[1;32m   2700\u001b[0m       raise TypeError(\"Can not convert a %s into a %s.\"\n\u001b[0;32m-> 2701\u001b[0;31m                       % (type(obj).__name__, types_str))\n\u001b[0m\u001b[1;32m   2702\u001b[0m \u001b[0;34m\u001b[0m\u001b[0m\n",
      "\u001b[0;31mTypeError\u001b[0m: Can not convert a float into a Tensor.",
      "\nDuring handling of the above exception, another exception occurred:\n",
      "\u001b[0;31mTypeError\u001b[0m                                 Traceback (most recent call last)",
      "\u001b[0;32m<ipython-input-24-3693c892defa>\u001b[0m in \u001b[0;36m<module>\u001b[0;34m()\u001b[0m\n\u001b[1;32m     31\u001b[0m                     \u001b[0mlabels\u001b[0m\u001b[0;34m:\u001b[0m \u001b[0mbatch_labels\u001b[0m\u001b[0;34m,\u001b[0m\u001b[0;34m\u001b[0m\u001b[0m\n\u001b[1;32m     32\u001b[0m                     learning_rate: learning_rate}\n\u001b[0;32m---> 33\u001b[0;31m             \u001b[0msess\u001b[0m\u001b[0;34m.\u001b[0m\u001b[0mrun\u001b[0m\u001b[0;34m(\u001b[0m\u001b[0moptimizer\u001b[0m\u001b[0;34m,\u001b[0m \u001b[0mfeed_dict\u001b[0m\u001b[0;34m=\u001b[0m\u001b[0mtrain_feed_dict\u001b[0m\u001b[0;34m)\u001b[0m\u001b[0;34m\u001b[0m\u001b[0m\n\u001b[0m\u001b[1;32m     34\u001b[0m         \u001b[0mprint_epoch_stats\u001b[0m\u001b[0;34m(\u001b[0m\u001b[0mepoch_i\u001b[0m\u001b[0;34m,\u001b[0m \u001b[0msess\u001b[0m\u001b[0;34m,\u001b[0m \u001b[0mbatch_features\u001b[0m\u001b[0;34m,\u001b[0m \u001b[0mbatch_labels\u001b[0m\u001b[0;34m)\u001b[0m\u001b[0;34m\u001b[0m\u001b[0m\n\u001b[1;32m     35\u001b[0m \u001b[0;34m\u001b[0m\u001b[0m\n",
      "\u001b[0;32m/usr/local/lib/python3.5/dist-packages/tensorflow/python/client/session.py\u001b[0m in \u001b[0;36mrun\u001b[0;34m(self, fetches, feed_dict, options, run_metadata)\u001b[0m\n\u001b[1;32m    894\u001b[0m     \u001b[0;32mtry\u001b[0m\u001b[0;34m:\u001b[0m\u001b[0;34m\u001b[0m\u001b[0m\n\u001b[1;32m    895\u001b[0m       result = self._run(None, fetches, feed_dict, options_ptr,\n\u001b[0;32m--> 896\u001b[0;31m                          run_metadata_ptr)\n\u001b[0m\u001b[1;32m    897\u001b[0m       \u001b[0;32mif\u001b[0m \u001b[0mrun_metadata\u001b[0m\u001b[0;34m:\u001b[0m\u001b[0;34m\u001b[0m\u001b[0m\n\u001b[1;32m    898\u001b[0m         \u001b[0mproto_data\u001b[0m \u001b[0;34m=\u001b[0m \u001b[0mtf_session\u001b[0m\u001b[0;34m.\u001b[0m\u001b[0mTF_GetBuffer\u001b[0m\u001b[0;34m(\u001b[0m\u001b[0mrun_metadata_ptr\u001b[0m\u001b[0;34m)\u001b[0m\u001b[0;34m\u001b[0m\u001b[0m\n",
      "\u001b[0;32m/usr/local/lib/python3.5/dist-packages/tensorflow/python/client/session.py\u001b[0m in \u001b[0;36m_run\u001b[0;34m(self, handle, fetches, feed_dict, options, run_metadata)\u001b[0m\n\u001b[1;32m   1069\u001b[0m           \u001b[0;32mexcept\u001b[0m \u001b[0mException\u001b[0m \u001b[0;32mas\u001b[0m \u001b[0me\u001b[0m\u001b[0;34m:\u001b[0m\u001b[0;34m\u001b[0m\u001b[0m\n\u001b[1;32m   1070\u001b[0m             raise TypeError('Cannot interpret feed_dict key as Tensor: '\n\u001b[0;32m-> 1071\u001b[0;31m                             + e.args[0])\n\u001b[0m\u001b[1;32m   1072\u001b[0m \u001b[0;34m\u001b[0m\u001b[0m\n\u001b[1;32m   1073\u001b[0m           \u001b[0;32mif\u001b[0m \u001b[0misinstance\u001b[0m\u001b[0;34m(\u001b[0m\u001b[0msubfeed_val\u001b[0m\u001b[0;34m,\u001b[0m \u001b[0mops\u001b[0m\u001b[0;34m.\u001b[0m\u001b[0mTensor\u001b[0m\u001b[0;34m)\u001b[0m\u001b[0;34m:\u001b[0m\u001b[0;34m\u001b[0m\u001b[0m\n",
      "\u001b[0;31mTypeError\u001b[0m: Cannot interpret feed_dict key as Tensor: Can not convert a float into a Tensor."
     ]
    }
   ],
   "source": [
    "# Logits - xW + b\n",
    "logits = tf.add(tf.matmul(features, weights), bias)\n",
    "\n",
    "# Define loss and optimizer\n",
    "cost = tf.reduce_mean(tf.nn.softmax_cross_entropy_with_logits(logits=logits, labels=labels))\n",
    "optimizer = tf.train.GradientDescentOptimizer(learning_rate=learning_rate).minimize(cost)\n",
    "\n",
    "# Calculate accuracy\n",
    "correct_prediction = tf.equal(tf.argmax(logits, 1), tf.argmax(labels, 1))\n",
    "accuracy = tf.reduce_mean(tf.cast(correct_prediction, tf.float32))\n",
    "\n",
    "epochs = 10\n",
    "\n",
    "train_batches = batches(batch_size, train_features, train_labels)\n",
    "\n",
    "# TODO: Set batch size\n",
    "batch_size = 128\n",
    "assert batch_size is not None, 'You must set the batch size'\n",
    "\n",
    "init = tf.global_variables_initializer()\n",
    "with tf.Session() as sess:\n",
    "    sess.run(init)\n",
    "    \n",
    "    for epoch_i in range(epochs):\n",
    "        \n",
    "        # TODO: Train optimizer on all batches\n",
    "        # for batch_features, batch_labels in ______\n",
    "        for batch_features, batch_labels in train_batches:\n",
    "            train_feed_dict = {\n",
    "                    features: batch_features,\n",
    "                    labels: batch_labels,\n",
    "                    learning_rate: learning_rate}\n",
    "            sess.run(optimizer, feed_dict=train_feed_dict)\n",
    "        print_epoch_stats(epoch_i, sess, batch_features, batch_labels)\n",
    "\n",
    "        # Calculate accuracy for test dataset\n",
    "        test_accuracy = sess.run(\n",
    "            accuracy,\n",
    "            feed_dict={features: test_features, labels: test_labels})\n",
    "\n",
    "print('Test Accuracy: {}'.format(test_accuracy))\n"
   ]
  },
  {
   "cell_type": "code",
   "execution_count": 31,
   "metadata": {
    "collapsed": false
   },
   "outputs": [
    {
     "name": "stdout",
     "output_type": "stream",
     "text": [
      "Extracting /home/hnkulkarni/deep-learning/datasets/ud730/mnist/train-images-idx3-ubyte.gz\n",
      "Extracting /home/hnkulkarni/deep-learning/datasets/ud730/mnist/train-labels-idx1-ubyte.gz\n",
      "Extracting /home/hnkulkarni/deep-learning/datasets/ud730/mnist/t10k-images-idx3-ubyte.gz\n",
      "Extracting /home/hnkulkarni/deep-learning/datasets/ud730/mnist/t10k-labels-idx1-ubyte.gz\n",
      "Epoch: 0    - Cost: 9.51     Valid Accuracy: 0.23 \n",
      "Epoch: 1    - Cost: 7.14     Valid Accuracy: 0.409\n",
      "Epoch: 2    - Cost: 5.74     Valid Accuracy: 0.516\n",
      "Epoch: 3    - Cost: 4.86     Valid Accuracy: 0.58 \n",
      "Epoch: 4    - Cost: 4.25     Valid Accuracy: 0.626\n",
      "Epoch: 5    - Cost: 3.8      Valid Accuracy: 0.659\n",
      "Epoch: 6    - Cost: 3.45     Valid Accuracy: 0.679\n",
      "Epoch: 7    - Cost: 3.18     Valid Accuracy: 0.696\n",
      "Epoch: 8    - Cost: 2.95     Valid Accuracy: 0.718\n",
      "Epoch: 9    - Cost: 2.76     Valid Accuracy: 0.733\n",
      "Epoch: 10   - Cost: 2.59     Valid Accuracy: 0.742\n",
      "Epoch: 11   - Cost: 2.45     Valid Accuracy: 0.755\n",
      "Epoch: 12   - Cost: 2.32     Valid Accuracy: 0.767\n",
      "Epoch: 13   - Cost: 2.21     Valid Accuracy: 0.776\n",
      "Epoch: 14   - Cost: 2.11     Valid Accuracy: 0.783\n",
      "Epoch: 15   - Cost: 2.03     Valid Accuracy: 0.79 \n",
      "Epoch: 16   - Cost: 1.95     Valid Accuracy: 0.795\n",
      "Epoch: 17   - Cost: 1.87     Valid Accuracy: 0.798\n",
      "Epoch: 18   - Cost: 1.81     Valid Accuracy: 0.801\n",
      "Epoch: 19   - Cost: 1.75     Valid Accuracy: 0.805\n",
      "Epoch: 20   - Cost: 1.69     Valid Accuracy: 0.809\n",
      "Epoch: 21   - Cost: 1.64     Valid Accuracy: 0.812\n",
      "Epoch: 22   - Cost: 1.6      Valid Accuracy: 0.815\n",
      "Epoch: 23   - Cost: 1.55     Valid Accuracy: 0.819\n",
      "Epoch: 24   - Cost: 1.52     Valid Accuracy: 0.823\n",
      "Epoch: 25   - Cost: 1.48     Valid Accuracy: 0.825\n",
      "Epoch: 26   - Cost: 1.44     Valid Accuracy: 0.828\n",
      "Epoch: 27   - Cost: 1.41     Valid Accuracy: 0.83 \n",
      "Epoch: 28   - Cost: 1.38     Valid Accuracy: 0.833\n",
      "Epoch: 29   - Cost: 1.35     Valid Accuracy: 0.834\n",
      "Epoch: 30   - Cost: 1.33     Valid Accuracy: 0.836\n",
      "Epoch: 31   - Cost: 1.3      Valid Accuracy: 0.838\n",
      "Epoch: 32   - Cost: 1.28     Valid Accuracy: 0.838\n",
      "Epoch: 33   - Cost: 1.26     Valid Accuracy: 0.838\n",
      "Epoch: 34   - Cost: 1.24     Valid Accuracy: 0.841\n",
      "Epoch: 35   - Cost: 1.22     Valid Accuracy: 0.841\n",
      "Epoch: 36   - Cost: 1.2      Valid Accuracy: 0.842\n",
      "Epoch: 37   - Cost: 1.18     Valid Accuracy: 0.843\n",
      "Epoch: 38   - Cost: 1.16     Valid Accuracy: 0.844\n",
      "Epoch: 39   - Cost: 1.15     Valid Accuracy: 0.846\n",
      "Epoch: 40   - Cost: 1.13     Valid Accuracy: 0.847\n",
      "Epoch: 41   - Cost: 1.12     Valid Accuracy: 0.847\n",
      "Epoch: 42   - Cost: 1.11     Valid Accuracy: 0.848\n",
      "Epoch: 43   - Cost: 1.09     Valid Accuracy: 0.85 \n",
      "Epoch: 44   - Cost: 1.08     Valid Accuracy: 0.851\n",
      "Epoch: 45   - Cost: 1.07     Valid Accuracy: 0.852\n",
      "Epoch: 46   - Cost: 1.06     Valid Accuracy: 0.853\n",
      "Epoch: 47   - Cost: 1.05     Valid Accuracy: 0.853\n",
      "Epoch: 48   - Cost: 1.04     Valid Accuracy: 0.853\n",
      "Epoch: 49   - Cost: 1.03     Valid Accuracy: 0.854\n",
      "Epoch: 50   - Cost: 1.02     Valid Accuracy: 0.856\n",
      "Epoch: 51   - Cost: 1.01     Valid Accuracy: 0.856\n",
      "Epoch: 52   - Cost: 1.0      Valid Accuracy: 0.858\n",
      "Epoch: 53   - Cost: 0.997    Valid Accuracy: 0.859\n",
      "Epoch: 54   - Cost: 0.989    Valid Accuracy: 0.86 \n",
      "Epoch: 55   - Cost: 0.982    Valid Accuracy: 0.862\n",
      "Epoch: 56   - Cost: 0.975    Valid Accuracy: 0.862\n",
      "Epoch: 57   - Cost: 0.968    Valid Accuracy: 0.862\n",
      "Epoch: 58   - Cost: 0.961    Valid Accuracy: 0.862\n",
      "Epoch: 59   - Cost: 0.955    Valid Accuracy: 0.863\n",
      "Epoch: 60   - Cost: 0.949    Valid Accuracy: 0.864\n",
      "Epoch: 61   - Cost: 0.943    Valid Accuracy: 0.865\n",
      "Epoch: 62   - Cost: 0.937    Valid Accuracy: 0.865\n",
      "Epoch: 63   - Cost: 0.931    Valid Accuracy: 0.866\n",
      "Epoch: 64   - Cost: 0.926    Valid Accuracy: 0.867\n",
      "Epoch: 65   - Cost: 0.921    Valid Accuracy: 0.868\n",
      "Epoch: 66   - Cost: 0.915    Valid Accuracy: 0.868\n",
      "Epoch: 67   - Cost: 0.91     Valid Accuracy: 0.869\n",
      "Epoch: 68   - Cost: 0.906    Valid Accuracy: 0.87 \n",
      "Epoch: 69   - Cost: 0.901    Valid Accuracy: 0.871\n",
      "Epoch: 70   - Cost: 0.896    Valid Accuracy: 0.871\n",
      "Epoch: 71   - Cost: 0.892    Valid Accuracy: 0.872\n",
      "Epoch: 72   - Cost: 0.888    Valid Accuracy: 0.872\n",
      "Epoch: 73   - Cost: 0.883    Valid Accuracy: 0.873\n",
      "Epoch: 74   - Cost: 0.879    Valid Accuracy: 0.873\n",
      "Epoch: 75   - Cost: 0.875    Valid Accuracy: 0.873\n",
      "Epoch: 76   - Cost: 0.871    Valid Accuracy: 0.873\n",
      "Epoch: 77   - Cost: 0.868    Valid Accuracy: 0.874\n",
      "Epoch: 78   - Cost: 0.864    Valid Accuracy: 0.874\n",
      "Epoch: 79   - Cost: 0.86     Valid Accuracy: 0.874\n",
      "Epoch: 80   - Cost: 0.857    Valid Accuracy: 0.875\n",
      "Epoch: 81   - Cost: 0.853    Valid Accuracy: 0.875\n",
      "Epoch: 82   - Cost: 0.85     Valid Accuracy: 0.876\n",
      "Epoch: 83   - Cost: 0.846    Valid Accuracy: 0.876\n",
      "Epoch: 84   - Cost: 0.843    Valid Accuracy: 0.877\n",
      "Epoch: 85   - Cost: 0.84     Valid Accuracy: 0.877\n",
      "Epoch: 86   - Cost: 0.837    Valid Accuracy: 0.877\n",
      "Epoch: 87   - Cost: 0.834    Valid Accuracy: 0.877\n",
      "Epoch: 88   - Cost: 0.831    Valid Accuracy: 0.878\n",
      "Epoch: 89   - Cost: 0.828    Valid Accuracy: 0.878\n",
      "Epoch: 90   - Cost: 0.825    Valid Accuracy: 0.879\n",
      "Epoch: 91   - Cost: 0.822    Valid Accuracy: 0.879\n",
      "Epoch: 92   - Cost: 0.819    Valid Accuracy: 0.879\n",
      "Epoch: 93   - Cost: 0.816    Valid Accuracy: 0.879\n",
      "Epoch: 94   - Cost: 0.814    Valid Accuracy: 0.88 \n",
      "Epoch: 95   - Cost: 0.811    Valid Accuracy: 0.88 \n",
      "Epoch: 96   - Cost: 0.808    Valid Accuracy: 0.88 \n",
      "Epoch: 97   - Cost: 0.806    Valid Accuracy: 0.88 \n",
      "Epoch: 98   - Cost: 0.803    Valid Accuracy: 0.88 \n",
      "Epoch: 99   - Cost: 0.801    Valid Accuracy: 0.881\n",
      "Test Accuracy: 0.8780001401901245\n"
     ]
    }
   ],
   "source": [
    "from tensorflow.examples.tutorials.mnist import input_data\n",
    "import tensorflow as tf\n",
    "import numpy as np\n",
    "#from helper import batches  # Helper function created in Mini-batching section\n",
    "\n",
    "\n",
    "def print_epoch_stats(epoch_i, sess, last_features, last_labels):\n",
    "    \"\"\"\n",
    "    Print cost and validation accuracy of an epoch\n",
    "    \"\"\"\n",
    "    current_cost = sess.run(\n",
    "        cost,\n",
    "        feed_dict={features: last_features, labels: last_labels})\n",
    "    valid_accuracy = sess.run(\n",
    "        accuracy,\n",
    "        feed_dict={features: valid_features, labels: valid_labels})\n",
    "    print('Epoch: {:<4} - Cost: {:<8.3} Valid Accuracy: {:<5.3}'.format(\n",
    "        epoch_i,\n",
    "        current_cost,\n",
    "        valid_accuracy))\n",
    "\n",
    "n_input = 784  # MNIST data input (img shape: 28*28)\n",
    "n_classes = 10  # MNIST total classes (0-9 digits)\n",
    "\n",
    "# Import MNIST data\n",
    "mnist = input_data.read_data_sets('/home/hnkulkarni/deep-learning/datasets/ud730/mnist', one_hot=True)\n",
    "\n",
    "# The features are already scaled and the data is shuffled\n",
    "train_features = mnist.train.images\n",
    "valid_features = mnist.validation.images\n",
    "test_features = mnist.test.images\n",
    "\n",
    "train_labels = mnist.train.labels.astype(np.float32)\n",
    "valid_labels = mnist.validation.labels.astype(np.float32)\n",
    "test_labels = mnist.test.labels.astype(np.float32)\n",
    "\n",
    "# Features and Labels\n",
    "features = tf.placeholder(tf.float32, [None, n_input])\n",
    "labels = tf.placeholder(tf.float32, [None, n_classes])\n",
    "\n",
    "# Weights & bias\n",
    "weights = tf.Variable(tf.random_normal([n_input, n_classes]))\n",
    "bias = tf.Variable(tf.random_normal([n_classes]))\n",
    "\n",
    "# Logits - xW + b\n",
    "logits = tf.add(tf.matmul(features, weights), bias)\n",
    "\n",
    "# Define loss and optimizer\n",
    "learning_rate = tf.placeholder(tf.float32)\n",
    "cost = tf.reduce_mean(tf.nn.softmax_cross_entropy_with_logits(logits=logits, labels=labels))\n",
    "optimizer = tf.train.GradientDescentOptimizer(learning_rate=learning_rate).minimize(cost)\n",
    "\n",
    "# Calculate accuracy\n",
    "correct_prediction = tf.equal(tf.argmax(logits, 1), tf.argmax(labels, 1))\n",
    "accuracy = tf.reduce_mean(tf.cast(correct_prediction, tf.float32))\n",
    "\n",
    "init = tf.global_variables_initializer()\n",
    "\n",
    "batch_size = 128\n",
    "epochs = 100\n",
    "learn_rate = 0.01\n",
    "\n",
    "train_batches = batches(batch_size, train_features, train_labels)\n",
    "\n",
    "with tf.Session() as sess:\n",
    "    sess.run(init)\n",
    "\n",
    "    # Training cycle\n",
    "    for epoch_i in range(epochs):\n",
    "\n",
    "        # Loop over all batches\n",
    "        for batch_features, batch_labels in train_batches:\n",
    "            train_feed_dict = {\n",
    "                features: batch_features,\n",
    "                labels: batch_labels,\n",
    "                learning_rate: learn_rate}\n",
    "            sess.run(optimizer, feed_dict=train_feed_dict)\n",
    "\n",
    "        # Print cost and validation accuracy of an epoch\n",
    "        print_epoch_stats(epoch_i, sess, batch_features, batch_labels)\n",
    "\n",
    "    # Calculate accuracy for test dataset\n",
    "    test_accuracy = sess.run(\n",
    "        accuracy,\n",
    "        feed_dict={features: test_features, labels: test_labels})\n",
    "\n",
    "print('Test Accuracy: {}'.format(test_accuracy))"
   ]
  },
  {
   "cell_type": "code",
   "execution_count": null,
   "metadata": {
    "collapsed": true
   },
   "outputs": [],
   "source": []
  }
 ],
 "metadata": {
  "kernelspec": {
   "display_name": "Python 3",
   "language": "python",
   "name": "python3"
  },
  "language_info": {
   "codemirror_mode": {
    "name": "ipython",
    "version": 3
   },
   "file_extension": ".py",
   "mimetype": "text/x-python",
   "name": "python",
   "nbconvert_exporter": "python",
   "pygments_lexer": "ipython3",
   "version": "3.5.2+"
  }
 },
 "nbformat": 4,
 "nbformat_minor": 2
}
